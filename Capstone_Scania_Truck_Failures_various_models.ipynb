{
  "cells": [
    {
      "cell_type": "code",
      "execution_count": 1,
      "metadata": {
        "id": "RQzQOKsWN56V"
      },
      "outputs": [],
      "source": [
        "import pandas as pd\n",
        "import numpy as np\n",
        "import matplotlib.pyplot as plt\n"
      ]
    },
    {
      "cell_type": "code",
      "execution_count": 2,
      "metadata": {
        "id": "cq5k-aHEcSye"
      },
      "outputs": [],
      "source": [
        "data=pd.read_csv(\"/content/aps_scaina_truck.csv\")"
      ]
    },
    {
      "cell_type": "code",
      "execution_count": 3,
      "metadata": {
        "colab": {
          "base_uri": "https://localhost:8080/"
        },
        "id": "1w8O9dW0cSTf",
        "outputId": "dd9c9ad1-3a2f-45c7-b975-5cf003843b4f"
      },
      "outputs": [
        {
          "output_type": "execute_result",
          "data": {
            "text/plain": [
              "(20003, 48)"
            ]
          },
          "metadata": {},
          "execution_count": 3
        }
      ],
      "source": [
        "data.shape"
      ]
    },
    {
      "cell_type": "code",
      "execution_count": 4,
      "metadata": {
        "colab": {
          "base_uri": "https://localhost:8080/",
          "height": 350
        },
        "id": "5pOFhG1ac4UG",
        "outputId": "d5fa5e22-4824-4be0-f4a3-8555d601dc41"
      },
      "outputs": [
        {
          "output_type": "execute_result",
          "data": {
            "text/plain": [
              "             aa_000        ag_004        ag_005        ag_006        ag_007  \\\n",
              "count  2.000300e+04  1.975400e+04  1.975400e+04  1.975400e+04  1.975400e+04   \n",
              "mean   6.018110e+04  4.333176e+05  1.119388e+06  1.688338e+06  5.107587e+05   \n",
              "std    1.474970e+05  2.174903e+06  3.226085e+06  4.059035e+06  1.511548e+06   \n",
              "min    0.000000e+00  0.000000e+00  0.000000e+00  0.000000e+00  0.000000e+00   \n",
              "25%    9.100000e+02  3.140000e+02  1.462650e+04  1.149450e+04  0.000000e+00   \n",
              "50%    3.091600e+04  3.796000e+03  1.842920e+05  9.512240e+05  1.211160e+05   \n",
              "75%    4.909400e+04  5.103900e+04  9.317220e+05  1.889796e+06  5.904090e+05   \n",
              "max    2.746564e+06  5.396293e+07  7.132792e+07  7.606594e+07  4.502014e+07   \n",
              "\n",
              "             ah_000        an_000        ao_000        ap_000        aq_000  \\\n",
              "count  1.977000e+04  1.977000e+04  1.978800e+04  1.977000e+04  1.978800e+04   \n",
              "mean   1.834470e+06  3.505510e+06  3.035007e+06  1.014253e+06  4.509307e+05   \n",
              "std    4.249132e+06  7.878039e+06  6.855229e+06  3.111447e+06  1.288805e+06   \n",
              "min    0.000000e+00  0.000000e+00  0.000000e+00  0.000000e+00  0.000000e+00   \n",
              "25%    3.176900e+04  7.650650e+04  6.938900e+04  2.561700e+04  4.394500e+03   \n",
              "50%    1.009902e+06  1.930014e+06  1.650060e+06  3.644830e+05  1.825540e+05   \n",
              "75%    1.604976e+06  3.140544e+06  2.688795e+06  7.332185e+05  3.814230e+05   \n",
              "max    5.464798e+07  1.053127e+08  9.936710e+07  7.793494e+07  2.556265e+07   \n",
              "\n",
              "       ...        bx_000        by_000        bz_000        cs_004  \\\n",
              "count  ...  1.885600e+04  1.982800e+04  1.903400e+04  1.975500e+04   \n",
              "mean   ...  4.193984e+06  2.232761e+04  1.028117e+05  4.579859e+05   \n",
              "std    ...  1.056000e+07  5.484329e+04  6.001309e+05  2.092871e+06   \n",
              "min    ...  1.720000e+02  0.000000e+00  0.000000e+00  0.000000e+00   \n",
              "25%    ...  9.292850e+04  2.330000e+02  8.000000e+00  2.862000e+03   \n",
              "50%    ...  2.282727e+06  1.281600e+04  1.063000e+03  9.167000e+04   \n",
              "75%    ...  3.678790e+06  2.031575e+04  1.365550e+04  2.086180e+05   \n",
              "max    ...  1.574036e+08  1.002003e+06  2.024167e+07  7.486063e+07   \n",
              "\n",
              "             cs_005        cs_006        de_000        dn_000        do_000  \\\n",
              "count  1.975500e+04  1.975500e+04  19034.000000  1.974600e+04  1.903400e+04   \n",
              "mean   2.254664e+06  5.487466e+05    372.727435  3.432082e+04  2.910676e+04   \n",
              "std    5.469834e+06  1.229662e+06   1352.014578  9.926558e+04  6.668163e+04   \n",
              "min    0.000000e+00  0.000000e+00      0.000000  0.000000e+00  0.000000e+00   \n",
              "25%    2.094900e+04  1.493300e+04     66.000000  6.745000e+02  2.600000e+01   \n",
              "50%    1.229116e+06  2.445980e+05    144.000000  1.458000e+04  1.070300e+04   \n",
              "75%    2.043392e+06  6.876190e+05    298.000000  2.741750e+04  3.760200e+04   \n",
              "max    8.644575e+07  7.374197e+07  57588.000000  2.539696e+06  1.874542e+06   \n",
              "\n",
              "              dp_000  \n",
              "count   19034.000000  \n",
              "mean     7114.725859  \n",
              "std     15024.532233  \n",
              "min         0.000000  \n",
              "25%         6.000000  \n",
              "50%      2592.000000  \n",
              "75%      8350.000000  \n",
              "max    348118.000000  \n",
              "\n",
              "[8 rows x 47 columns]"
            ],
            "text/html": [
              "\n",
              "  <div id=\"df-ea173955-da7d-483a-982e-c9db48fbbba6\" class=\"colab-df-container\">\n",
              "    <div>\n",
              "<style scoped>\n",
              "    .dataframe tbody tr th:only-of-type {\n",
              "        vertical-align: middle;\n",
              "    }\n",
              "\n",
              "    .dataframe tbody tr th {\n",
              "        vertical-align: top;\n",
              "    }\n",
              "\n",
              "    .dataframe thead th {\n",
              "        text-align: right;\n",
              "    }\n",
              "</style>\n",
              "<table border=\"1\" class=\"dataframe\">\n",
              "  <thead>\n",
              "    <tr style=\"text-align: right;\">\n",
              "      <th></th>\n",
              "      <th>aa_000</th>\n",
              "      <th>ag_004</th>\n",
              "      <th>ag_005</th>\n",
              "      <th>ag_006</th>\n",
              "      <th>ag_007</th>\n",
              "      <th>ah_000</th>\n",
              "      <th>an_000</th>\n",
              "      <th>ao_000</th>\n",
              "      <th>ap_000</th>\n",
              "      <th>aq_000</th>\n",
              "      <th>...</th>\n",
              "      <th>bx_000</th>\n",
              "      <th>by_000</th>\n",
              "      <th>bz_000</th>\n",
              "      <th>cs_004</th>\n",
              "      <th>cs_005</th>\n",
              "      <th>cs_006</th>\n",
              "      <th>de_000</th>\n",
              "      <th>dn_000</th>\n",
              "      <th>do_000</th>\n",
              "      <th>dp_000</th>\n",
              "    </tr>\n",
              "  </thead>\n",
              "  <tbody>\n",
              "    <tr>\n",
              "      <th>count</th>\n",
              "      <td>2.000300e+04</td>\n",
              "      <td>1.975400e+04</td>\n",
              "      <td>1.975400e+04</td>\n",
              "      <td>1.975400e+04</td>\n",
              "      <td>1.975400e+04</td>\n",
              "      <td>1.977000e+04</td>\n",
              "      <td>1.977000e+04</td>\n",
              "      <td>1.978800e+04</td>\n",
              "      <td>1.977000e+04</td>\n",
              "      <td>1.978800e+04</td>\n",
              "      <td>...</td>\n",
              "      <td>1.885600e+04</td>\n",
              "      <td>1.982800e+04</td>\n",
              "      <td>1.903400e+04</td>\n",
              "      <td>1.975500e+04</td>\n",
              "      <td>1.975500e+04</td>\n",
              "      <td>1.975500e+04</td>\n",
              "      <td>19034.000000</td>\n",
              "      <td>1.974600e+04</td>\n",
              "      <td>1.903400e+04</td>\n",
              "      <td>19034.000000</td>\n",
              "    </tr>\n",
              "    <tr>\n",
              "      <th>mean</th>\n",
              "      <td>6.018110e+04</td>\n",
              "      <td>4.333176e+05</td>\n",
              "      <td>1.119388e+06</td>\n",
              "      <td>1.688338e+06</td>\n",
              "      <td>5.107587e+05</td>\n",
              "      <td>1.834470e+06</td>\n",
              "      <td>3.505510e+06</td>\n",
              "      <td>3.035007e+06</td>\n",
              "      <td>1.014253e+06</td>\n",
              "      <td>4.509307e+05</td>\n",
              "      <td>...</td>\n",
              "      <td>4.193984e+06</td>\n",
              "      <td>2.232761e+04</td>\n",
              "      <td>1.028117e+05</td>\n",
              "      <td>4.579859e+05</td>\n",
              "      <td>2.254664e+06</td>\n",
              "      <td>5.487466e+05</td>\n",
              "      <td>372.727435</td>\n",
              "      <td>3.432082e+04</td>\n",
              "      <td>2.910676e+04</td>\n",
              "      <td>7114.725859</td>\n",
              "    </tr>\n",
              "    <tr>\n",
              "      <th>std</th>\n",
              "      <td>1.474970e+05</td>\n",
              "      <td>2.174903e+06</td>\n",
              "      <td>3.226085e+06</td>\n",
              "      <td>4.059035e+06</td>\n",
              "      <td>1.511548e+06</td>\n",
              "      <td>4.249132e+06</td>\n",
              "      <td>7.878039e+06</td>\n",
              "      <td>6.855229e+06</td>\n",
              "      <td>3.111447e+06</td>\n",
              "      <td>1.288805e+06</td>\n",
              "      <td>...</td>\n",
              "      <td>1.056000e+07</td>\n",
              "      <td>5.484329e+04</td>\n",
              "      <td>6.001309e+05</td>\n",
              "      <td>2.092871e+06</td>\n",
              "      <td>5.469834e+06</td>\n",
              "      <td>1.229662e+06</td>\n",
              "      <td>1352.014578</td>\n",
              "      <td>9.926558e+04</td>\n",
              "      <td>6.668163e+04</td>\n",
              "      <td>15024.532233</td>\n",
              "    </tr>\n",
              "    <tr>\n",
              "      <th>min</th>\n",
              "      <td>0.000000e+00</td>\n",
              "      <td>0.000000e+00</td>\n",
              "      <td>0.000000e+00</td>\n",
              "      <td>0.000000e+00</td>\n",
              "      <td>0.000000e+00</td>\n",
              "      <td>0.000000e+00</td>\n",
              "      <td>0.000000e+00</td>\n",
              "      <td>0.000000e+00</td>\n",
              "      <td>0.000000e+00</td>\n",
              "      <td>0.000000e+00</td>\n",
              "      <td>...</td>\n",
              "      <td>1.720000e+02</td>\n",
              "      <td>0.000000e+00</td>\n",
              "      <td>0.000000e+00</td>\n",
              "      <td>0.000000e+00</td>\n",
              "      <td>0.000000e+00</td>\n",
              "      <td>0.000000e+00</td>\n",
              "      <td>0.000000</td>\n",
              "      <td>0.000000e+00</td>\n",
              "      <td>0.000000e+00</td>\n",
              "      <td>0.000000</td>\n",
              "    </tr>\n",
              "    <tr>\n",
              "      <th>25%</th>\n",
              "      <td>9.100000e+02</td>\n",
              "      <td>3.140000e+02</td>\n",
              "      <td>1.462650e+04</td>\n",
              "      <td>1.149450e+04</td>\n",
              "      <td>0.000000e+00</td>\n",
              "      <td>3.176900e+04</td>\n",
              "      <td>7.650650e+04</td>\n",
              "      <td>6.938900e+04</td>\n",
              "      <td>2.561700e+04</td>\n",
              "      <td>4.394500e+03</td>\n",
              "      <td>...</td>\n",
              "      <td>9.292850e+04</td>\n",
              "      <td>2.330000e+02</td>\n",
              "      <td>8.000000e+00</td>\n",
              "      <td>2.862000e+03</td>\n",
              "      <td>2.094900e+04</td>\n",
              "      <td>1.493300e+04</td>\n",
              "      <td>66.000000</td>\n",
              "      <td>6.745000e+02</td>\n",
              "      <td>2.600000e+01</td>\n",
              "      <td>6.000000</td>\n",
              "    </tr>\n",
              "    <tr>\n",
              "      <th>50%</th>\n",
              "      <td>3.091600e+04</td>\n",
              "      <td>3.796000e+03</td>\n",
              "      <td>1.842920e+05</td>\n",
              "      <td>9.512240e+05</td>\n",
              "      <td>1.211160e+05</td>\n",
              "      <td>1.009902e+06</td>\n",
              "      <td>1.930014e+06</td>\n",
              "      <td>1.650060e+06</td>\n",
              "      <td>3.644830e+05</td>\n",
              "      <td>1.825540e+05</td>\n",
              "      <td>...</td>\n",
              "      <td>2.282727e+06</td>\n",
              "      <td>1.281600e+04</td>\n",
              "      <td>1.063000e+03</td>\n",
              "      <td>9.167000e+04</td>\n",
              "      <td>1.229116e+06</td>\n",
              "      <td>2.445980e+05</td>\n",
              "      <td>144.000000</td>\n",
              "      <td>1.458000e+04</td>\n",
              "      <td>1.070300e+04</td>\n",
              "      <td>2592.000000</td>\n",
              "    </tr>\n",
              "    <tr>\n",
              "      <th>75%</th>\n",
              "      <td>4.909400e+04</td>\n",
              "      <td>5.103900e+04</td>\n",
              "      <td>9.317220e+05</td>\n",
              "      <td>1.889796e+06</td>\n",
              "      <td>5.904090e+05</td>\n",
              "      <td>1.604976e+06</td>\n",
              "      <td>3.140544e+06</td>\n",
              "      <td>2.688795e+06</td>\n",
              "      <td>7.332185e+05</td>\n",
              "      <td>3.814230e+05</td>\n",
              "      <td>...</td>\n",
              "      <td>3.678790e+06</td>\n",
              "      <td>2.031575e+04</td>\n",
              "      <td>1.365550e+04</td>\n",
              "      <td>2.086180e+05</td>\n",
              "      <td>2.043392e+06</td>\n",
              "      <td>6.876190e+05</td>\n",
              "      <td>298.000000</td>\n",
              "      <td>2.741750e+04</td>\n",
              "      <td>3.760200e+04</td>\n",
              "      <td>8350.000000</td>\n",
              "    </tr>\n",
              "    <tr>\n",
              "      <th>max</th>\n",
              "      <td>2.746564e+06</td>\n",
              "      <td>5.396293e+07</td>\n",
              "      <td>7.132792e+07</td>\n",
              "      <td>7.606594e+07</td>\n",
              "      <td>4.502014e+07</td>\n",
              "      <td>5.464798e+07</td>\n",
              "      <td>1.053127e+08</td>\n",
              "      <td>9.936710e+07</td>\n",
              "      <td>7.793494e+07</td>\n",
              "      <td>2.556265e+07</td>\n",
              "      <td>...</td>\n",
              "      <td>1.574036e+08</td>\n",
              "      <td>1.002003e+06</td>\n",
              "      <td>2.024167e+07</td>\n",
              "      <td>7.486063e+07</td>\n",
              "      <td>8.644575e+07</td>\n",
              "      <td>7.374197e+07</td>\n",
              "      <td>57588.000000</td>\n",
              "      <td>2.539696e+06</td>\n",
              "      <td>1.874542e+06</td>\n",
              "      <td>348118.000000</td>\n",
              "    </tr>\n",
              "  </tbody>\n",
              "</table>\n",
              "<p>8 rows × 47 columns</p>\n",
              "</div>\n",
              "    <div class=\"colab-df-buttons\">\n",
              "\n",
              "  <div class=\"colab-df-container\">\n",
              "    <button class=\"colab-df-convert\" onclick=\"convertToInteractive('df-ea173955-da7d-483a-982e-c9db48fbbba6')\"\n",
              "            title=\"Convert this dataframe to an interactive table.\"\n",
              "            style=\"display:none;\">\n",
              "\n",
              "  <svg xmlns=\"http://www.w3.org/2000/svg\" height=\"24px\" viewBox=\"0 -960 960 960\">\n",
              "    <path d=\"M120-120v-720h720v720H120Zm60-500h600v-160H180v160Zm220 220h160v-160H400v160Zm0 220h160v-160H400v160ZM180-400h160v-160H180v160Zm440 0h160v-160H620v160ZM180-180h160v-160H180v160Zm440 0h160v-160H620v160Z\"/>\n",
              "  </svg>\n",
              "    </button>\n",
              "\n",
              "  <style>\n",
              "    .colab-df-container {\n",
              "      display:flex;\n",
              "      gap: 12px;\n",
              "    }\n",
              "\n",
              "    .colab-df-convert {\n",
              "      background-color: #E8F0FE;\n",
              "      border: none;\n",
              "      border-radius: 50%;\n",
              "      cursor: pointer;\n",
              "      display: none;\n",
              "      fill: #1967D2;\n",
              "      height: 32px;\n",
              "      padding: 0 0 0 0;\n",
              "      width: 32px;\n",
              "    }\n",
              "\n",
              "    .colab-df-convert:hover {\n",
              "      background-color: #E2EBFA;\n",
              "      box-shadow: 0px 1px 2px rgba(60, 64, 67, 0.3), 0px 1px 3px 1px rgba(60, 64, 67, 0.15);\n",
              "      fill: #174EA6;\n",
              "    }\n",
              "\n",
              "    .colab-df-buttons div {\n",
              "      margin-bottom: 4px;\n",
              "    }\n",
              "\n",
              "    [theme=dark] .colab-df-convert {\n",
              "      background-color: #3B4455;\n",
              "      fill: #D2E3FC;\n",
              "    }\n",
              "\n",
              "    [theme=dark] .colab-df-convert:hover {\n",
              "      background-color: #434B5C;\n",
              "      box-shadow: 0px 1px 3px 1px rgba(0, 0, 0, 0.15);\n",
              "      filter: drop-shadow(0px 1px 2px rgba(0, 0, 0, 0.3));\n",
              "      fill: #FFFFFF;\n",
              "    }\n",
              "  </style>\n",
              "\n",
              "    <script>\n",
              "      const buttonEl =\n",
              "        document.querySelector('#df-ea173955-da7d-483a-982e-c9db48fbbba6 button.colab-df-convert');\n",
              "      buttonEl.style.display =\n",
              "        google.colab.kernel.accessAllowed ? 'block' : 'none';\n",
              "\n",
              "      async function convertToInteractive(key) {\n",
              "        const element = document.querySelector('#df-ea173955-da7d-483a-982e-c9db48fbbba6');\n",
              "        const dataTable =\n",
              "          await google.colab.kernel.invokeFunction('convertToInteractive',\n",
              "                                                    [key], {});\n",
              "        if (!dataTable) return;\n",
              "\n",
              "        const docLinkHtml = 'Like what you see? Visit the ' +\n",
              "          '<a target=\"_blank\" href=https://colab.research.google.com/notebooks/data_table.ipynb>data table notebook</a>'\n",
              "          + ' to learn more about interactive tables.';\n",
              "        element.innerHTML = '';\n",
              "        dataTable['output_type'] = 'display_data';\n",
              "        await google.colab.output.renderOutput(dataTable, element);\n",
              "        const docLink = document.createElement('div');\n",
              "        docLink.innerHTML = docLinkHtml;\n",
              "        element.appendChild(docLink);\n",
              "      }\n",
              "    </script>\n",
              "  </div>\n",
              "\n",
              "\n",
              "<div id=\"df-a25349bb-1a2a-4684-8541-6d3df82eaf21\">\n",
              "  <button class=\"colab-df-quickchart\" onclick=\"quickchart('df-a25349bb-1a2a-4684-8541-6d3df82eaf21')\"\n",
              "            title=\"Suggest charts\"\n",
              "            style=\"display:none;\">\n",
              "\n",
              "<svg xmlns=\"http://www.w3.org/2000/svg\" height=\"24px\"viewBox=\"0 0 24 24\"\n",
              "     width=\"24px\">\n",
              "    <g>\n",
              "        <path d=\"M19 3H5c-1.1 0-2 .9-2 2v14c0 1.1.9 2 2 2h14c1.1 0 2-.9 2-2V5c0-1.1-.9-2-2-2zM9 17H7v-7h2v7zm4 0h-2V7h2v10zm4 0h-2v-4h2v4z\"/>\n",
              "    </g>\n",
              "</svg>\n",
              "  </button>\n",
              "\n",
              "<style>\n",
              "  .colab-df-quickchart {\n",
              "      --bg-color: #E8F0FE;\n",
              "      --fill-color: #1967D2;\n",
              "      --hover-bg-color: #E2EBFA;\n",
              "      --hover-fill-color: #174EA6;\n",
              "      --disabled-fill-color: #AAA;\n",
              "      --disabled-bg-color: #DDD;\n",
              "  }\n",
              "\n",
              "  [theme=dark] .colab-df-quickchart {\n",
              "      --bg-color: #3B4455;\n",
              "      --fill-color: #D2E3FC;\n",
              "      --hover-bg-color: #434B5C;\n",
              "      --hover-fill-color: #FFFFFF;\n",
              "      --disabled-bg-color: #3B4455;\n",
              "      --disabled-fill-color: #666;\n",
              "  }\n",
              "\n",
              "  .colab-df-quickchart {\n",
              "    background-color: var(--bg-color);\n",
              "    border: none;\n",
              "    border-radius: 50%;\n",
              "    cursor: pointer;\n",
              "    display: none;\n",
              "    fill: var(--fill-color);\n",
              "    height: 32px;\n",
              "    padding: 0;\n",
              "    width: 32px;\n",
              "  }\n",
              "\n",
              "  .colab-df-quickchart:hover {\n",
              "    background-color: var(--hover-bg-color);\n",
              "    box-shadow: 0 1px 2px rgba(60, 64, 67, 0.3), 0 1px 3px 1px rgba(60, 64, 67, 0.15);\n",
              "    fill: var(--button-hover-fill-color);\n",
              "  }\n",
              "\n",
              "  .colab-df-quickchart-complete:disabled,\n",
              "  .colab-df-quickchart-complete:disabled:hover {\n",
              "    background-color: var(--disabled-bg-color);\n",
              "    fill: var(--disabled-fill-color);\n",
              "    box-shadow: none;\n",
              "  }\n",
              "\n",
              "  .colab-df-spinner {\n",
              "    border: 2px solid var(--fill-color);\n",
              "    border-color: transparent;\n",
              "    border-bottom-color: var(--fill-color);\n",
              "    animation:\n",
              "      spin 1s steps(1) infinite;\n",
              "  }\n",
              "\n",
              "  @keyframes spin {\n",
              "    0% {\n",
              "      border-color: transparent;\n",
              "      border-bottom-color: var(--fill-color);\n",
              "      border-left-color: var(--fill-color);\n",
              "    }\n",
              "    20% {\n",
              "      border-color: transparent;\n",
              "      border-left-color: var(--fill-color);\n",
              "      border-top-color: var(--fill-color);\n",
              "    }\n",
              "    30% {\n",
              "      border-color: transparent;\n",
              "      border-left-color: var(--fill-color);\n",
              "      border-top-color: var(--fill-color);\n",
              "      border-right-color: var(--fill-color);\n",
              "    }\n",
              "    40% {\n",
              "      border-color: transparent;\n",
              "      border-right-color: var(--fill-color);\n",
              "      border-top-color: var(--fill-color);\n",
              "    }\n",
              "    60% {\n",
              "      border-color: transparent;\n",
              "      border-right-color: var(--fill-color);\n",
              "    }\n",
              "    80% {\n",
              "      border-color: transparent;\n",
              "      border-right-color: var(--fill-color);\n",
              "      border-bottom-color: var(--fill-color);\n",
              "    }\n",
              "    90% {\n",
              "      border-color: transparent;\n",
              "      border-bottom-color: var(--fill-color);\n",
              "    }\n",
              "  }\n",
              "</style>\n",
              "\n",
              "  <script>\n",
              "    async function quickchart(key) {\n",
              "      const quickchartButtonEl =\n",
              "        document.querySelector('#' + key + ' button');\n",
              "      quickchartButtonEl.disabled = true;  // To prevent multiple clicks.\n",
              "      quickchartButtonEl.classList.add('colab-df-spinner');\n",
              "      try {\n",
              "        const charts = await google.colab.kernel.invokeFunction(\n",
              "            'suggestCharts', [key], {});\n",
              "      } catch (error) {\n",
              "        console.error('Error during call to suggestCharts:', error);\n",
              "      }\n",
              "      quickchartButtonEl.classList.remove('colab-df-spinner');\n",
              "      quickchartButtonEl.classList.add('colab-df-quickchart-complete');\n",
              "    }\n",
              "    (() => {\n",
              "      let quickchartButtonEl =\n",
              "        document.querySelector('#df-a25349bb-1a2a-4684-8541-6d3df82eaf21 button');\n",
              "      quickchartButtonEl.style.display =\n",
              "        google.colab.kernel.accessAllowed ? 'block' : 'none';\n",
              "    })();\n",
              "  </script>\n",
              "</div>\n",
              "\n",
              "    </div>\n",
              "  </div>\n"
            ]
          },
          "metadata": {},
          "execution_count": 4
        }
      ],
      "source": [
        "data.describe()"
      ]
    },
    {
      "cell_type": "code",
      "execution_count": 5,
      "metadata": {
        "colab": {
          "base_uri": "https://localhost:8080/"
        },
        "id": "tdBIErNtcm6h",
        "outputId": "1ac6ef28-a619-44f0-efeb-889d7dcf494a"
      },
      "outputs": [
        {
          "output_type": "execute_result",
          "data": {
            "text/plain": [
              "class        0\n",
              "aa_000       0\n",
              "ag_004     249\n",
              "ag_005     249\n",
              "ag_006     249\n",
              "ag_007     249\n",
              "ah_000     233\n",
              "an_000     233\n",
              "ao_000     215\n",
              "ap_000     233\n",
              "aq_000     215\n",
              "ay_006     250\n",
              "ay_007     250\n",
              "ay_008     250\n",
              "az_000     250\n",
              "az_001     250\n",
              "az_002     250\n",
              "az_003     250\n",
              "az_004     250\n",
              "az_005     250\n",
              "az_006     250\n",
              "ba_000     258\n",
              "ba_001     258\n",
              "ba_002     258\n",
              "ba_003     258\n",
              "ba_004     258\n",
              "ba_005     258\n",
              "ba_006     258\n",
              "ba_007     258\n",
              "bg_000     233\n",
              "bh_000     233\n",
              "bi_000     215\n",
              "bj_000     215\n",
              "bk_000    7565\n",
              "bs_000     270\n",
              "bt_000      72\n",
              "bu_000     257\n",
              "bv_000     257\n",
              "bx_000    1147\n",
              "by_000     175\n",
              "bz_000     969\n",
              "cs_004     248\n",
              "cs_005     248\n",
              "cs_006     248\n",
              "de_000     969\n",
              "dn_000     257\n",
              "do_000     969\n",
              "dp_000     969\n",
              "dtype: int64"
            ]
          },
          "metadata": {},
          "execution_count": 5
        }
      ],
      "source": [
        "data.isna().sum()"
      ]
    },
    {
      "cell_type": "code",
      "execution_count": 6,
      "metadata": {
        "id": "XXPFZisQcub_",
        "colab": {
          "base_uri": "https://localhost:8080/"
        },
        "outputId": "00ca21f3-d324-4ed5-94ba-70bf9ccbfe8b"
      },
      "outputs": [
        {
          "output_type": "stream",
          "name": "stderr",
          "text": [
            "<ipython-input-6-d85acd3950fb>:1: FutureWarning: The default value of numeric_only in DataFrame.mean is deprecated. In a future version, it will default to False. In addition, specifying 'numeric_only=None' is deprecated. Select only valid columns or specify the value of numeric_only to silence this warning.\n",
            "  data.fillna(data.mean(),inplace=True)\n"
          ]
        }
      ],
      "source": [
        "data.fillna(data.mean(),inplace=True)"
      ]
    },
    {
      "cell_type": "code",
      "execution_count": 7,
      "metadata": {
        "colab": {
          "base_uri": "https://localhost:8080/"
        },
        "id": "9Q4Cv8yedKL7",
        "outputId": "7767e455-abe1-44ae-bc65-f605c7739ed2"
      },
      "outputs": [
        {
          "output_type": "execute_result",
          "data": {
            "text/plain": [
              "class     0\n",
              "aa_000    0\n",
              "ag_004    0\n",
              "ag_005    0\n",
              "ag_006    0\n",
              "ag_007    0\n",
              "ah_000    0\n",
              "an_000    0\n",
              "ao_000    0\n",
              "ap_000    0\n",
              "aq_000    0\n",
              "ay_006    0\n",
              "ay_007    0\n",
              "ay_008    0\n",
              "az_000    0\n",
              "az_001    0\n",
              "az_002    0\n",
              "az_003    0\n",
              "az_004    0\n",
              "az_005    0\n",
              "az_006    0\n",
              "ba_000    0\n",
              "ba_001    0\n",
              "ba_002    0\n",
              "ba_003    0\n",
              "ba_004    0\n",
              "ba_005    0\n",
              "ba_006    0\n",
              "ba_007    0\n",
              "bg_000    0\n",
              "bh_000    0\n",
              "bi_000    0\n",
              "bj_000    0\n",
              "bk_000    0\n",
              "bs_000    0\n",
              "bt_000    0\n",
              "bu_000    0\n",
              "bv_000    0\n",
              "bx_000    0\n",
              "by_000    0\n",
              "bz_000    0\n",
              "cs_004    0\n",
              "cs_005    0\n",
              "cs_006    0\n",
              "de_000    0\n",
              "dn_000    0\n",
              "do_000    0\n",
              "dp_000    0\n",
              "dtype: int64"
            ]
          },
          "metadata": {},
          "execution_count": 7
        }
      ],
      "source": [
        "data.isna().sum()"
      ]
    },
    {
      "cell_type": "code",
      "execution_count": 8,
      "metadata": {
        "id": "V4YJCjFEdJS0"
      },
      "outputs": [],
      "source": [
        "from sklearn.preprocessing import OrdinalEncoder"
      ]
    },
    {
      "cell_type": "code",
      "execution_count": 9,
      "metadata": {
        "id": "M_m_HpoFdJDM"
      },
      "outputs": [],
      "source": [
        "oe = OrdinalEncoder()"
      ]
    },
    {
      "cell_type": "code",
      "execution_count": 10,
      "metadata": {
        "id": "q36qB_sxd3-B"
      },
      "outputs": [],
      "source": [
        "object_columns = [\"class\"]"
      ]
    },
    {
      "cell_type": "code",
      "execution_count": 11,
      "metadata": {
        "colab": {
          "base_uri": "https://localhost:8080/",
          "height": 75
        },
        "id": "RJNR5Fird32l",
        "outputId": "24e7722f-2040-4dbd-a0cc-1893d704e96a"
      },
      "outputs": [
        {
          "output_type": "execute_result",
          "data": {
            "text/plain": [
              "OrdinalEncoder()"
            ],
            "text/html": [
              "<style>#sk-container-id-1 {color: black;background-color: white;}#sk-container-id-1 pre{padding: 0;}#sk-container-id-1 div.sk-toggleable {background-color: white;}#sk-container-id-1 label.sk-toggleable__label {cursor: pointer;display: block;width: 100%;margin-bottom: 0;padding: 0.3em;box-sizing: border-box;text-align: center;}#sk-container-id-1 label.sk-toggleable__label-arrow:before {content: \"▸\";float: left;margin-right: 0.25em;color: #696969;}#sk-container-id-1 label.sk-toggleable__label-arrow:hover:before {color: black;}#sk-container-id-1 div.sk-estimator:hover label.sk-toggleable__label-arrow:before {color: black;}#sk-container-id-1 div.sk-toggleable__content {max-height: 0;max-width: 0;overflow: hidden;text-align: left;background-color: #f0f8ff;}#sk-container-id-1 div.sk-toggleable__content pre {margin: 0.2em;color: black;border-radius: 0.25em;background-color: #f0f8ff;}#sk-container-id-1 input.sk-toggleable__control:checked~div.sk-toggleable__content {max-height: 200px;max-width: 100%;overflow: auto;}#sk-container-id-1 input.sk-toggleable__control:checked~label.sk-toggleable__label-arrow:before {content: \"▾\";}#sk-container-id-1 div.sk-estimator input.sk-toggleable__control:checked~label.sk-toggleable__label {background-color: #d4ebff;}#sk-container-id-1 div.sk-label input.sk-toggleable__control:checked~label.sk-toggleable__label {background-color: #d4ebff;}#sk-container-id-1 input.sk-hidden--visually {border: 0;clip: rect(1px 1px 1px 1px);clip: rect(1px, 1px, 1px, 1px);height: 1px;margin: -1px;overflow: hidden;padding: 0;position: absolute;width: 1px;}#sk-container-id-1 div.sk-estimator {font-family: monospace;background-color: #f0f8ff;border: 1px dotted black;border-radius: 0.25em;box-sizing: border-box;margin-bottom: 0.5em;}#sk-container-id-1 div.sk-estimator:hover {background-color: #d4ebff;}#sk-container-id-1 div.sk-parallel-item::after {content: \"\";width: 100%;border-bottom: 1px solid gray;flex-grow: 1;}#sk-container-id-1 div.sk-label:hover label.sk-toggleable__label {background-color: #d4ebff;}#sk-container-id-1 div.sk-serial::before {content: \"\";position: absolute;border-left: 1px solid gray;box-sizing: border-box;top: 0;bottom: 0;left: 50%;z-index: 0;}#sk-container-id-1 div.sk-serial {display: flex;flex-direction: column;align-items: center;background-color: white;padding-right: 0.2em;padding-left: 0.2em;position: relative;}#sk-container-id-1 div.sk-item {position: relative;z-index: 1;}#sk-container-id-1 div.sk-parallel {display: flex;align-items: stretch;justify-content: center;background-color: white;position: relative;}#sk-container-id-1 div.sk-item::before, #sk-container-id-1 div.sk-parallel-item::before {content: \"\";position: absolute;border-left: 1px solid gray;box-sizing: border-box;top: 0;bottom: 0;left: 50%;z-index: -1;}#sk-container-id-1 div.sk-parallel-item {display: flex;flex-direction: column;z-index: 1;position: relative;background-color: white;}#sk-container-id-1 div.sk-parallel-item:first-child::after {align-self: flex-end;width: 50%;}#sk-container-id-1 div.sk-parallel-item:last-child::after {align-self: flex-start;width: 50%;}#sk-container-id-1 div.sk-parallel-item:only-child::after {width: 0;}#sk-container-id-1 div.sk-dashed-wrapped {border: 1px dashed gray;margin: 0 0.4em 0.5em 0.4em;box-sizing: border-box;padding-bottom: 0.4em;background-color: white;}#sk-container-id-1 div.sk-label label {font-family: monospace;font-weight: bold;display: inline-block;line-height: 1.2em;}#sk-container-id-1 div.sk-label-container {text-align: center;}#sk-container-id-1 div.sk-container {/* jupyter's `normalize.less` sets `[hidden] { display: none; }` but bootstrap.min.css set `[hidden] { display: none !important; }` so we also need the `!important` here to be able to override the default hidden behavior on the sphinx rendered scikit-learn.org. See: https://github.com/scikit-learn/scikit-learn/issues/21755 */display: inline-block !important;position: relative;}#sk-container-id-1 div.sk-text-repr-fallback {display: none;}</style><div id=\"sk-container-id-1\" class=\"sk-top-container\"><div class=\"sk-text-repr-fallback\"><pre>OrdinalEncoder()</pre><b>In a Jupyter environment, please rerun this cell to show the HTML representation or trust the notebook. <br />On GitHub, the HTML representation is unable to render, please try loading this page with nbviewer.org.</b></div><div class=\"sk-container\" hidden><div class=\"sk-item\"><div class=\"sk-estimator sk-toggleable\"><input class=\"sk-toggleable__control sk-hidden--visually\" id=\"sk-estimator-id-1\" type=\"checkbox\" checked><label for=\"sk-estimator-id-1\" class=\"sk-toggleable__label sk-toggleable__label-arrow\">OrdinalEncoder</label><div class=\"sk-toggleable__content\"><pre>OrdinalEncoder()</pre></div></div></div></div></div>"
            ]
          },
          "metadata": {},
          "execution_count": 11
        }
      ],
      "source": [
        "oe.fit(data[object_columns])"
      ]
    },
    {
      "cell_type": "code",
      "execution_count": 12,
      "metadata": {
        "id": "9FLF8W1oeCFQ"
      },
      "outputs": [],
      "source": [
        "data[object_columns] = oe.transform(data[object_columns])"
      ]
    },
    {
      "cell_type": "code",
      "execution_count": 13,
      "metadata": {
        "colab": {
          "base_uri": "https://localhost:8080/"
        },
        "id": "waoIWZbeeB44",
        "outputId": "2eb62d68-8650-47b8-e09b-0b2ddd815d97"
      },
      "outputs": [
        {
          "output_type": "stream",
          "name": "stdout",
          "text": [
            "<class 'pandas.core.frame.DataFrame'>\n",
            "RangeIndex: 20003 entries, 0 to 20002\n",
            "Data columns (total 48 columns):\n",
            " #   Column  Non-Null Count  Dtype  \n",
            "---  ------  --------------  -----  \n",
            " 0   class   20003 non-null  float64\n",
            " 1   aa_000  20003 non-null  int64  \n",
            " 2   ag_004  20003 non-null  float64\n",
            " 3   ag_005  20003 non-null  float64\n",
            " 4   ag_006  20003 non-null  float64\n",
            " 5   ag_007  20003 non-null  float64\n",
            " 6   ah_000  20003 non-null  float64\n",
            " 7   an_000  20003 non-null  float64\n",
            " 8   ao_000  20003 non-null  float64\n",
            " 9   ap_000  20003 non-null  float64\n",
            " 10  aq_000  20003 non-null  float64\n",
            " 11  ay_006  20003 non-null  float64\n",
            " 12  ay_007  20003 non-null  float64\n",
            " 13  ay_008  20003 non-null  float64\n",
            " 14  az_000  20003 non-null  float64\n",
            " 15  az_001  20003 non-null  float64\n",
            " 16  az_002  20003 non-null  float64\n",
            " 17  az_003  20003 non-null  float64\n",
            " 18  az_004  20003 non-null  float64\n",
            " 19  az_005  20003 non-null  float64\n",
            " 20  az_006  20003 non-null  float64\n",
            " 21  ba_000  20003 non-null  float64\n",
            " 22  ba_001  20003 non-null  float64\n",
            " 23  ba_002  20003 non-null  float64\n",
            " 24  ba_003  20003 non-null  float64\n",
            " 25  ba_004  20003 non-null  float64\n",
            " 26  ba_005  20003 non-null  float64\n",
            " 27  ba_006  20003 non-null  float64\n",
            " 28  ba_007  20003 non-null  float64\n",
            " 29  bg_000  20003 non-null  float64\n",
            " 30  bh_000  20003 non-null  float64\n",
            " 31  bi_000  20003 non-null  float64\n",
            " 32  bj_000  20003 non-null  float64\n",
            " 33  bk_000  20003 non-null  float64\n",
            " 34  bs_000  20003 non-null  float64\n",
            " 35  bt_000  20003 non-null  float64\n",
            " 36  bu_000  20003 non-null  float64\n",
            " 37  bv_000  20003 non-null  float64\n",
            " 38  bx_000  20003 non-null  float64\n",
            " 39  by_000  20003 non-null  float64\n",
            " 40  bz_000  20003 non-null  float64\n",
            " 41  cs_004  20003 non-null  float64\n",
            " 42  cs_005  20003 non-null  float64\n",
            " 43  cs_006  20003 non-null  float64\n",
            " 44  de_000  20003 non-null  float64\n",
            " 45  dn_000  20003 non-null  float64\n",
            " 46  do_000  20003 non-null  float64\n",
            " 47  dp_000  20003 non-null  float64\n",
            "dtypes: float64(47), int64(1)\n",
            "memory usage: 7.3 MB\n"
          ]
        }
      ],
      "source": [
        "data.info()"
      ]
    },
    {
      "cell_type": "code",
      "execution_count": 14,
      "metadata": {
        "id": "mJX_ytWIeBsp"
      },
      "outputs": [],
      "source": [
        "#Splitting data"
      ]
    },
    {
      "cell_type": "code",
      "execution_count": 15,
      "metadata": {
        "id": "VOOhBZNtho2M"
      },
      "outputs": [],
      "source": [
        "x,y=data.drop(\"class\",axis=1),data[\"class\"]"
      ]
    },
    {
      "cell_type": "code",
      "execution_count": 16,
      "metadata": {
        "id": "MXr0hiH_hoso"
      },
      "outputs": [],
      "source": [
        "from sklearn.model_selection import train_test_split as tts"
      ]
    },
    {
      "cell_type": "code",
      "execution_count": 17,
      "metadata": {
        "id": "AFzATP8Ihoj0"
      },
      "outputs": [],
      "source": [
        "xtrain,xtest,ytrain,ytest=tts(x,y ,train_size=0.75,random_state=6)"
      ]
    },
    {
      "cell_type": "code",
      "execution_count": 18,
      "metadata": {
        "colab": {
          "base_uri": "https://localhost:8080/",
          "height": 444
        },
        "id": "Rm9KXi-mhoZ-",
        "outputId": "9c5dd77c-0c7b-4a94-b3eb-0b81f2ec4369"
      },
      "outputs": [
        {
          "output_type": "execute_result",
          "data": {
            "text/plain": [
              "        aa_000      ag_004      ag_005      ag_006      ag_007      ah_000  \\\n",
              "11152  1484492  28137860.0  36167904.0  11090932.0    723594.0  30538128.0   \n",
              "17764       10      2514.0      1436.0      1112.0         0.0       736.0   \n",
              "17804   372036   4341506.0   5566894.0   2301668.0    327770.0  10077724.0   \n",
              "12448     1220        96.0         0.0     55102.0     16776.0     36288.0   \n",
              "15095    45268     18616.0   1067660.0   1433694.0     50442.0   1336312.0   \n",
              "...        ...         ...         ...         ...         ...         ...   \n",
              "8527     31146         0.0         0.0         0.0         0.0   2702096.0   \n",
              "4714       524      3612.0     68088.0     10666.0         0.0     28416.0   \n",
              "10196   329814    178794.0   8204322.0  25315982.0  15695420.0  20064954.0   \n",
              "8419     35886       862.0    317216.0   1498086.0    523534.0   1041932.0   \n",
              "19145        8        22.0       926.0    114166.0         0.0      2300.0   \n",
              "\n",
              "           an_000      ao_000      ap_000      aq_000  ...      bx_000  \\\n",
              "11152  61416322.0  55863180.0  21599078.0   7504870.0  ...  85852808.0   \n",
              "17764     11222.0     10094.0     17182.0       392.0  ...     32376.0   \n",
              "17804  18385550.0  16780040.0   9461548.0   1851842.0  ...  35645216.0   \n",
              "12448     70308.0     66130.0      8826.0      2508.0  ...     85440.0   \n",
              "15095   2297312.0   2020830.0    421012.0    217040.0  ...   2719818.0   \n",
              "...           ...         ...         ...         ...  ...         ...   \n",
              "8527    6250434.0   5800248.0    882082.0    444120.0  ...       220.0   \n",
              "4714      85554.0     77758.0     12338.0      3884.0  ...     99660.0   \n",
              "10196  32275078.0  20649462.0  23140360.0  10444838.0  ...  54584842.0   \n",
              "8419    2109704.0   1815966.0    378214.0    250094.0  ...   2492900.0   \n",
              "19145      7088.0      4854.0      4894.0       256.0  ...    122618.0   \n",
              "\n",
              "         by_000         bz_000      cs_004      cs_005     cs_006  \\\n",
              "11152  456837.0  102811.720185  13383890.0  56875934.0  1753618.0   \n",
              "17764      27.0       0.000000         2.0       828.0     2764.0   \n",
              "17804   61757.0     436.000000   1230548.0   8708840.0  1072612.0   \n",
              "12448     256.0     692.000000      1252.0      7036.0    55196.0   \n",
              "15095   16382.0    3708.000000     80646.0   1408214.0   927298.0   \n",
              "...         ...            ...         ...         ...        ...   \n",
              "8527        0.0  153024.000000         0.0         0.0        0.0   \n",
              "4714      225.0     154.000000     16398.0     25370.0    24184.0   \n",
              "10196  264307.0  102811.720185  13000658.0  22077892.0   977664.0   \n",
              "8419    18019.0    1678.000000    141294.0   1774924.0   263390.0   \n",
              "19145    1203.0     166.000000      1430.0      1498.0     1636.0   \n",
              "\n",
              "            de_000    dn_000         do_000        dp_000  \n",
              "11152   372.727435  612912.0   29106.760219   7114.725859  \n",
              "17764    70.000000     180.0       0.000000      0.000000  \n",
              "17804  6656.000000  174848.0  113496.000000  22626.000000  \n",
              "12448    20.000000     316.0      90.000000     32.000000  \n",
              "15095   182.000000   19368.0   40304.000000   8616.000000  \n",
              "...            ...       ...            ...           ...  \n",
              "8527    308.000000   25838.0       0.000000      0.000000  \n",
              "4714     22.000000     608.0       0.000000      0.000000  \n",
              "10196   372.727435  829446.0   29106.760219   7114.725859  \n",
              "8419     54.000000   15776.0   92326.000000  14194.000000  \n",
              "19145    86.000000     200.0       0.000000      0.000000  \n",
              "\n",
              "[15002 rows x 47 columns]"
            ],
            "text/html": [
              "\n",
              "  <div id=\"df-b063f6b0-b1a0-43c4-89e3-cb3d4573cd26\" class=\"colab-df-container\">\n",
              "    <div>\n",
              "<style scoped>\n",
              "    .dataframe tbody tr th:only-of-type {\n",
              "        vertical-align: middle;\n",
              "    }\n",
              "\n",
              "    .dataframe tbody tr th {\n",
              "        vertical-align: top;\n",
              "    }\n",
              "\n",
              "    .dataframe thead th {\n",
              "        text-align: right;\n",
              "    }\n",
              "</style>\n",
              "<table border=\"1\" class=\"dataframe\">\n",
              "  <thead>\n",
              "    <tr style=\"text-align: right;\">\n",
              "      <th></th>\n",
              "      <th>aa_000</th>\n",
              "      <th>ag_004</th>\n",
              "      <th>ag_005</th>\n",
              "      <th>ag_006</th>\n",
              "      <th>ag_007</th>\n",
              "      <th>ah_000</th>\n",
              "      <th>an_000</th>\n",
              "      <th>ao_000</th>\n",
              "      <th>ap_000</th>\n",
              "      <th>aq_000</th>\n",
              "      <th>...</th>\n",
              "      <th>bx_000</th>\n",
              "      <th>by_000</th>\n",
              "      <th>bz_000</th>\n",
              "      <th>cs_004</th>\n",
              "      <th>cs_005</th>\n",
              "      <th>cs_006</th>\n",
              "      <th>de_000</th>\n",
              "      <th>dn_000</th>\n",
              "      <th>do_000</th>\n",
              "      <th>dp_000</th>\n",
              "    </tr>\n",
              "  </thead>\n",
              "  <tbody>\n",
              "    <tr>\n",
              "      <th>11152</th>\n",
              "      <td>1484492</td>\n",
              "      <td>28137860.0</td>\n",
              "      <td>36167904.0</td>\n",
              "      <td>11090932.0</td>\n",
              "      <td>723594.0</td>\n",
              "      <td>30538128.0</td>\n",
              "      <td>61416322.0</td>\n",
              "      <td>55863180.0</td>\n",
              "      <td>21599078.0</td>\n",
              "      <td>7504870.0</td>\n",
              "      <td>...</td>\n",
              "      <td>85852808.0</td>\n",
              "      <td>456837.0</td>\n",
              "      <td>102811.720185</td>\n",
              "      <td>13383890.0</td>\n",
              "      <td>56875934.0</td>\n",
              "      <td>1753618.0</td>\n",
              "      <td>372.727435</td>\n",
              "      <td>612912.0</td>\n",
              "      <td>29106.760219</td>\n",
              "      <td>7114.725859</td>\n",
              "    </tr>\n",
              "    <tr>\n",
              "      <th>17764</th>\n",
              "      <td>10</td>\n",
              "      <td>2514.0</td>\n",
              "      <td>1436.0</td>\n",
              "      <td>1112.0</td>\n",
              "      <td>0.0</td>\n",
              "      <td>736.0</td>\n",
              "      <td>11222.0</td>\n",
              "      <td>10094.0</td>\n",
              "      <td>17182.0</td>\n",
              "      <td>392.0</td>\n",
              "      <td>...</td>\n",
              "      <td>32376.0</td>\n",
              "      <td>27.0</td>\n",
              "      <td>0.000000</td>\n",
              "      <td>2.0</td>\n",
              "      <td>828.0</td>\n",
              "      <td>2764.0</td>\n",
              "      <td>70.000000</td>\n",
              "      <td>180.0</td>\n",
              "      <td>0.000000</td>\n",
              "      <td>0.000000</td>\n",
              "    </tr>\n",
              "    <tr>\n",
              "      <th>17804</th>\n",
              "      <td>372036</td>\n",
              "      <td>4341506.0</td>\n",
              "      <td>5566894.0</td>\n",
              "      <td>2301668.0</td>\n",
              "      <td>327770.0</td>\n",
              "      <td>10077724.0</td>\n",
              "      <td>18385550.0</td>\n",
              "      <td>16780040.0</td>\n",
              "      <td>9461548.0</td>\n",
              "      <td>1851842.0</td>\n",
              "      <td>...</td>\n",
              "      <td>35645216.0</td>\n",
              "      <td>61757.0</td>\n",
              "      <td>436.000000</td>\n",
              "      <td>1230548.0</td>\n",
              "      <td>8708840.0</td>\n",
              "      <td>1072612.0</td>\n",
              "      <td>6656.000000</td>\n",
              "      <td>174848.0</td>\n",
              "      <td>113496.000000</td>\n",
              "      <td>22626.000000</td>\n",
              "    </tr>\n",
              "    <tr>\n",
              "      <th>12448</th>\n",
              "      <td>1220</td>\n",
              "      <td>96.0</td>\n",
              "      <td>0.0</td>\n",
              "      <td>55102.0</td>\n",
              "      <td>16776.0</td>\n",
              "      <td>36288.0</td>\n",
              "      <td>70308.0</td>\n",
              "      <td>66130.0</td>\n",
              "      <td>8826.0</td>\n",
              "      <td>2508.0</td>\n",
              "      <td>...</td>\n",
              "      <td>85440.0</td>\n",
              "      <td>256.0</td>\n",
              "      <td>692.000000</td>\n",
              "      <td>1252.0</td>\n",
              "      <td>7036.0</td>\n",
              "      <td>55196.0</td>\n",
              "      <td>20.000000</td>\n",
              "      <td>316.0</td>\n",
              "      <td>90.000000</td>\n",
              "      <td>32.000000</td>\n",
              "    </tr>\n",
              "    <tr>\n",
              "      <th>15095</th>\n",
              "      <td>45268</td>\n",
              "      <td>18616.0</td>\n",
              "      <td>1067660.0</td>\n",
              "      <td>1433694.0</td>\n",
              "      <td>50442.0</td>\n",
              "      <td>1336312.0</td>\n",
              "      <td>2297312.0</td>\n",
              "      <td>2020830.0</td>\n",
              "      <td>421012.0</td>\n",
              "      <td>217040.0</td>\n",
              "      <td>...</td>\n",
              "      <td>2719818.0</td>\n",
              "      <td>16382.0</td>\n",
              "      <td>3708.000000</td>\n",
              "      <td>80646.0</td>\n",
              "      <td>1408214.0</td>\n",
              "      <td>927298.0</td>\n",
              "      <td>182.000000</td>\n",
              "      <td>19368.0</td>\n",
              "      <td>40304.000000</td>\n",
              "      <td>8616.000000</td>\n",
              "    </tr>\n",
              "    <tr>\n",
              "      <th>...</th>\n",
              "      <td>...</td>\n",
              "      <td>...</td>\n",
              "      <td>...</td>\n",
              "      <td>...</td>\n",
              "      <td>...</td>\n",
              "      <td>...</td>\n",
              "      <td>...</td>\n",
              "      <td>...</td>\n",
              "      <td>...</td>\n",
              "      <td>...</td>\n",
              "      <td>...</td>\n",
              "      <td>...</td>\n",
              "      <td>...</td>\n",
              "      <td>...</td>\n",
              "      <td>...</td>\n",
              "      <td>...</td>\n",
              "      <td>...</td>\n",
              "      <td>...</td>\n",
              "      <td>...</td>\n",
              "      <td>...</td>\n",
              "      <td>...</td>\n",
              "    </tr>\n",
              "    <tr>\n",
              "      <th>8527</th>\n",
              "      <td>31146</td>\n",
              "      <td>0.0</td>\n",
              "      <td>0.0</td>\n",
              "      <td>0.0</td>\n",
              "      <td>0.0</td>\n",
              "      <td>2702096.0</td>\n",
              "      <td>6250434.0</td>\n",
              "      <td>5800248.0</td>\n",
              "      <td>882082.0</td>\n",
              "      <td>444120.0</td>\n",
              "      <td>...</td>\n",
              "      <td>220.0</td>\n",
              "      <td>0.0</td>\n",
              "      <td>153024.000000</td>\n",
              "      <td>0.0</td>\n",
              "      <td>0.0</td>\n",
              "      <td>0.0</td>\n",
              "      <td>308.000000</td>\n",
              "      <td>25838.0</td>\n",
              "      <td>0.000000</td>\n",
              "      <td>0.000000</td>\n",
              "    </tr>\n",
              "    <tr>\n",
              "      <th>4714</th>\n",
              "      <td>524</td>\n",
              "      <td>3612.0</td>\n",
              "      <td>68088.0</td>\n",
              "      <td>10666.0</td>\n",
              "      <td>0.0</td>\n",
              "      <td>28416.0</td>\n",
              "      <td>85554.0</td>\n",
              "      <td>77758.0</td>\n",
              "      <td>12338.0</td>\n",
              "      <td>3884.0</td>\n",
              "      <td>...</td>\n",
              "      <td>99660.0</td>\n",
              "      <td>225.0</td>\n",
              "      <td>154.000000</td>\n",
              "      <td>16398.0</td>\n",
              "      <td>25370.0</td>\n",
              "      <td>24184.0</td>\n",
              "      <td>22.000000</td>\n",
              "      <td>608.0</td>\n",
              "      <td>0.000000</td>\n",
              "      <td>0.000000</td>\n",
              "    </tr>\n",
              "    <tr>\n",
              "      <th>10196</th>\n",
              "      <td>329814</td>\n",
              "      <td>178794.0</td>\n",
              "      <td>8204322.0</td>\n",
              "      <td>25315982.0</td>\n",
              "      <td>15695420.0</td>\n",
              "      <td>20064954.0</td>\n",
              "      <td>32275078.0</td>\n",
              "      <td>20649462.0</td>\n",
              "      <td>23140360.0</td>\n",
              "      <td>10444838.0</td>\n",
              "      <td>...</td>\n",
              "      <td>54584842.0</td>\n",
              "      <td>264307.0</td>\n",
              "      <td>102811.720185</td>\n",
              "      <td>13000658.0</td>\n",
              "      <td>22077892.0</td>\n",
              "      <td>977664.0</td>\n",
              "      <td>372.727435</td>\n",
              "      <td>829446.0</td>\n",
              "      <td>29106.760219</td>\n",
              "      <td>7114.725859</td>\n",
              "    </tr>\n",
              "    <tr>\n",
              "      <th>8419</th>\n",
              "      <td>35886</td>\n",
              "      <td>862.0</td>\n",
              "      <td>317216.0</td>\n",
              "      <td>1498086.0</td>\n",
              "      <td>523534.0</td>\n",
              "      <td>1041932.0</td>\n",
              "      <td>2109704.0</td>\n",
              "      <td>1815966.0</td>\n",
              "      <td>378214.0</td>\n",
              "      <td>250094.0</td>\n",
              "      <td>...</td>\n",
              "      <td>2492900.0</td>\n",
              "      <td>18019.0</td>\n",
              "      <td>1678.000000</td>\n",
              "      <td>141294.0</td>\n",
              "      <td>1774924.0</td>\n",
              "      <td>263390.0</td>\n",
              "      <td>54.000000</td>\n",
              "      <td>15776.0</td>\n",
              "      <td>92326.000000</td>\n",
              "      <td>14194.000000</td>\n",
              "    </tr>\n",
              "    <tr>\n",
              "      <th>19145</th>\n",
              "      <td>8</td>\n",
              "      <td>22.0</td>\n",
              "      <td>926.0</td>\n",
              "      <td>114166.0</td>\n",
              "      <td>0.0</td>\n",
              "      <td>2300.0</td>\n",
              "      <td>7088.0</td>\n",
              "      <td>4854.0</td>\n",
              "      <td>4894.0</td>\n",
              "      <td>256.0</td>\n",
              "      <td>...</td>\n",
              "      <td>122618.0</td>\n",
              "      <td>1203.0</td>\n",
              "      <td>166.000000</td>\n",
              "      <td>1430.0</td>\n",
              "      <td>1498.0</td>\n",
              "      <td>1636.0</td>\n",
              "      <td>86.000000</td>\n",
              "      <td>200.0</td>\n",
              "      <td>0.000000</td>\n",
              "      <td>0.000000</td>\n",
              "    </tr>\n",
              "  </tbody>\n",
              "</table>\n",
              "<p>15002 rows × 47 columns</p>\n",
              "</div>\n",
              "    <div class=\"colab-df-buttons\">\n",
              "\n",
              "  <div class=\"colab-df-container\">\n",
              "    <button class=\"colab-df-convert\" onclick=\"convertToInteractive('df-b063f6b0-b1a0-43c4-89e3-cb3d4573cd26')\"\n",
              "            title=\"Convert this dataframe to an interactive table.\"\n",
              "            style=\"display:none;\">\n",
              "\n",
              "  <svg xmlns=\"http://www.w3.org/2000/svg\" height=\"24px\" viewBox=\"0 -960 960 960\">\n",
              "    <path d=\"M120-120v-720h720v720H120Zm60-500h600v-160H180v160Zm220 220h160v-160H400v160Zm0 220h160v-160H400v160ZM180-400h160v-160H180v160Zm440 0h160v-160H620v160ZM180-180h160v-160H180v160Zm440 0h160v-160H620v160Z\"/>\n",
              "  </svg>\n",
              "    </button>\n",
              "\n",
              "  <style>\n",
              "    .colab-df-container {\n",
              "      display:flex;\n",
              "      gap: 12px;\n",
              "    }\n",
              "\n",
              "    .colab-df-convert {\n",
              "      background-color: #E8F0FE;\n",
              "      border: none;\n",
              "      border-radius: 50%;\n",
              "      cursor: pointer;\n",
              "      display: none;\n",
              "      fill: #1967D2;\n",
              "      height: 32px;\n",
              "      padding: 0 0 0 0;\n",
              "      width: 32px;\n",
              "    }\n",
              "\n",
              "    .colab-df-convert:hover {\n",
              "      background-color: #E2EBFA;\n",
              "      box-shadow: 0px 1px 2px rgba(60, 64, 67, 0.3), 0px 1px 3px 1px rgba(60, 64, 67, 0.15);\n",
              "      fill: #174EA6;\n",
              "    }\n",
              "\n",
              "    .colab-df-buttons div {\n",
              "      margin-bottom: 4px;\n",
              "    }\n",
              "\n",
              "    [theme=dark] .colab-df-convert {\n",
              "      background-color: #3B4455;\n",
              "      fill: #D2E3FC;\n",
              "    }\n",
              "\n",
              "    [theme=dark] .colab-df-convert:hover {\n",
              "      background-color: #434B5C;\n",
              "      box-shadow: 0px 1px 3px 1px rgba(0, 0, 0, 0.15);\n",
              "      filter: drop-shadow(0px 1px 2px rgba(0, 0, 0, 0.3));\n",
              "      fill: #FFFFFF;\n",
              "    }\n",
              "  </style>\n",
              "\n",
              "    <script>\n",
              "      const buttonEl =\n",
              "        document.querySelector('#df-b063f6b0-b1a0-43c4-89e3-cb3d4573cd26 button.colab-df-convert');\n",
              "      buttonEl.style.display =\n",
              "        google.colab.kernel.accessAllowed ? 'block' : 'none';\n",
              "\n",
              "      async function convertToInteractive(key) {\n",
              "        const element = document.querySelector('#df-b063f6b0-b1a0-43c4-89e3-cb3d4573cd26');\n",
              "        const dataTable =\n",
              "          await google.colab.kernel.invokeFunction('convertToInteractive',\n",
              "                                                    [key], {});\n",
              "        if (!dataTable) return;\n",
              "\n",
              "        const docLinkHtml = 'Like what you see? Visit the ' +\n",
              "          '<a target=\"_blank\" href=https://colab.research.google.com/notebooks/data_table.ipynb>data table notebook</a>'\n",
              "          + ' to learn more about interactive tables.';\n",
              "        element.innerHTML = '';\n",
              "        dataTable['output_type'] = 'display_data';\n",
              "        await google.colab.output.renderOutput(dataTable, element);\n",
              "        const docLink = document.createElement('div');\n",
              "        docLink.innerHTML = docLinkHtml;\n",
              "        element.appendChild(docLink);\n",
              "      }\n",
              "    </script>\n",
              "  </div>\n",
              "\n",
              "\n",
              "<div id=\"df-b8b00c02-8c42-4203-90f9-7811999ff61d\">\n",
              "  <button class=\"colab-df-quickchart\" onclick=\"quickchart('df-b8b00c02-8c42-4203-90f9-7811999ff61d')\"\n",
              "            title=\"Suggest charts\"\n",
              "            style=\"display:none;\">\n",
              "\n",
              "<svg xmlns=\"http://www.w3.org/2000/svg\" height=\"24px\"viewBox=\"0 0 24 24\"\n",
              "     width=\"24px\">\n",
              "    <g>\n",
              "        <path d=\"M19 3H5c-1.1 0-2 .9-2 2v14c0 1.1.9 2 2 2h14c1.1 0 2-.9 2-2V5c0-1.1-.9-2-2-2zM9 17H7v-7h2v7zm4 0h-2V7h2v10zm4 0h-2v-4h2v4z\"/>\n",
              "    </g>\n",
              "</svg>\n",
              "  </button>\n",
              "\n",
              "<style>\n",
              "  .colab-df-quickchart {\n",
              "      --bg-color: #E8F0FE;\n",
              "      --fill-color: #1967D2;\n",
              "      --hover-bg-color: #E2EBFA;\n",
              "      --hover-fill-color: #174EA6;\n",
              "      --disabled-fill-color: #AAA;\n",
              "      --disabled-bg-color: #DDD;\n",
              "  }\n",
              "\n",
              "  [theme=dark] .colab-df-quickchart {\n",
              "      --bg-color: #3B4455;\n",
              "      --fill-color: #D2E3FC;\n",
              "      --hover-bg-color: #434B5C;\n",
              "      --hover-fill-color: #FFFFFF;\n",
              "      --disabled-bg-color: #3B4455;\n",
              "      --disabled-fill-color: #666;\n",
              "  }\n",
              "\n",
              "  .colab-df-quickchart {\n",
              "    background-color: var(--bg-color);\n",
              "    border: none;\n",
              "    border-radius: 50%;\n",
              "    cursor: pointer;\n",
              "    display: none;\n",
              "    fill: var(--fill-color);\n",
              "    height: 32px;\n",
              "    padding: 0;\n",
              "    width: 32px;\n",
              "  }\n",
              "\n",
              "  .colab-df-quickchart:hover {\n",
              "    background-color: var(--hover-bg-color);\n",
              "    box-shadow: 0 1px 2px rgba(60, 64, 67, 0.3), 0 1px 3px 1px rgba(60, 64, 67, 0.15);\n",
              "    fill: var(--button-hover-fill-color);\n",
              "  }\n",
              "\n",
              "  .colab-df-quickchart-complete:disabled,\n",
              "  .colab-df-quickchart-complete:disabled:hover {\n",
              "    background-color: var(--disabled-bg-color);\n",
              "    fill: var(--disabled-fill-color);\n",
              "    box-shadow: none;\n",
              "  }\n",
              "\n",
              "  .colab-df-spinner {\n",
              "    border: 2px solid var(--fill-color);\n",
              "    border-color: transparent;\n",
              "    border-bottom-color: var(--fill-color);\n",
              "    animation:\n",
              "      spin 1s steps(1) infinite;\n",
              "  }\n",
              "\n",
              "  @keyframes spin {\n",
              "    0% {\n",
              "      border-color: transparent;\n",
              "      border-bottom-color: var(--fill-color);\n",
              "      border-left-color: var(--fill-color);\n",
              "    }\n",
              "    20% {\n",
              "      border-color: transparent;\n",
              "      border-left-color: var(--fill-color);\n",
              "      border-top-color: var(--fill-color);\n",
              "    }\n",
              "    30% {\n",
              "      border-color: transparent;\n",
              "      border-left-color: var(--fill-color);\n",
              "      border-top-color: var(--fill-color);\n",
              "      border-right-color: var(--fill-color);\n",
              "    }\n",
              "    40% {\n",
              "      border-color: transparent;\n",
              "      border-right-color: var(--fill-color);\n",
              "      border-top-color: var(--fill-color);\n",
              "    }\n",
              "    60% {\n",
              "      border-color: transparent;\n",
              "      border-right-color: var(--fill-color);\n",
              "    }\n",
              "    80% {\n",
              "      border-color: transparent;\n",
              "      border-right-color: var(--fill-color);\n",
              "      border-bottom-color: var(--fill-color);\n",
              "    }\n",
              "    90% {\n",
              "      border-color: transparent;\n",
              "      border-bottom-color: var(--fill-color);\n",
              "    }\n",
              "  }\n",
              "</style>\n",
              "\n",
              "  <script>\n",
              "    async function quickchart(key) {\n",
              "      const quickchartButtonEl =\n",
              "        document.querySelector('#' + key + ' button');\n",
              "      quickchartButtonEl.disabled = true;  // To prevent multiple clicks.\n",
              "      quickchartButtonEl.classList.add('colab-df-spinner');\n",
              "      try {\n",
              "        const charts = await google.colab.kernel.invokeFunction(\n",
              "            'suggestCharts', [key], {});\n",
              "      } catch (error) {\n",
              "        console.error('Error during call to suggestCharts:', error);\n",
              "      }\n",
              "      quickchartButtonEl.classList.remove('colab-df-spinner');\n",
              "      quickchartButtonEl.classList.add('colab-df-quickchart-complete');\n",
              "    }\n",
              "    (() => {\n",
              "      let quickchartButtonEl =\n",
              "        document.querySelector('#df-b8b00c02-8c42-4203-90f9-7811999ff61d button');\n",
              "      quickchartButtonEl.style.display =\n",
              "        google.colab.kernel.accessAllowed ? 'block' : 'none';\n",
              "    })();\n",
              "  </script>\n",
              "</div>\n",
              "\n",
              "  <div id=\"id_a7ba5761-a826-4ebd-b22c-53137b0edede\">\n",
              "    <style>\n",
              "      .colab-df-generate {\n",
              "        background-color: #E8F0FE;\n",
              "        border: none;\n",
              "        border-radius: 50%;\n",
              "        cursor: pointer;\n",
              "        display: none;\n",
              "        fill: #1967D2;\n",
              "        height: 32px;\n",
              "        padding: 0 0 0 0;\n",
              "        width: 32px;\n",
              "      }\n",
              "\n",
              "      .colab-df-generate:hover {\n",
              "        background-color: #E2EBFA;\n",
              "        box-shadow: 0px 1px 2px rgba(60, 64, 67, 0.3), 0px 1px 3px 1px rgba(60, 64, 67, 0.15);\n",
              "        fill: #174EA6;\n",
              "      }\n",
              "\n",
              "      [theme=dark] .colab-df-generate {\n",
              "        background-color: #3B4455;\n",
              "        fill: #D2E3FC;\n",
              "      }\n",
              "\n",
              "      [theme=dark] .colab-df-generate:hover {\n",
              "        background-color: #434B5C;\n",
              "        box-shadow: 0px 1px 3px 1px rgba(0, 0, 0, 0.15);\n",
              "        filter: drop-shadow(0px 1px 2px rgba(0, 0, 0, 0.3));\n",
              "        fill: #FFFFFF;\n",
              "      }\n",
              "    </style>\n",
              "    <button class=\"colab-df-generate\" onclick=\"generateWithVariable('xtrain')\"\n",
              "            title=\"Generate code using this dataframe.\"\n",
              "            style=\"display:none;\">\n",
              "\n",
              "  <svg xmlns=\"http://www.w3.org/2000/svg\" height=\"24px\"viewBox=\"0 0 24 24\"\n",
              "       width=\"24px\">\n",
              "    <path d=\"M7,19H8.4L18.45,9,17,7.55,7,17.6ZM5,21V16.75L18.45,3.32a2,2,0,0,1,2.83,0l1.4,1.43a1.91,1.91,0,0,1,.58,1.4,1.91,1.91,0,0,1-.58,1.4L9.25,21ZM18.45,9,17,7.55Zm-12,3A5.31,5.31,0,0,0,4.9,8.1,5.31,5.31,0,0,0,1,6.5,5.31,5.31,0,0,0,4.9,4.9,5.31,5.31,0,0,0,6.5,1,5.31,5.31,0,0,0,8.1,4.9,5.31,5.31,0,0,0,12,6.5,5.46,5.46,0,0,0,6.5,12Z\"/>\n",
              "  </svg>\n",
              "    </button>\n",
              "    <script>\n",
              "      (() => {\n",
              "      const buttonEl =\n",
              "        document.querySelector('#id_a7ba5761-a826-4ebd-b22c-53137b0edede button.colab-df-generate');\n",
              "      buttonEl.style.display =\n",
              "        google.colab.kernel.accessAllowed ? 'block' : 'none';\n",
              "\n",
              "      buttonEl.onclick = () => {\n",
              "        google.colab.notebook.generateWithVariable('xtrain');\n",
              "      }\n",
              "      })();\n",
              "    </script>\n",
              "  </div>\n",
              "\n",
              "    </div>\n",
              "  </div>\n"
            ]
          },
          "metadata": {},
          "execution_count": 18
        }
      ],
      "source": [
        "xtrain"
      ]
    },
    {
      "cell_type": "code",
      "execution_count": 19,
      "metadata": {
        "colab": {
          "base_uri": "https://localhost:8080/",
          "height": 444
        },
        "id": "yrQUtUwfhoLf",
        "outputId": "0a28051c-a0dc-4229-faf9-c767bf41c0d4"
      },
      "outputs": [
        {
          "output_type": "execute_result",
          "data": {
            "text/plain": [
              "       aa_000    ag_004     ag_005     ag_006     ag_007     ah_000  \\\n",
              "10987   65420   13126.0   865820.0  2187376.0  1017360.0  1890740.0   \n",
              "18067       4       4.0      338.0     2122.0        0.0      564.0   \n",
              "302      1274   39604.0     9544.0     2644.0        0.0    23768.0   \n",
              "8521      768     116.0       60.0    45868.0    19764.0    26634.0   \n",
              "4117    29308   31376.0   673724.0   966658.0   196854.0   912710.0   \n",
              "...       ...       ...        ...        ...        ...        ...   \n",
              "2889   127062  108274.0  3464146.0  3247952.0   283600.0  3597132.0   \n",
              "17094   39680   40394.0  1020384.0  1322198.0   169004.0  1066074.0   \n",
              "8584    38238    1452.0   458292.0  1586030.0   262972.0  1099898.0   \n",
              "5530    86798   25334.0   757530.0  3834082.0  1450218.0  2591598.0   \n",
              "6180     2306     100.0     4008.0   125152.0     2790.0    56520.0   \n",
              "\n",
              "          an_000     ao_000     ap_000    aq_000  ...        bx_000   by_000  \\\n",
              "10987  3646296.0  3176826.0   559602.0  419530.0  ...  4.221116e+06  24615.0   \n",
              "18067     6986.0     5922.0     7522.0     190.0  ...  1.682000e+04     22.0   \n",
              "302      69786.0    91084.0    48766.0    2456.0  ...  1.524580e+05    471.0   \n",
              "8521     64332.0    57168.0    14496.0    3920.0  ...  8.137000e+04    168.0   \n",
              "4117   1657796.0  1427872.0   332298.0  185294.0  ...  4.193984e+06  13150.0   \n",
              "...          ...        ...        ...       ...  ...           ...      ...   \n",
              "2889   6385640.0  5720562.0  1160936.0  550628.0  ...  7.479416e+06  39243.0   \n",
              "17094  2178620.0  1791086.0   495912.0  340026.0  ...  2.668870e+06  17809.0   \n",
              "8584   1955306.0  1616352.0   470614.0  295004.0  ...  2.431864e+06  16901.0   \n",
              "5530   5575514.0  4985874.0  1097018.0  515120.0  ...  6.629420e+06  45101.0   \n",
              "6180    123986.0   111068.0    24080.0   10152.0  ...  1.505340e+05    505.0   \n",
              "\n",
              "         bz_000    cs_004     cs_005     cs_006  de_000   dn_000   do_000  \\\n",
              "10987    4482.0  242872.0  3031238.0   426290.0   474.0  29368.0  60784.0   \n",
              "18067       6.0       0.0      604.0      320.0    38.0     56.0      0.0   \n",
              "302     12278.0   17358.0    75636.0      162.0    38.0   1470.0     12.0   \n",
              "8521        0.0    6854.0    15214.0    34738.0    36.0    444.0    192.0   \n",
              "4117   221670.0   85666.0  1067702.0   506792.0    78.0  16172.0  30244.0   \n",
              "...         ...       ...        ...        ...     ...      ...      ...   \n",
              "2889     1312.0  494056.0  5427528.0   437770.0   182.0  51050.0  47834.0   \n",
              "17094   18620.0  104698.0  1083436.0  1066906.0   224.0  19472.0  36366.0   \n",
              "8584     5312.0   89560.0  1848488.0   239838.0   174.0  26634.0  36850.0   \n",
              "5530     7272.0  219302.0  3886448.0  1342874.0   332.0  30510.0  79552.0   \n",
              "6180        0.0    2630.0    58850.0    60778.0    74.0    802.0   1550.0   \n",
              "\n",
              "        dp_000  \n",
              "10987  11814.0  \n",
              "18067      0.0  \n",
              "302       12.0  \n",
              "8521      46.0  \n",
              "4117    5928.0  \n",
              "...        ...  \n",
              "2889    9804.0  \n",
              "17094  15036.0  \n",
              "8584    8418.0  \n",
              "5530   23448.0  \n",
              "6180     668.0  \n",
              "\n",
              "[5001 rows x 47 columns]"
            ],
            "text/html": [
              "\n",
              "  <div id=\"df-994b90e4-05c9-44bf-82ae-8739bfc59467\" class=\"colab-df-container\">\n",
              "    <div>\n",
              "<style scoped>\n",
              "    .dataframe tbody tr th:only-of-type {\n",
              "        vertical-align: middle;\n",
              "    }\n",
              "\n",
              "    .dataframe tbody tr th {\n",
              "        vertical-align: top;\n",
              "    }\n",
              "\n",
              "    .dataframe thead th {\n",
              "        text-align: right;\n",
              "    }\n",
              "</style>\n",
              "<table border=\"1\" class=\"dataframe\">\n",
              "  <thead>\n",
              "    <tr style=\"text-align: right;\">\n",
              "      <th></th>\n",
              "      <th>aa_000</th>\n",
              "      <th>ag_004</th>\n",
              "      <th>ag_005</th>\n",
              "      <th>ag_006</th>\n",
              "      <th>ag_007</th>\n",
              "      <th>ah_000</th>\n",
              "      <th>an_000</th>\n",
              "      <th>ao_000</th>\n",
              "      <th>ap_000</th>\n",
              "      <th>aq_000</th>\n",
              "      <th>...</th>\n",
              "      <th>bx_000</th>\n",
              "      <th>by_000</th>\n",
              "      <th>bz_000</th>\n",
              "      <th>cs_004</th>\n",
              "      <th>cs_005</th>\n",
              "      <th>cs_006</th>\n",
              "      <th>de_000</th>\n",
              "      <th>dn_000</th>\n",
              "      <th>do_000</th>\n",
              "      <th>dp_000</th>\n",
              "    </tr>\n",
              "  </thead>\n",
              "  <tbody>\n",
              "    <tr>\n",
              "      <th>10987</th>\n",
              "      <td>65420</td>\n",
              "      <td>13126.0</td>\n",
              "      <td>865820.0</td>\n",
              "      <td>2187376.0</td>\n",
              "      <td>1017360.0</td>\n",
              "      <td>1890740.0</td>\n",
              "      <td>3646296.0</td>\n",
              "      <td>3176826.0</td>\n",
              "      <td>559602.0</td>\n",
              "      <td>419530.0</td>\n",
              "      <td>...</td>\n",
              "      <td>4.221116e+06</td>\n",
              "      <td>24615.0</td>\n",
              "      <td>4482.0</td>\n",
              "      <td>242872.0</td>\n",
              "      <td>3031238.0</td>\n",
              "      <td>426290.0</td>\n",
              "      <td>474.0</td>\n",
              "      <td>29368.0</td>\n",
              "      <td>60784.0</td>\n",
              "      <td>11814.0</td>\n",
              "    </tr>\n",
              "    <tr>\n",
              "      <th>18067</th>\n",
              "      <td>4</td>\n",
              "      <td>4.0</td>\n",
              "      <td>338.0</td>\n",
              "      <td>2122.0</td>\n",
              "      <td>0.0</td>\n",
              "      <td>564.0</td>\n",
              "      <td>6986.0</td>\n",
              "      <td>5922.0</td>\n",
              "      <td>7522.0</td>\n",
              "      <td>190.0</td>\n",
              "      <td>...</td>\n",
              "      <td>1.682000e+04</td>\n",
              "      <td>22.0</td>\n",
              "      <td>6.0</td>\n",
              "      <td>0.0</td>\n",
              "      <td>604.0</td>\n",
              "      <td>320.0</td>\n",
              "      <td>38.0</td>\n",
              "      <td>56.0</td>\n",
              "      <td>0.0</td>\n",
              "      <td>0.0</td>\n",
              "    </tr>\n",
              "    <tr>\n",
              "      <th>302</th>\n",
              "      <td>1274</td>\n",
              "      <td>39604.0</td>\n",
              "      <td>9544.0</td>\n",
              "      <td>2644.0</td>\n",
              "      <td>0.0</td>\n",
              "      <td>23768.0</td>\n",
              "      <td>69786.0</td>\n",
              "      <td>91084.0</td>\n",
              "      <td>48766.0</td>\n",
              "      <td>2456.0</td>\n",
              "      <td>...</td>\n",
              "      <td>1.524580e+05</td>\n",
              "      <td>471.0</td>\n",
              "      <td>12278.0</td>\n",
              "      <td>17358.0</td>\n",
              "      <td>75636.0</td>\n",
              "      <td>162.0</td>\n",
              "      <td>38.0</td>\n",
              "      <td>1470.0</td>\n",
              "      <td>12.0</td>\n",
              "      <td>12.0</td>\n",
              "    </tr>\n",
              "    <tr>\n",
              "      <th>8521</th>\n",
              "      <td>768</td>\n",
              "      <td>116.0</td>\n",
              "      <td>60.0</td>\n",
              "      <td>45868.0</td>\n",
              "      <td>19764.0</td>\n",
              "      <td>26634.0</td>\n",
              "      <td>64332.0</td>\n",
              "      <td>57168.0</td>\n",
              "      <td>14496.0</td>\n",
              "      <td>3920.0</td>\n",
              "      <td>...</td>\n",
              "      <td>8.137000e+04</td>\n",
              "      <td>168.0</td>\n",
              "      <td>0.0</td>\n",
              "      <td>6854.0</td>\n",
              "      <td>15214.0</td>\n",
              "      <td>34738.0</td>\n",
              "      <td>36.0</td>\n",
              "      <td>444.0</td>\n",
              "      <td>192.0</td>\n",
              "      <td>46.0</td>\n",
              "    </tr>\n",
              "    <tr>\n",
              "      <th>4117</th>\n",
              "      <td>29308</td>\n",
              "      <td>31376.0</td>\n",
              "      <td>673724.0</td>\n",
              "      <td>966658.0</td>\n",
              "      <td>196854.0</td>\n",
              "      <td>912710.0</td>\n",
              "      <td>1657796.0</td>\n",
              "      <td>1427872.0</td>\n",
              "      <td>332298.0</td>\n",
              "      <td>185294.0</td>\n",
              "      <td>...</td>\n",
              "      <td>4.193984e+06</td>\n",
              "      <td>13150.0</td>\n",
              "      <td>221670.0</td>\n",
              "      <td>85666.0</td>\n",
              "      <td>1067702.0</td>\n",
              "      <td>506792.0</td>\n",
              "      <td>78.0</td>\n",
              "      <td>16172.0</td>\n",
              "      <td>30244.0</td>\n",
              "      <td>5928.0</td>\n",
              "    </tr>\n",
              "    <tr>\n",
              "      <th>...</th>\n",
              "      <td>...</td>\n",
              "      <td>...</td>\n",
              "      <td>...</td>\n",
              "      <td>...</td>\n",
              "      <td>...</td>\n",
              "      <td>...</td>\n",
              "      <td>...</td>\n",
              "      <td>...</td>\n",
              "      <td>...</td>\n",
              "      <td>...</td>\n",
              "      <td>...</td>\n",
              "      <td>...</td>\n",
              "      <td>...</td>\n",
              "      <td>...</td>\n",
              "      <td>...</td>\n",
              "      <td>...</td>\n",
              "      <td>...</td>\n",
              "      <td>...</td>\n",
              "      <td>...</td>\n",
              "      <td>...</td>\n",
              "      <td>...</td>\n",
              "    </tr>\n",
              "    <tr>\n",
              "      <th>2889</th>\n",
              "      <td>127062</td>\n",
              "      <td>108274.0</td>\n",
              "      <td>3464146.0</td>\n",
              "      <td>3247952.0</td>\n",
              "      <td>283600.0</td>\n",
              "      <td>3597132.0</td>\n",
              "      <td>6385640.0</td>\n",
              "      <td>5720562.0</td>\n",
              "      <td>1160936.0</td>\n",
              "      <td>550628.0</td>\n",
              "      <td>...</td>\n",
              "      <td>7.479416e+06</td>\n",
              "      <td>39243.0</td>\n",
              "      <td>1312.0</td>\n",
              "      <td>494056.0</td>\n",
              "      <td>5427528.0</td>\n",
              "      <td>437770.0</td>\n",
              "      <td>182.0</td>\n",
              "      <td>51050.0</td>\n",
              "      <td>47834.0</td>\n",
              "      <td>9804.0</td>\n",
              "    </tr>\n",
              "    <tr>\n",
              "      <th>17094</th>\n",
              "      <td>39680</td>\n",
              "      <td>40394.0</td>\n",
              "      <td>1020384.0</td>\n",
              "      <td>1322198.0</td>\n",
              "      <td>169004.0</td>\n",
              "      <td>1066074.0</td>\n",
              "      <td>2178620.0</td>\n",
              "      <td>1791086.0</td>\n",
              "      <td>495912.0</td>\n",
              "      <td>340026.0</td>\n",
              "      <td>...</td>\n",
              "      <td>2.668870e+06</td>\n",
              "      <td>17809.0</td>\n",
              "      <td>18620.0</td>\n",
              "      <td>104698.0</td>\n",
              "      <td>1083436.0</td>\n",
              "      <td>1066906.0</td>\n",
              "      <td>224.0</td>\n",
              "      <td>19472.0</td>\n",
              "      <td>36366.0</td>\n",
              "      <td>15036.0</td>\n",
              "    </tr>\n",
              "    <tr>\n",
              "      <th>8584</th>\n",
              "      <td>38238</td>\n",
              "      <td>1452.0</td>\n",
              "      <td>458292.0</td>\n",
              "      <td>1586030.0</td>\n",
              "      <td>262972.0</td>\n",
              "      <td>1099898.0</td>\n",
              "      <td>1955306.0</td>\n",
              "      <td>1616352.0</td>\n",
              "      <td>470614.0</td>\n",
              "      <td>295004.0</td>\n",
              "      <td>...</td>\n",
              "      <td>2.431864e+06</td>\n",
              "      <td>16901.0</td>\n",
              "      <td>5312.0</td>\n",
              "      <td>89560.0</td>\n",
              "      <td>1848488.0</td>\n",
              "      <td>239838.0</td>\n",
              "      <td>174.0</td>\n",
              "      <td>26634.0</td>\n",
              "      <td>36850.0</td>\n",
              "      <td>8418.0</td>\n",
              "    </tr>\n",
              "    <tr>\n",
              "      <th>5530</th>\n",
              "      <td>86798</td>\n",
              "      <td>25334.0</td>\n",
              "      <td>757530.0</td>\n",
              "      <td>3834082.0</td>\n",
              "      <td>1450218.0</td>\n",
              "      <td>2591598.0</td>\n",
              "      <td>5575514.0</td>\n",
              "      <td>4985874.0</td>\n",
              "      <td>1097018.0</td>\n",
              "      <td>515120.0</td>\n",
              "      <td>...</td>\n",
              "      <td>6.629420e+06</td>\n",
              "      <td>45101.0</td>\n",
              "      <td>7272.0</td>\n",
              "      <td>219302.0</td>\n",
              "      <td>3886448.0</td>\n",
              "      <td>1342874.0</td>\n",
              "      <td>332.0</td>\n",
              "      <td>30510.0</td>\n",
              "      <td>79552.0</td>\n",
              "      <td>23448.0</td>\n",
              "    </tr>\n",
              "    <tr>\n",
              "      <th>6180</th>\n",
              "      <td>2306</td>\n",
              "      <td>100.0</td>\n",
              "      <td>4008.0</td>\n",
              "      <td>125152.0</td>\n",
              "      <td>2790.0</td>\n",
              "      <td>56520.0</td>\n",
              "      <td>123986.0</td>\n",
              "      <td>111068.0</td>\n",
              "      <td>24080.0</td>\n",
              "      <td>10152.0</td>\n",
              "      <td>...</td>\n",
              "      <td>1.505340e+05</td>\n",
              "      <td>505.0</td>\n",
              "      <td>0.0</td>\n",
              "      <td>2630.0</td>\n",
              "      <td>58850.0</td>\n",
              "      <td>60778.0</td>\n",
              "      <td>74.0</td>\n",
              "      <td>802.0</td>\n",
              "      <td>1550.0</td>\n",
              "      <td>668.0</td>\n",
              "    </tr>\n",
              "  </tbody>\n",
              "</table>\n",
              "<p>5001 rows × 47 columns</p>\n",
              "</div>\n",
              "    <div class=\"colab-df-buttons\">\n",
              "\n",
              "  <div class=\"colab-df-container\">\n",
              "    <button class=\"colab-df-convert\" onclick=\"convertToInteractive('df-994b90e4-05c9-44bf-82ae-8739bfc59467')\"\n",
              "            title=\"Convert this dataframe to an interactive table.\"\n",
              "            style=\"display:none;\">\n",
              "\n",
              "  <svg xmlns=\"http://www.w3.org/2000/svg\" height=\"24px\" viewBox=\"0 -960 960 960\">\n",
              "    <path d=\"M120-120v-720h720v720H120Zm60-500h600v-160H180v160Zm220 220h160v-160H400v160Zm0 220h160v-160H400v160ZM180-400h160v-160H180v160Zm440 0h160v-160H620v160ZM180-180h160v-160H180v160Zm440 0h160v-160H620v160Z\"/>\n",
              "  </svg>\n",
              "    </button>\n",
              "\n",
              "  <style>\n",
              "    .colab-df-container {\n",
              "      display:flex;\n",
              "      gap: 12px;\n",
              "    }\n",
              "\n",
              "    .colab-df-convert {\n",
              "      background-color: #E8F0FE;\n",
              "      border: none;\n",
              "      border-radius: 50%;\n",
              "      cursor: pointer;\n",
              "      display: none;\n",
              "      fill: #1967D2;\n",
              "      height: 32px;\n",
              "      padding: 0 0 0 0;\n",
              "      width: 32px;\n",
              "    }\n",
              "\n",
              "    .colab-df-convert:hover {\n",
              "      background-color: #E2EBFA;\n",
              "      box-shadow: 0px 1px 2px rgba(60, 64, 67, 0.3), 0px 1px 3px 1px rgba(60, 64, 67, 0.15);\n",
              "      fill: #174EA6;\n",
              "    }\n",
              "\n",
              "    .colab-df-buttons div {\n",
              "      margin-bottom: 4px;\n",
              "    }\n",
              "\n",
              "    [theme=dark] .colab-df-convert {\n",
              "      background-color: #3B4455;\n",
              "      fill: #D2E3FC;\n",
              "    }\n",
              "\n",
              "    [theme=dark] .colab-df-convert:hover {\n",
              "      background-color: #434B5C;\n",
              "      box-shadow: 0px 1px 3px 1px rgba(0, 0, 0, 0.15);\n",
              "      filter: drop-shadow(0px 1px 2px rgba(0, 0, 0, 0.3));\n",
              "      fill: #FFFFFF;\n",
              "    }\n",
              "  </style>\n",
              "\n",
              "    <script>\n",
              "      const buttonEl =\n",
              "        document.querySelector('#df-994b90e4-05c9-44bf-82ae-8739bfc59467 button.colab-df-convert');\n",
              "      buttonEl.style.display =\n",
              "        google.colab.kernel.accessAllowed ? 'block' : 'none';\n",
              "\n",
              "      async function convertToInteractive(key) {\n",
              "        const element = document.querySelector('#df-994b90e4-05c9-44bf-82ae-8739bfc59467');\n",
              "        const dataTable =\n",
              "          await google.colab.kernel.invokeFunction('convertToInteractive',\n",
              "                                                    [key], {});\n",
              "        if (!dataTable) return;\n",
              "\n",
              "        const docLinkHtml = 'Like what you see? Visit the ' +\n",
              "          '<a target=\"_blank\" href=https://colab.research.google.com/notebooks/data_table.ipynb>data table notebook</a>'\n",
              "          + ' to learn more about interactive tables.';\n",
              "        element.innerHTML = '';\n",
              "        dataTable['output_type'] = 'display_data';\n",
              "        await google.colab.output.renderOutput(dataTable, element);\n",
              "        const docLink = document.createElement('div');\n",
              "        docLink.innerHTML = docLinkHtml;\n",
              "        element.appendChild(docLink);\n",
              "      }\n",
              "    </script>\n",
              "  </div>\n",
              "\n",
              "\n",
              "<div id=\"df-d30ef7df-92ae-48dc-8d96-9e5c8c955c23\">\n",
              "  <button class=\"colab-df-quickchart\" onclick=\"quickchart('df-d30ef7df-92ae-48dc-8d96-9e5c8c955c23')\"\n",
              "            title=\"Suggest charts\"\n",
              "            style=\"display:none;\">\n",
              "\n",
              "<svg xmlns=\"http://www.w3.org/2000/svg\" height=\"24px\"viewBox=\"0 0 24 24\"\n",
              "     width=\"24px\">\n",
              "    <g>\n",
              "        <path d=\"M19 3H5c-1.1 0-2 .9-2 2v14c0 1.1.9 2 2 2h14c1.1 0 2-.9 2-2V5c0-1.1-.9-2-2-2zM9 17H7v-7h2v7zm4 0h-2V7h2v10zm4 0h-2v-4h2v4z\"/>\n",
              "    </g>\n",
              "</svg>\n",
              "  </button>\n",
              "\n",
              "<style>\n",
              "  .colab-df-quickchart {\n",
              "      --bg-color: #E8F0FE;\n",
              "      --fill-color: #1967D2;\n",
              "      --hover-bg-color: #E2EBFA;\n",
              "      --hover-fill-color: #174EA6;\n",
              "      --disabled-fill-color: #AAA;\n",
              "      --disabled-bg-color: #DDD;\n",
              "  }\n",
              "\n",
              "  [theme=dark] .colab-df-quickchart {\n",
              "      --bg-color: #3B4455;\n",
              "      --fill-color: #D2E3FC;\n",
              "      --hover-bg-color: #434B5C;\n",
              "      --hover-fill-color: #FFFFFF;\n",
              "      --disabled-bg-color: #3B4455;\n",
              "      --disabled-fill-color: #666;\n",
              "  }\n",
              "\n",
              "  .colab-df-quickchart {\n",
              "    background-color: var(--bg-color);\n",
              "    border: none;\n",
              "    border-radius: 50%;\n",
              "    cursor: pointer;\n",
              "    display: none;\n",
              "    fill: var(--fill-color);\n",
              "    height: 32px;\n",
              "    padding: 0;\n",
              "    width: 32px;\n",
              "  }\n",
              "\n",
              "  .colab-df-quickchart:hover {\n",
              "    background-color: var(--hover-bg-color);\n",
              "    box-shadow: 0 1px 2px rgba(60, 64, 67, 0.3), 0 1px 3px 1px rgba(60, 64, 67, 0.15);\n",
              "    fill: var(--button-hover-fill-color);\n",
              "  }\n",
              "\n",
              "  .colab-df-quickchart-complete:disabled,\n",
              "  .colab-df-quickchart-complete:disabled:hover {\n",
              "    background-color: var(--disabled-bg-color);\n",
              "    fill: var(--disabled-fill-color);\n",
              "    box-shadow: none;\n",
              "  }\n",
              "\n",
              "  .colab-df-spinner {\n",
              "    border: 2px solid var(--fill-color);\n",
              "    border-color: transparent;\n",
              "    border-bottom-color: var(--fill-color);\n",
              "    animation:\n",
              "      spin 1s steps(1) infinite;\n",
              "  }\n",
              "\n",
              "  @keyframes spin {\n",
              "    0% {\n",
              "      border-color: transparent;\n",
              "      border-bottom-color: var(--fill-color);\n",
              "      border-left-color: var(--fill-color);\n",
              "    }\n",
              "    20% {\n",
              "      border-color: transparent;\n",
              "      border-left-color: var(--fill-color);\n",
              "      border-top-color: var(--fill-color);\n",
              "    }\n",
              "    30% {\n",
              "      border-color: transparent;\n",
              "      border-left-color: var(--fill-color);\n",
              "      border-top-color: var(--fill-color);\n",
              "      border-right-color: var(--fill-color);\n",
              "    }\n",
              "    40% {\n",
              "      border-color: transparent;\n",
              "      border-right-color: var(--fill-color);\n",
              "      border-top-color: var(--fill-color);\n",
              "    }\n",
              "    60% {\n",
              "      border-color: transparent;\n",
              "      border-right-color: var(--fill-color);\n",
              "    }\n",
              "    80% {\n",
              "      border-color: transparent;\n",
              "      border-right-color: var(--fill-color);\n",
              "      border-bottom-color: var(--fill-color);\n",
              "    }\n",
              "    90% {\n",
              "      border-color: transparent;\n",
              "      border-bottom-color: var(--fill-color);\n",
              "    }\n",
              "  }\n",
              "</style>\n",
              "\n",
              "  <script>\n",
              "    async function quickchart(key) {\n",
              "      const quickchartButtonEl =\n",
              "        document.querySelector('#' + key + ' button');\n",
              "      quickchartButtonEl.disabled = true;  // To prevent multiple clicks.\n",
              "      quickchartButtonEl.classList.add('colab-df-spinner');\n",
              "      try {\n",
              "        const charts = await google.colab.kernel.invokeFunction(\n",
              "            'suggestCharts', [key], {});\n",
              "      } catch (error) {\n",
              "        console.error('Error during call to suggestCharts:', error);\n",
              "      }\n",
              "      quickchartButtonEl.classList.remove('colab-df-spinner');\n",
              "      quickchartButtonEl.classList.add('colab-df-quickchart-complete');\n",
              "    }\n",
              "    (() => {\n",
              "      let quickchartButtonEl =\n",
              "        document.querySelector('#df-d30ef7df-92ae-48dc-8d96-9e5c8c955c23 button');\n",
              "      quickchartButtonEl.style.display =\n",
              "        google.colab.kernel.accessAllowed ? 'block' : 'none';\n",
              "    })();\n",
              "  </script>\n",
              "</div>\n",
              "\n",
              "  <div id=\"id_0c8887e1-2b62-4821-81ff-d6446ceadd59\">\n",
              "    <style>\n",
              "      .colab-df-generate {\n",
              "        background-color: #E8F0FE;\n",
              "        border: none;\n",
              "        border-radius: 50%;\n",
              "        cursor: pointer;\n",
              "        display: none;\n",
              "        fill: #1967D2;\n",
              "        height: 32px;\n",
              "        padding: 0 0 0 0;\n",
              "        width: 32px;\n",
              "      }\n",
              "\n",
              "      .colab-df-generate:hover {\n",
              "        background-color: #E2EBFA;\n",
              "        box-shadow: 0px 1px 2px rgba(60, 64, 67, 0.3), 0px 1px 3px 1px rgba(60, 64, 67, 0.15);\n",
              "        fill: #174EA6;\n",
              "      }\n",
              "\n",
              "      [theme=dark] .colab-df-generate {\n",
              "        background-color: #3B4455;\n",
              "        fill: #D2E3FC;\n",
              "      }\n",
              "\n",
              "      [theme=dark] .colab-df-generate:hover {\n",
              "        background-color: #434B5C;\n",
              "        box-shadow: 0px 1px 3px 1px rgba(0, 0, 0, 0.15);\n",
              "        filter: drop-shadow(0px 1px 2px rgba(0, 0, 0, 0.3));\n",
              "        fill: #FFFFFF;\n",
              "      }\n",
              "    </style>\n",
              "    <button class=\"colab-df-generate\" onclick=\"generateWithVariable('xtest')\"\n",
              "            title=\"Generate code using this dataframe.\"\n",
              "            style=\"display:none;\">\n",
              "\n",
              "  <svg xmlns=\"http://www.w3.org/2000/svg\" height=\"24px\"viewBox=\"0 0 24 24\"\n",
              "       width=\"24px\">\n",
              "    <path d=\"M7,19H8.4L18.45,9,17,7.55,7,17.6ZM5,21V16.75L18.45,3.32a2,2,0,0,1,2.83,0l1.4,1.43a1.91,1.91,0,0,1,.58,1.4,1.91,1.91,0,0,1-.58,1.4L9.25,21ZM18.45,9,17,7.55Zm-12,3A5.31,5.31,0,0,0,4.9,8.1,5.31,5.31,0,0,0,1,6.5,5.31,5.31,0,0,0,4.9,4.9,5.31,5.31,0,0,0,6.5,1,5.31,5.31,0,0,0,8.1,4.9,5.31,5.31,0,0,0,12,6.5,5.46,5.46,0,0,0,6.5,12Z\"/>\n",
              "  </svg>\n",
              "    </button>\n",
              "    <script>\n",
              "      (() => {\n",
              "      const buttonEl =\n",
              "        document.querySelector('#id_0c8887e1-2b62-4821-81ff-d6446ceadd59 button.colab-df-generate');\n",
              "      buttonEl.style.display =\n",
              "        google.colab.kernel.accessAllowed ? 'block' : 'none';\n",
              "\n",
              "      buttonEl.onclick = () => {\n",
              "        google.colab.notebook.generateWithVariable('xtest');\n",
              "      }\n",
              "      })();\n",
              "    </script>\n",
              "  </div>\n",
              "\n",
              "    </div>\n",
              "  </div>\n"
            ]
          },
          "metadata": {},
          "execution_count": 19
        }
      ],
      "source": [
        "xtest"
      ]
    },
    {
      "cell_type": "code",
      "source": [
        "ytrain"
      ],
      "metadata": {
        "colab": {
          "base_uri": "https://localhost:8080/"
        },
        "id": "Ab8dQxrePofk",
        "outputId": "eb91b47c-cc5e-4962-a591-4371c3d6b055"
      },
      "execution_count": 20,
      "outputs": [
        {
          "output_type": "execute_result",
          "data": {
            "text/plain": [
              "11152    0.0\n",
              "17764    0.0\n",
              "17804    0.0\n",
              "12448    0.0\n",
              "15095    0.0\n",
              "        ... \n",
              "8527     0.0\n",
              "4714     0.0\n",
              "10196    1.0\n",
              "8419     0.0\n",
              "19145    0.0\n",
              "Name: class, Length: 15002, dtype: float64"
            ]
          },
          "metadata": {},
          "execution_count": 20
        }
      ]
    },
    {
      "cell_type": "code",
      "source": [
        "ytest"
      ],
      "metadata": {
        "colab": {
          "base_uri": "https://localhost:8080/"
        },
        "id": "i8a_x5FJPoZS",
        "outputId": "87a5135a-dc21-401b-8243-ed7a3727e122"
      },
      "execution_count": 21,
      "outputs": [
        {
          "output_type": "execute_result",
          "data": {
            "text/plain": [
              "10987    0.0\n",
              "18067    0.0\n",
              "302      0.0\n",
              "8521     0.0\n",
              "4117     0.0\n",
              "        ... \n",
              "2889     0.0\n",
              "17094    0.0\n",
              "8584     0.0\n",
              "5530     0.0\n",
              "6180     0.0\n",
              "Name: class, Length: 5001, dtype: float64"
            ]
          },
          "metadata": {},
          "execution_count": 21
        }
      ]
    },
    {
      "cell_type": "markdown",
      "source": [
        "###Logistic Regression"
      ],
      "metadata": {
        "id": "cadOINokPtdr"
      }
    },
    {
      "cell_type": "code",
      "source": [
        "import warnings\n",
        "warnings.simplefilter(\"ignore\")"
      ],
      "metadata": {
        "id": "mAnxGykBPoPT"
      },
      "execution_count": 22,
      "outputs": []
    },
    {
      "cell_type": "code",
      "source": [
        "from sklearn.linear_model import LogisticRegression"
      ],
      "metadata": {
        "id": "VSQmheI-PoKo"
      },
      "execution_count": 23,
      "outputs": []
    },
    {
      "cell_type": "code",
      "source": [
        "lrr=LogisticRegression()"
      ],
      "metadata": {
        "id": "VoHjzhcUPoFp"
      },
      "execution_count": 24,
      "outputs": []
    },
    {
      "cell_type": "code",
      "source": [
        "lrr.fit(xtrain,ytrain)"
      ],
      "metadata": {
        "colab": {
          "base_uri": "https://localhost:8080/",
          "height": 75
        },
        "id": "jRJT5zHjPoBi",
        "outputId": "0bfa85ea-4d57-4a90-f2c1-9379b18f5be3"
      },
      "execution_count": 25,
      "outputs": [
        {
          "output_type": "execute_result",
          "data": {
            "text/plain": [
              "LogisticRegression()"
            ],
            "text/html": [
              "<style>#sk-container-id-2 {color: black;background-color: white;}#sk-container-id-2 pre{padding: 0;}#sk-container-id-2 div.sk-toggleable {background-color: white;}#sk-container-id-2 label.sk-toggleable__label {cursor: pointer;display: block;width: 100%;margin-bottom: 0;padding: 0.3em;box-sizing: border-box;text-align: center;}#sk-container-id-2 label.sk-toggleable__label-arrow:before {content: \"▸\";float: left;margin-right: 0.25em;color: #696969;}#sk-container-id-2 label.sk-toggleable__label-arrow:hover:before {color: black;}#sk-container-id-2 div.sk-estimator:hover label.sk-toggleable__label-arrow:before {color: black;}#sk-container-id-2 div.sk-toggleable__content {max-height: 0;max-width: 0;overflow: hidden;text-align: left;background-color: #f0f8ff;}#sk-container-id-2 div.sk-toggleable__content pre {margin: 0.2em;color: black;border-radius: 0.25em;background-color: #f0f8ff;}#sk-container-id-2 input.sk-toggleable__control:checked~div.sk-toggleable__content {max-height: 200px;max-width: 100%;overflow: auto;}#sk-container-id-2 input.sk-toggleable__control:checked~label.sk-toggleable__label-arrow:before {content: \"▾\";}#sk-container-id-2 div.sk-estimator input.sk-toggleable__control:checked~label.sk-toggleable__label {background-color: #d4ebff;}#sk-container-id-2 div.sk-label input.sk-toggleable__control:checked~label.sk-toggleable__label {background-color: #d4ebff;}#sk-container-id-2 input.sk-hidden--visually {border: 0;clip: rect(1px 1px 1px 1px);clip: rect(1px, 1px, 1px, 1px);height: 1px;margin: -1px;overflow: hidden;padding: 0;position: absolute;width: 1px;}#sk-container-id-2 div.sk-estimator {font-family: monospace;background-color: #f0f8ff;border: 1px dotted black;border-radius: 0.25em;box-sizing: border-box;margin-bottom: 0.5em;}#sk-container-id-2 div.sk-estimator:hover {background-color: #d4ebff;}#sk-container-id-2 div.sk-parallel-item::after {content: \"\";width: 100%;border-bottom: 1px solid gray;flex-grow: 1;}#sk-container-id-2 div.sk-label:hover label.sk-toggleable__label {background-color: #d4ebff;}#sk-container-id-2 div.sk-serial::before {content: \"\";position: absolute;border-left: 1px solid gray;box-sizing: border-box;top: 0;bottom: 0;left: 50%;z-index: 0;}#sk-container-id-2 div.sk-serial {display: flex;flex-direction: column;align-items: center;background-color: white;padding-right: 0.2em;padding-left: 0.2em;position: relative;}#sk-container-id-2 div.sk-item {position: relative;z-index: 1;}#sk-container-id-2 div.sk-parallel {display: flex;align-items: stretch;justify-content: center;background-color: white;position: relative;}#sk-container-id-2 div.sk-item::before, #sk-container-id-2 div.sk-parallel-item::before {content: \"\";position: absolute;border-left: 1px solid gray;box-sizing: border-box;top: 0;bottom: 0;left: 50%;z-index: -1;}#sk-container-id-2 div.sk-parallel-item {display: flex;flex-direction: column;z-index: 1;position: relative;background-color: white;}#sk-container-id-2 div.sk-parallel-item:first-child::after {align-self: flex-end;width: 50%;}#sk-container-id-2 div.sk-parallel-item:last-child::after {align-self: flex-start;width: 50%;}#sk-container-id-2 div.sk-parallel-item:only-child::after {width: 0;}#sk-container-id-2 div.sk-dashed-wrapped {border: 1px dashed gray;margin: 0 0.4em 0.5em 0.4em;box-sizing: border-box;padding-bottom: 0.4em;background-color: white;}#sk-container-id-2 div.sk-label label {font-family: monospace;font-weight: bold;display: inline-block;line-height: 1.2em;}#sk-container-id-2 div.sk-label-container {text-align: center;}#sk-container-id-2 div.sk-container {/* jupyter's `normalize.less` sets `[hidden] { display: none; }` but bootstrap.min.css set `[hidden] { display: none !important; }` so we also need the `!important` here to be able to override the default hidden behavior on the sphinx rendered scikit-learn.org. See: https://github.com/scikit-learn/scikit-learn/issues/21755 */display: inline-block !important;position: relative;}#sk-container-id-2 div.sk-text-repr-fallback {display: none;}</style><div id=\"sk-container-id-2\" class=\"sk-top-container\"><div class=\"sk-text-repr-fallback\"><pre>LogisticRegression()</pre><b>In a Jupyter environment, please rerun this cell to show the HTML representation or trust the notebook. <br />On GitHub, the HTML representation is unable to render, please try loading this page with nbviewer.org.</b></div><div class=\"sk-container\" hidden><div class=\"sk-item\"><div class=\"sk-estimator sk-toggleable\"><input class=\"sk-toggleable__control sk-hidden--visually\" id=\"sk-estimator-id-2\" type=\"checkbox\" checked><label for=\"sk-estimator-id-2\" class=\"sk-toggleable__label sk-toggleable__label-arrow\">LogisticRegression</label><div class=\"sk-toggleable__content\"><pre>LogisticRegression()</pre></div></div></div></div></div>"
            ]
          },
          "metadata": {},
          "execution_count": 25
        }
      ]
    },
    {
      "cell_type": "code",
      "source": [
        "lrr.coef_"
      ],
      "metadata": {
        "colab": {
          "base_uri": "https://localhost:8080/"
        },
        "id": "Iw-Xsv71Pn7h",
        "outputId": "e93ef4b0-40f4-4be6-b1f4-f1aa3a9700cc"
      },
      "execution_count": 26,
      "outputs": [
        {
          "output_type": "execute_result",
          "data": {
            "text/plain": [
              "array([[ 6.20424704e-07, -7.50399972e-07, -9.08593847e-07,\n",
              "        -6.69768860e-07, -1.35155302e-06, -2.04866679e-09,\n",
              "        -8.37415219e-07,  3.41649323e-07,  2.56677305e-07,\n",
              "         7.47724176e-07, -1.39439040e-07, -9.08584951e-08,\n",
              "         1.26067201e-07,  4.15679145e-07,  2.37362565e-07,\n",
              "         4.39241975e-07,  1.62701716e-07,  7.93916512e-08,\n",
              "         6.64710414e-08,  1.08539493e-08,  5.34081276e-07,\n",
              "         2.20315199e-07, -7.51294328e-07,  2.06867753e-07,\n",
              "         1.04622896e-06,  1.31172054e-06,  2.32252351e-07,\n",
              "         2.21071534e-07,  1.00824493e-07, -2.63878290e-07,\n",
              "        -3.66543449e-07, -8.87640618e-08, -1.95914652e-05,\n",
              "        -3.94506441e-06,  5.18398990e-07,  1.75888195e-07,\n",
              "         1.75870659e-07,  1.77027159e-08,  1.08201357e-07,\n",
              "        -3.25539754e-09,  6.67552218e-07,  5.64776038e-07,\n",
              "         2.75822410e-07, -1.34893350e-08, -1.84795894e-07,\n",
              "        -3.11994425e-07, -1.21010625e-07]])"
            ]
          },
          "metadata": {},
          "execution_count": 26
        }
      ]
    },
    {
      "cell_type": "code",
      "source": [
        "lrr.intercept_"
      ],
      "metadata": {
        "colab": {
          "base_uri": "https://localhost:8080/"
        },
        "id": "cjeOpzJuPny1",
        "outputId": "a34d230d-95a5-44d1-bb4f-b54fe7ce392b"
      },
      "execution_count": 27,
      "outputs": [
        {
          "output_type": "execute_result",
          "data": {
            "text/plain": [
              "array([-8.13645923e-11])"
            ]
          },
          "metadata": {},
          "execution_count": 27
        }
      ]
    },
    {
      "cell_type": "code",
      "source": [
        "ypred=lrr.predict(xtest)"
      ],
      "metadata": {
        "id": "olOiDATgPnkU"
      },
      "execution_count": 28,
      "outputs": []
    },
    {
      "cell_type": "code",
      "source": [
        "from sklearn.metrics import accuracy_score, classification_report, confusion_matrix"
      ],
      "metadata": {
        "id": "9RmOMvuOPngW"
      },
      "execution_count": 29,
      "outputs": []
    },
    {
      "cell_type": "code",
      "source": [
        "print(accuracy_score(ytest,ypred)*100)"
      ],
      "metadata": {
        "id": "V1g3PNAwP_pq",
        "colab": {
          "base_uri": "https://localhost:8080/"
        },
        "outputId": "dc042d20-69eb-430a-bd57-87b0fe79348b"
      },
      "execution_count": 30,
      "outputs": [
        {
          "output_type": "stream",
          "name": "stdout",
          "text": [
            "98.7002599480104\n"
          ]
        }
      ]
    },
    {
      "cell_type": "code",
      "source": [
        "print(classification_report(ytest,ypred))"
      ],
      "metadata": {
        "colab": {
          "base_uri": "https://localhost:8080/"
        },
        "id": "-iifDuQQGIET",
        "outputId": "cf946c50-73d5-4ba2-bd9d-8b3a280a21fd"
      },
      "execution_count": 73,
      "outputs": [
        {
          "output_type": "stream",
          "name": "stdout",
          "text": [
            "              precision    recall  f1-score   support\n",
            "\n",
            "         0.0       0.99      1.00      0.99      4918\n",
            "         1.0       0.75      0.47      0.58        83\n",
            "\n",
            "    accuracy                           0.99      5001\n",
            "   macro avg       0.87      0.73      0.79      5001\n",
            "weighted avg       0.99      0.99      0.99      5001\n",
            "\n"
          ]
        }
      ]
    },
    {
      "cell_type": "code",
      "source": [
        "print(confusion_matrix(ytest,ypred))"
      ],
      "metadata": {
        "id": "PMnNPpYEQHTN",
        "colab": {
          "base_uri": "https://localhost:8080/"
        },
        "outputId": "4f3f54f4-f5fd-4eaa-923f-31c1b9cf3d49"
      },
      "execution_count": 31,
      "outputs": [
        {
          "output_type": "stream",
          "name": "stdout",
          "text": [
            "[[4894   24]\n",
            " [  41   42]]\n"
          ]
        }
      ]
    },
    {
      "cell_type": "markdown",
      "source": [
        "###Support Vector machine"
      ],
      "metadata": {
        "id": "biQD2VVnTRS7"
      }
    },
    {
      "cell_type": "code",
      "source": [
        "from sklearn.svm import  SVC"
      ],
      "metadata": {
        "id": "VsmrAGRuQHHR"
      },
      "execution_count": 32,
      "outputs": []
    },
    {
      "cell_type": "code",
      "source": [
        "svc=SVC()"
      ],
      "metadata": {
        "id": "QF-YuXX-QYS1"
      },
      "execution_count": 33,
      "outputs": []
    },
    {
      "cell_type": "code",
      "source": [
        "svc.fit(xtrain,ytrain)"
      ],
      "metadata": {
        "id": "3NBBBe-1QYNw",
        "colab": {
          "base_uri": "https://localhost:8080/",
          "height": 75
        },
        "outputId": "d497d77f-9e01-474f-baac-7f4a503a6fc7"
      },
      "execution_count": 34,
      "outputs": [
        {
          "output_type": "execute_result",
          "data": {
            "text/plain": [
              "SVC()"
            ],
            "text/html": [
              "<style>#sk-container-id-3 {color: black;background-color: white;}#sk-container-id-3 pre{padding: 0;}#sk-container-id-3 div.sk-toggleable {background-color: white;}#sk-container-id-3 label.sk-toggleable__label {cursor: pointer;display: block;width: 100%;margin-bottom: 0;padding: 0.3em;box-sizing: border-box;text-align: center;}#sk-container-id-3 label.sk-toggleable__label-arrow:before {content: \"▸\";float: left;margin-right: 0.25em;color: #696969;}#sk-container-id-3 label.sk-toggleable__label-arrow:hover:before {color: black;}#sk-container-id-3 div.sk-estimator:hover label.sk-toggleable__label-arrow:before {color: black;}#sk-container-id-3 div.sk-toggleable__content {max-height: 0;max-width: 0;overflow: hidden;text-align: left;background-color: #f0f8ff;}#sk-container-id-3 div.sk-toggleable__content pre {margin: 0.2em;color: black;border-radius: 0.25em;background-color: #f0f8ff;}#sk-container-id-3 input.sk-toggleable__control:checked~div.sk-toggleable__content {max-height: 200px;max-width: 100%;overflow: auto;}#sk-container-id-3 input.sk-toggleable__control:checked~label.sk-toggleable__label-arrow:before {content: \"▾\";}#sk-container-id-3 div.sk-estimator input.sk-toggleable__control:checked~label.sk-toggleable__label {background-color: #d4ebff;}#sk-container-id-3 div.sk-label input.sk-toggleable__control:checked~label.sk-toggleable__label {background-color: #d4ebff;}#sk-container-id-3 input.sk-hidden--visually {border: 0;clip: rect(1px 1px 1px 1px);clip: rect(1px, 1px, 1px, 1px);height: 1px;margin: -1px;overflow: hidden;padding: 0;position: absolute;width: 1px;}#sk-container-id-3 div.sk-estimator {font-family: monospace;background-color: #f0f8ff;border: 1px dotted black;border-radius: 0.25em;box-sizing: border-box;margin-bottom: 0.5em;}#sk-container-id-3 div.sk-estimator:hover {background-color: #d4ebff;}#sk-container-id-3 div.sk-parallel-item::after {content: \"\";width: 100%;border-bottom: 1px solid gray;flex-grow: 1;}#sk-container-id-3 div.sk-label:hover label.sk-toggleable__label {background-color: #d4ebff;}#sk-container-id-3 div.sk-serial::before {content: \"\";position: absolute;border-left: 1px solid gray;box-sizing: border-box;top: 0;bottom: 0;left: 50%;z-index: 0;}#sk-container-id-3 div.sk-serial {display: flex;flex-direction: column;align-items: center;background-color: white;padding-right: 0.2em;padding-left: 0.2em;position: relative;}#sk-container-id-3 div.sk-item {position: relative;z-index: 1;}#sk-container-id-3 div.sk-parallel {display: flex;align-items: stretch;justify-content: center;background-color: white;position: relative;}#sk-container-id-3 div.sk-item::before, #sk-container-id-3 div.sk-parallel-item::before {content: \"\";position: absolute;border-left: 1px solid gray;box-sizing: border-box;top: 0;bottom: 0;left: 50%;z-index: -1;}#sk-container-id-3 div.sk-parallel-item {display: flex;flex-direction: column;z-index: 1;position: relative;background-color: white;}#sk-container-id-3 div.sk-parallel-item:first-child::after {align-self: flex-end;width: 50%;}#sk-container-id-3 div.sk-parallel-item:last-child::after {align-self: flex-start;width: 50%;}#sk-container-id-3 div.sk-parallel-item:only-child::after {width: 0;}#sk-container-id-3 div.sk-dashed-wrapped {border: 1px dashed gray;margin: 0 0.4em 0.5em 0.4em;box-sizing: border-box;padding-bottom: 0.4em;background-color: white;}#sk-container-id-3 div.sk-label label {font-family: monospace;font-weight: bold;display: inline-block;line-height: 1.2em;}#sk-container-id-3 div.sk-label-container {text-align: center;}#sk-container-id-3 div.sk-container {/* jupyter's `normalize.less` sets `[hidden] { display: none; }` but bootstrap.min.css set `[hidden] { display: none !important; }` so we also need the `!important` here to be able to override the default hidden behavior on the sphinx rendered scikit-learn.org. See: https://github.com/scikit-learn/scikit-learn/issues/21755 */display: inline-block !important;position: relative;}#sk-container-id-3 div.sk-text-repr-fallback {display: none;}</style><div id=\"sk-container-id-3\" class=\"sk-top-container\"><div class=\"sk-text-repr-fallback\"><pre>SVC()</pre><b>In a Jupyter environment, please rerun this cell to show the HTML representation or trust the notebook. <br />On GitHub, the HTML representation is unable to render, please try loading this page with nbviewer.org.</b></div><div class=\"sk-container\" hidden><div class=\"sk-item\"><div class=\"sk-estimator sk-toggleable\"><input class=\"sk-toggleable__control sk-hidden--visually\" id=\"sk-estimator-id-3\" type=\"checkbox\" checked><label for=\"sk-estimator-id-3\" class=\"sk-toggleable__label sk-toggleable__label-arrow\">SVC</label><div class=\"sk-toggleable__content\"><pre>SVC()</pre></div></div></div></div></div>"
            ]
          },
          "metadata": {},
          "execution_count": 34
        }
      ]
    },
    {
      "cell_type": "code",
      "source": [
        "ypred=svc.predict(xtest)"
      ],
      "metadata": {
        "id": "PyTCk8w-QYJW"
      },
      "execution_count": 35,
      "outputs": []
    },
    {
      "cell_type": "code",
      "source": [
        "accuracy_score(ytest,ypred)"
      ],
      "metadata": {
        "id": "Bch_eZEvQX-_",
        "colab": {
          "base_uri": "https://localhost:8080/"
        },
        "outputId": "dd5c810f-9ae4-411a-840e-2486331474f1"
      },
      "execution_count": 36,
      "outputs": [
        {
          "output_type": "execute_result",
          "data": {
            "text/plain": [
              "0.9888022395520896"
            ]
          },
          "metadata": {},
          "execution_count": 36
        }
      ]
    },
    {
      "cell_type": "code",
      "source": [
        "confusion_matrix(ytest,ypred)"
      ],
      "metadata": {
        "id": "ojb6dXXpQX40",
        "colab": {
          "base_uri": "https://localhost:8080/"
        },
        "outputId": "9b77c904-c809-429b-8253-279d8887c6c7"
      },
      "execution_count": 37,
      "outputs": [
        {
          "output_type": "execute_result",
          "data": {
            "text/plain": [
              "array([[4908,   10],\n",
              "       [  46,   37]])"
            ]
          },
          "metadata": {},
          "execution_count": 37
        }
      ]
    },
    {
      "cell_type": "code",
      "source": [
        "print(classification_report(ytest,ypred))"
      ],
      "metadata": {
        "id": "MiV6ZjHVQXzV",
        "colab": {
          "base_uri": "https://localhost:8080/"
        },
        "outputId": "95915983-c024-452a-ab19-1ef7eff1b29a"
      },
      "execution_count": 38,
      "outputs": [
        {
          "output_type": "stream",
          "name": "stdout",
          "text": [
            "              precision    recall  f1-score   support\n",
            "\n",
            "         0.0       0.99      1.00      0.99      4918\n",
            "         1.0       0.79      0.45      0.57        83\n",
            "\n",
            "    accuracy                           0.99      5001\n",
            "   macro avg       0.89      0.72      0.78      5001\n",
            "weighted avg       0.99      0.99      0.99      5001\n",
            "\n"
          ]
        }
      ]
    },
    {
      "cell_type": "markdown",
      "source": [
        "###Naive bayes"
      ],
      "metadata": {
        "id": "_RXumDZWTXL1"
      }
    },
    {
      "cell_type": "code",
      "source": [
        "from sklearn.naive_bayes import GaussianNB"
      ],
      "metadata": {
        "id": "ZW7zDFrtQXsr"
      },
      "execution_count": 39,
      "outputs": []
    },
    {
      "cell_type": "code",
      "source": [
        "nb=GaussianNB()"
      ],
      "metadata": {
        "id": "jy-qSfwwQXmc"
      },
      "execution_count": 40,
      "outputs": []
    },
    {
      "cell_type": "code",
      "source": [
        "nb.fit(xtrain,ytrain)"
      ],
      "metadata": {
        "id": "vyiOdBGGQXfJ",
        "colab": {
          "base_uri": "https://localhost:8080/",
          "height": 75
        },
        "outputId": "5dae7722-9341-43c4-eacd-df0eb45d45a5"
      },
      "execution_count": 41,
      "outputs": [
        {
          "output_type": "execute_result",
          "data": {
            "text/plain": [
              "GaussianNB()"
            ],
            "text/html": [
              "<style>#sk-container-id-4 {color: black;background-color: white;}#sk-container-id-4 pre{padding: 0;}#sk-container-id-4 div.sk-toggleable {background-color: white;}#sk-container-id-4 label.sk-toggleable__label {cursor: pointer;display: block;width: 100%;margin-bottom: 0;padding: 0.3em;box-sizing: border-box;text-align: center;}#sk-container-id-4 label.sk-toggleable__label-arrow:before {content: \"▸\";float: left;margin-right: 0.25em;color: #696969;}#sk-container-id-4 label.sk-toggleable__label-arrow:hover:before {color: black;}#sk-container-id-4 div.sk-estimator:hover label.sk-toggleable__label-arrow:before {color: black;}#sk-container-id-4 div.sk-toggleable__content {max-height: 0;max-width: 0;overflow: hidden;text-align: left;background-color: #f0f8ff;}#sk-container-id-4 div.sk-toggleable__content pre {margin: 0.2em;color: black;border-radius: 0.25em;background-color: #f0f8ff;}#sk-container-id-4 input.sk-toggleable__control:checked~div.sk-toggleable__content {max-height: 200px;max-width: 100%;overflow: auto;}#sk-container-id-4 input.sk-toggleable__control:checked~label.sk-toggleable__label-arrow:before {content: \"▾\";}#sk-container-id-4 div.sk-estimator input.sk-toggleable__control:checked~label.sk-toggleable__label {background-color: #d4ebff;}#sk-container-id-4 div.sk-label input.sk-toggleable__control:checked~label.sk-toggleable__label {background-color: #d4ebff;}#sk-container-id-4 input.sk-hidden--visually {border: 0;clip: rect(1px 1px 1px 1px);clip: rect(1px, 1px, 1px, 1px);height: 1px;margin: -1px;overflow: hidden;padding: 0;position: absolute;width: 1px;}#sk-container-id-4 div.sk-estimator {font-family: monospace;background-color: #f0f8ff;border: 1px dotted black;border-radius: 0.25em;box-sizing: border-box;margin-bottom: 0.5em;}#sk-container-id-4 div.sk-estimator:hover {background-color: #d4ebff;}#sk-container-id-4 div.sk-parallel-item::after {content: \"\";width: 100%;border-bottom: 1px solid gray;flex-grow: 1;}#sk-container-id-4 div.sk-label:hover label.sk-toggleable__label {background-color: #d4ebff;}#sk-container-id-4 div.sk-serial::before {content: \"\";position: absolute;border-left: 1px solid gray;box-sizing: border-box;top: 0;bottom: 0;left: 50%;z-index: 0;}#sk-container-id-4 div.sk-serial {display: flex;flex-direction: column;align-items: center;background-color: white;padding-right: 0.2em;padding-left: 0.2em;position: relative;}#sk-container-id-4 div.sk-item {position: relative;z-index: 1;}#sk-container-id-4 div.sk-parallel {display: flex;align-items: stretch;justify-content: center;background-color: white;position: relative;}#sk-container-id-4 div.sk-item::before, #sk-container-id-4 div.sk-parallel-item::before {content: \"\";position: absolute;border-left: 1px solid gray;box-sizing: border-box;top: 0;bottom: 0;left: 50%;z-index: -1;}#sk-container-id-4 div.sk-parallel-item {display: flex;flex-direction: column;z-index: 1;position: relative;background-color: white;}#sk-container-id-4 div.sk-parallel-item:first-child::after {align-self: flex-end;width: 50%;}#sk-container-id-4 div.sk-parallel-item:last-child::after {align-self: flex-start;width: 50%;}#sk-container-id-4 div.sk-parallel-item:only-child::after {width: 0;}#sk-container-id-4 div.sk-dashed-wrapped {border: 1px dashed gray;margin: 0 0.4em 0.5em 0.4em;box-sizing: border-box;padding-bottom: 0.4em;background-color: white;}#sk-container-id-4 div.sk-label label {font-family: monospace;font-weight: bold;display: inline-block;line-height: 1.2em;}#sk-container-id-4 div.sk-label-container {text-align: center;}#sk-container-id-4 div.sk-container {/* jupyter's `normalize.less` sets `[hidden] { display: none; }` but bootstrap.min.css set `[hidden] { display: none !important; }` so we also need the `!important` here to be able to override the default hidden behavior on the sphinx rendered scikit-learn.org. See: https://github.com/scikit-learn/scikit-learn/issues/21755 */display: inline-block !important;position: relative;}#sk-container-id-4 div.sk-text-repr-fallback {display: none;}</style><div id=\"sk-container-id-4\" class=\"sk-top-container\"><div class=\"sk-text-repr-fallback\"><pre>GaussianNB()</pre><b>In a Jupyter environment, please rerun this cell to show the HTML representation or trust the notebook. <br />On GitHub, the HTML representation is unable to render, please try loading this page with nbviewer.org.</b></div><div class=\"sk-container\" hidden><div class=\"sk-item\"><div class=\"sk-estimator sk-toggleable\"><input class=\"sk-toggleable__control sk-hidden--visually\" id=\"sk-estimator-id-4\" type=\"checkbox\" checked><label for=\"sk-estimator-id-4\" class=\"sk-toggleable__label sk-toggleable__label-arrow\">GaussianNB</label><div class=\"sk-toggleable__content\"><pre>GaussianNB()</pre></div></div></div></div></div>"
            ]
          },
          "metadata": {},
          "execution_count": 41
        }
      ]
    },
    {
      "cell_type": "code",
      "source": [
        "ypred=nb.predict(xtest)"
      ],
      "metadata": {
        "id": "hwhCNQKsQXXN"
      },
      "execution_count": 42,
      "outputs": []
    },
    {
      "cell_type": "code",
      "source": [
        "ypred"
      ],
      "metadata": {
        "id": "RPICNi2RQu91",
        "colab": {
          "base_uri": "https://localhost:8080/"
        },
        "outputId": "401c63b4-51ea-4e22-df22-fe8a833cf9a0"
      },
      "execution_count": 43,
      "outputs": [
        {
          "output_type": "execute_result",
          "data": {
            "text/plain": [
              "array([0., 0., 0., ..., 0., 0., 0.])"
            ]
          },
          "metadata": {},
          "execution_count": 43
        }
      ]
    },
    {
      "cell_type": "code",
      "source": [
        "print(classification_report(ytest,ypred))"
      ],
      "metadata": {
        "id": "pqPmUYtcQuu9",
        "colab": {
          "base_uri": "https://localhost:8080/"
        },
        "outputId": "9b09d9bd-a350-4acd-969d-b30927bb9cc2"
      },
      "execution_count": 44,
      "outputs": [
        {
          "output_type": "stream",
          "name": "stdout",
          "text": [
            "              precision    recall  f1-score   support\n",
            "\n",
            "         0.0       1.00      0.97      0.98      4918\n",
            "         1.0       0.32      0.80      0.45        83\n",
            "\n",
            "    accuracy                           0.97      5001\n",
            "   macro avg       0.66      0.88      0.72      5001\n",
            "weighted avg       0.99      0.97      0.97      5001\n",
            "\n"
          ]
        }
      ]
    },
    {
      "cell_type": "code",
      "source": [
        "confusion_matrix(ytest,ypred)"
      ],
      "metadata": {
        "id": "hV_pI9q4Qumq",
        "colab": {
          "base_uri": "https://localhost:8080/"
        },
        "outputId": "7c547cb0-8c68-4fbf-fba4-74f910e68221"
      },
      "execution_count": 45,
      "outputs": [
        {
          "output_type": "execute_result",
          "data": {
            "text/plain": [
              "array([[4775,  143],\n",
              "       [  17,   66]])"
            ]
          },
          "metadata": {},
          "execution_count": 45
        }
      ]
    },
    {
      "cell_type": "code",
      "source": [
        "accuracy_score(ytest,ypred)"
      ],
      "metadata": {
        "id": "JWUEsn9QQ4WN",
        "colab": {
          "base_uri": "https://localhost:8080/"
        },
        "outputId": "f1281cfc-9eb1-40e0-bdd7-7e55effa94cf"
      },
      "execution_count": 46,
      "outputs": [
        {
          "output_type": "execute_result",
          "data": {
            "text/plain": [
              "0.968006398720256"
            ]
          },
          "metadata": {},
          "execution_count": 46
        }
      ]
    },
    {
      "cell_type": "markdown",
      "source": [
        "###Decision tree"
      ],
      "metadata": {
        "id": "euTAN-8tTeqC"
      }
    },
    {
      "cell_type": "code",
      "source": [
        "from sklearn.tree import DecisionTreeClassifier"
      ],
      "metadata": {
        "id": "FS1lH9G2Q4OO"
      },
      "execution_count": 47,
      "outputs": []
    },
    {
      "cell_type": "code",
      "source": [
        "dtc=DecisionTreeClassifier()"
      ],
      "metadata": {
        "id": "wr12WM8tQ829"
      },
      "execution_count": 48,
      "outputs": []
    },
    {
      "cell_type": "code",
      "source": [
        "dtc.fit(xtrain,ytrain)"
      ],
      "metadata": {
        "id": "Da1Rs-mtQ8wV",
        "colab": {
          "base_uri": "https://localhost:8080/",
          "height": 75
        },
        "outputId": "e17a4b7e-042c-468e-e10c-d28160f58dfc"
      },
      "execution_count": 49,
      "outputs": [
        {
          "output_type": "execute_result",
          "data": {
            "text/plain": [
              "DecisionTreeClassifier()"
            ],
            "text/html": [
              "<style>#sk-container-id-5 {color: black;background-color: white;}#sk-container-id-5 pre{padding: 0;}#sk-container-id-5 div.sk-toggleable {background-color: white;}#sk-container-id-5 label.sk-toggleable__label {cursor: pointer;display: block;width: 100%;margin-bottom: 0;padding: 0.3em;box-sizing: border-box;text-align: center;}#sk-container-id-5 label.sk-toggleable__label-arrow:before {content: \"▸\";float: left;margin-right: 0.25em;color: #696969;}#sk-container-id-5 label.sk-toggleable__label-arrow:hover:before {color: black;}#sk-container-id-5 div.sk-estimator:hover label.sk-toggleable__label-arrow:before {color: black;}#sk-container-id-5 div.sk-toggleable__content {max-height: 0;max-width: 0;overflow: hidden;text-align: left;background-color: #f0f8ff;}#sk-container-id-5 div.sk-toggleable__content pre {margin: 0.2em;color: black;border-radius: 0.25em;background-color: #f0f8ff;}#sk-container-id-5 input.sk-toggleable__control:checked~div.sk-toggleable__content {max-height: 200px;max-width: 100%;overflow: auto;}#sk-container-id-5 input.sk-toggleable__control:checked~label.sk-toggleable__label-arrow:before {content: \"▾\";}#sk-container-id-5 div.sk-estimator input.sk-toggleable__control:checked~label.sk-toggleable__label {background-color: #d4ebff;}#sk-container-id-5 div.sk-label input.sk-toggleable__control:checked~label.sk-toggleable__label {background-color: #d4ebff;}#sk-container-id-5 input.sk-hidden--visually {border: 0;clip: rect(1px 1px 1px 1px);clip: rect(1px, 1px, 1px, 1px);height: 1px;margin: -1px;overflow: hidden;padding: 0;position: absolute;width: 1px;}#sk-container-id-5 div.sk-estimator {font-family: monospace;background-color: #f0f8ff;border: 1px dotted black;border-radius: 0.25em;box-sizing: border-box;margin-bottom: 0.5em;}#sk-container-id-5 div.sk-estimator:hover {background-color: #d4ebff;}#sk-container-id-5 div.sk-parallel-item::after {content: \"\";width: 100%;border-bottom: 1px solid gray;flex-grow: 1;}#sk-container-id-5 div.sk-label:hover label.sk-toggleable__label {background-color: #d4ebff;}#sk-container-id-5 div.sk-serial::before {content: \"\";position: absolute;border-left: 1px solid gray;box-sizing: border-box;top: 0;bottom: 0;left: 50%;z-index: 0;}#sk-container-id-5 div.sk-serial {display: flex;flex-direction: column;align-items: center;background-color: white;padding-right: 0.2em;padding-left: 0.2em;position: relative;}#sk-container-id-5 div.sk-item {position: relative;z-index: 1;}#sk-container-id-5 div.sk-parallel {display: flex;align-items: stretch;justify-content: center;background-color: white;position: relative;}#sk-container-id-5 div.sk-item::before, #sk-container-id-5 div.sk-parallel-item::before {content: \"\";position: absolute;border-left: 1px solid gray;box-sizing: border-box;top: 0;bottom: 0;left: 50%;z-index: -1;}#sk-container-id-5 div.sk-parallel-item {display: flex;flex-direction: column;z-index: 1;position: relative;background-color: white;}#sk-container-id-5 div.sk-parallel-item:first-child::after {align-self: flex-end;width: 50%;}#sk-container-id-5 div.sk-parallel-item:last-child::after {align-self: flex-start;width: 50%;}#sk-container-id-5 div.sk-parallel-item:only-child::after {width: 0;}#sk-container-id-5 div.sk-dashed-wrapped {border: 1px dashed gray;margin: 0 0.4em 0.5em 0.4em;box-sizing: border-box;padding-bottom: 0.4em;background-color: white;}#sk-container-id-5 div.sk-label label {font-family: monospace;font-weight: bold;display: inline-block;line-height: 1.2em;}#sk-container-id-5 div.sk-label-container {text-align: center;}#sk-container-id-5 div.sk-container {/* jupyter's `normalize.less` sets `[hidden] { display: none; }` but bootstrap.min.css set `[hidden] { display: none !important; }` so we also need the `!important` here to be able to override the default hidden behavior on the sphinx rendered scikit-learn.org. See: https://github.com/scikit-learn/scikit-learn/issues/21755 */display: inline-block !important;position: relative;}#sk-container-id-5 div.sk-text-repr-fallback {display: none;}</style><div id=\"sk-container-id-5\" class=\"sk-top-container\"><div class=\"sk-text-repr-fallback\"><pre>DecisionTreeClassifier()</pre><b>In a Jupyter environment, please rerun this cell to show the HTML representation or trust the notebook. <br />On GitHub, the HTML representation is unable to render, please try loading this page with nbviewer.org.</b></div><div class=\"sk-container\" hidden><div class=\"sk-item\"><div class=\"sk-estimator sk-toggleable\"><input class=\"sk-toggleable__control sk-hidden--visually\" id=\"sk-estimator-id-5\" type=\"checkbox\" checked><label for=\"sk-estimator-id-5\" class=\"sk-toggleable__label sk-toggleable__label-arrow\">DecisionTreeClassifier</label><div class=\"sk-toggleable__content\"><pre>DecisionTreeClassifier()</pre></div></div></div></div></div>"
            ]
          },
          "metadata": {},
          "execution_count": 49
        }
      ]
    },
    {
      "cell_type": "code",
      "source": [
        "from sklearn.tree import plot_tree"
      ],
      "metadata": {
        "id": "okIsKpgIQ8nX"
      },
      "execution_count": 50,
      "outputs": []
    },
    {
      "cell_type": "code",
      "source": [
        "plot_tree(dtc)"
      ],
      "metadata": {
        "id": "urofscnkQ8e6",
        "colab": {
          "base_uri": "https://localhost:8080/",
          "height": 1000
        },
        "outputId": "45abafef-d422-4a52-9649-59cd13f7a704"
      },
      "execution_count": 51,
      "outputs": [
        {
          "output_type": "execute_result",
          "data": {
            "text/plain": [
              "[Text(0.6169091694509958, 0.9761904761904762, 'x[31] <= 3342319.0\\ngini = 0.037\\nsamples = 15002\\nvalue = [14716, 286]'),\n",
              " Text(0.39503427181603773, 0.9285714285714286, 'x[38] <= 101000.0\\ngini = 0.011\\nsamples = 14535\\nvalue = [14456, 79]'),\n",
              " Text(0.3186324849318658, 0.8809523809523809, 'x[1] <= 4759504.0\\ngini = 0.005\\nsamples = 14310\\nvalue = [14275, 35]'),\n",
              " Text(0.2817094143081761, 0.8333333333333334, 'x[9] <= 2446608.0\\ngini = 0.003\\nsamples = 14218\\nvalue = [14196, 22]'),\n",
              " Text(0.261532036163522, 0.7857142857142857, 'x[34] <= 753420.375\\ngini = 0.003\\nsamples = 14203\\nvalue = [14184, 19]'),\n",
              " Text(0.24130306603773585, 0.7380952380952381, 'x[43] <= 24343.0\\ngini = 0.003\\nsamples = 14201\\nvalue = [14183, 18]'),\n",
              " Text(0.22097091194968554, 0.6904761904761905, 'x[25] <= 1892710.0\\ngini = 0.002\\nsamples = 14199\\nvalue = [14182, 17]'),\n",
              " Text(0.2004323899371069, 0.6428571428571429, 'x[13] <= 41710.0\\ngini = 0.002\\nsamples = 14196\\nvalue = [14180, 16]'),\n",
              " Text(0.1794811320754717, 0.5952380952380952, 'x[43] <= 10206.0\\ngini = 0.002\\nsamples = 14121\\nvalue = [14109, 12]'),\n",
              " Text(0.15770440251572326, 0.5476190476190477, 'x[37] <= 21520556.0\\ngini = 0.002\\nsamples = 14114\\nvalue = [14103, 11]'),\n",
              " Text(0.13427672955974843, 0.5, 'x[40] <= 3296023.0\\ngini = 0.001\\nsamples = 14103\\nvalue = [14093, 10]'),\n",
              " Text(0.10754716981132076, 0.4523809523809524, 'x[28] <= 6717145.0\\ngini = 0.001\\nsamples = 14049\\nvalue = [14041, 8]'),\n",
              " Text(0.08763102725366877, 0.40476190476190477, 'x[43] <= 3515.0\\ngini = 0.001\\nsamples = 13961\\nvalue = [13955, 6]'),\n",
              " Text(0.06792452830188679, 0.35714285714285715, 'x[31] <= 1213171.0\\ngini = 0.001\\nsamples = 13915\\nvalue = [13910, 5]'),\n",
              " Text(0.04863731656184486, 0.30952380952380953, 'x[25] <= 527604.0\\ngini = 0.001\\nsamples = 13717\\nvalue = [13713, 4]'),\n",
              " Text(0.03018867924528302, 0.2619047619047619, 'x[7] <= 3878.0\\ngini = 0.0\\nsamples = 13402\\nvalue = [13399, 3]'),\n",
              " Text(0.013417190775681341, 0.21428571428571427, 'x[7] <= 3871.0\\ngini = 0.006\\nsamples = 359\\nvalue = [358, 1]'),\n",
              " Text(0.0067085953878406705, 0.16666666666666666, 'gini = 0.0\\nsamples = 358\\nvalue = [358, 0]'),\n",
              " Text(0.02012578616352201, 0.16666666666666666, 'gini = 0.0\\nsamples = 1\\nvalue = [0, 1]'),\n",
              " Text(0.0469601677148847, 0.21428571428571427, 'x[19] <= 94262.0\\ngini = 0.0\\nsamples = 13043\\nvalue = [13041, 2]'),\n",
              " Text(0.033542976939203356, 0.16666666666666666, 'x[12] <= 1.0\\ngini = 0.0\\nsamples = 12310\\nvalue = [12309, 1]'),\n",
              " Text(0.026834381551362682, 0.11904761904761904, 'x[27] <= 27902.0\\ngini = 0.002\\nsamples = 1122\\nvalue = [1121, 1]'),\n",
              " Text(0.02012578616352201, 0.07142857142857142, 'gini = 0.0\\nsamples = 908\\nvalue = [908, 0]'),\n",
              " Text(0.033542976939203356, 0.07142857142857142, 'x[22] <= 25483.0\\ngini = 0.009\\nsamples = 214\\nvalue = [213, 1]'),\n",
              " Text(0.026834381551362682, 0.023809523809523808, 'gini = 0.0\\nsamples = 1\\nvalue = [0, 1]'),\n",
              " Text(0.04025157232704402, 0.023809523809523808, 'gini = 0.0\\nsamples = 213\\nvalue = [213, 0]'),\n",
              " Text(0.04025157232704402, 0.11904761904761904, 'gini = 0.0\\nsamples = 11188\\nvalue = [11188, 0]'),\n",
              " Text(0.06037735849056604, 0.16666666666666666, 'x[19] <= 94315.0\\ngini = 0.003\\nsamples = 733\\nvalue = [732, 1]'),\n",
              " Text(0.053668763102725364, 0.11904761904761904, 'gini = 0.0\\nsamples = 1\\nvalue = [0, 1]'),\n",
              " Text(0.06708595387840671, 0.11904761904761904, 'gini = 0.0\\nsamples = 732\\nvalue = [732, 0]'),\n",
              " Text(0.06708595387840671, 0.2619047619047619, 'x[25] <= 528647.0\\ngini = 0.006\\nsamples = 315\\nvalue = [314, 1]'),\n",
              " Text(0.06037735849056604, 0.21428571428571427, 'gini = 0.0\\nsamples = 1\\nvalue = [0, 1]'),\n",
              " Text(0.07379454926624739, 0.21428571428571427, 'gini = 0.0\\nsamples = 314\\nvalue = [314, 0]'),\n",
              " Text(0.08721174004192872, 0.30952380952380953, 'x[31] <= 1216015.0\\ngini = 0.01\\nsamples = 198\\nvalue = [197, 1]'),\n",
              " Text(0.08050314465408805, 0.2619047619047619, 'gini = 0.0\\nsamples = 1\\nvalue = [0, 1]'),\n",
              " Text(0.0939203354297694, 0.2619047619047619, 'gini = 0.0\\nsamples = 197\\nvalue = [197, 0]'),\n",
              " Text(0.10733752620545073, 0.35714285714285715, 'x[43] <= 3536.0\\ngini = 0.043\\nsamples = 46\\nvalue = [45, 1]'),\n",
              " Text(0.10062893081761007, 0.30952380952380953, 'gini = 0.0\\nsamples = 1\\nvalue = [0, 1]'),\n",
              " Text(0.1140461215932914, 0.30952380952380953, 'gini = 0.0\\nsamples = 45\\nvalue = [45, 0]'),\n",
              " Text(0.12746331236897274, 0.40476190476190477, 'x[5] <= 6722592.0\\ngini = 0.044\\nsamples = 88\\nvalue = [86, 2]'),\n",
              " Text(0.12075471698113208, 0.35714285714285715, 'gini = 0.0\\nsamples = 1\\nvalue = [0, 1]'),\n",
              " Text(0.13417190775681342, 0.35714285714285715, 'x[6] <= 11658027.0\\ngini = 0.023\\nsamples = 87\\nvalue = [86, 1]'),\n",
              " Text(0.12746331236897274, 0.30952380952380953, 'x[37] <= 14009574.0\\ngini = 0.245\\nsamples = 7\\nvalue = [6, 1]'),\n",
              " Text(0.12075471698113208, 0.2619047619047619, 'gini = 0.0\\nsamples = 6\\nvalue = [6, 0]'),\n",
              " Text(0.13417190775681342, 0.2619047619047619, 'gini = 0.0\\nsamples = 1\\nvalue = [0, 1]'),\n",
              " Text(0.14088050314465408, 0.30952380952380953, 'gini = 0.0\\nsamples = 80\\nvalue = [80, 0]'),\n",
              " Text(0.1610062893081761, 0.4523809523809524, 'x[40] <= 3450495.0\\ngini = 0.071\\nsamples = 54\\nvalue = [52, 2]'),\n",
              " Text(0.15429769392033543, 0.40476190476190477, 'x[39] <= 193.0\\ngini = 0.444\\nsamples = 3\\nvalue = [1, 2]'),\n",
              " Text(0.14758909853249477, 0.35714285714285715, 'gini = 0.0\\nsamples = 1\\nvalue = [1, 0]'),\n",
              " Text(0.1610062893081761, 0.35714285714285715, 'gini = 0.0\\nsamples = 2\\nvalue = [0, 2]'),\n",
              " Text(0.16771488469601678, 0.40476190476190477, 'gini = 0.0\\nsamples = 51\\nvalue = [51, 0]'),\n",
              " Text(0.1811320754716981, 0.5, 'x[37] <= 21571942.0\\ngini = 0.165\\nsamples = 11\\nvalue = [10, 1]'),\n",
              " Text(0.17442348008385744, 0.4523809523809524, 'gini = 0.0\\nsamples = 1\\nvalue = [0, 1]'),\n",
              " Text(0.1878406708595388, 0.4523809523809524, 'gini = 0.0\\nsamples = 10\\nvalue = [10, 0]'),\n",
              " Text(0.20125786163522014, 0.5476190476190477, 'x[43] <= 10659.0\\ngini = 0.245\\nsamples = 7\\nvalue = [6, 1]'),\n",
              " Text(0.19454926624737945, 0.5, 'gini = 0.0\\nsamples = 1\\nvalue = [0, 1]'),\n",
              " Text(0.2079664570230608, 0.5, 'gini = 0.0\\nsamples = 6\\nvalue = [6, 0]'),\n",
              " Text(0.22138364779874214, 0.5952380952380952, 'x[3] <= 6235.0\\ngini = 0.101\\nsamples = 75\\nvalue = [71, 4]'),\n",
              " Text(0.21467505241090146, 0.5476190476190477, 'gini = 0.0\\nsamples = 1\\nvalue = [0, 1]'),\n",
              " Text(0.2280922431865828, 0.5476190476190477, 'x[13] <= 42744.0\\ngini = 0.078\\nsamples = 74\\nvalue = [71, 3]'),\n",
              " Text(0.22138364779874214, 0.5, 'gini = 0.0\\nsamples = 1\\nvalue = [0, 1]'),\n",
              " Text(0.2348008385744235, 0.5, 'x[40] <= 1375361.0\\ngini = 0.053\\nsamples = 73\\nvalue = [71, 2]'),\n",
              " Text(0.2280922431865828, 0.4523809523809524, 'gini = 0.0\\nsamples = 59\\nvalue = [59, 0]'),\n",
              " Text(0.24150943396226415, 0.4523809523809524, 'x[10] <= 1322.0\\ngini = 0.245\\nsamples = 14\\nvalue = [12, 2]'),\n",
              " Text(0.2348008385744235, 0.40476190476190477, 'x[9] <= 484949.0\\ngini = 0.444\\nsamples = 3\\nvalue = [1, 2]'),\n",
              " Text(0.2280922431865828, 0.35714285714285715, 'gini = 0.0\\nsamples = 1\\nvalue = [1, 0]'),\n",
              " Text(0.24150943396226415, 0.35714285714285715, 'gini = 0.0\\nsamples = 2\\nvalue = [0, 2]'),\n",
              " Text(0.2482180293501048, 0.40476190476190477, 'gini = 0.0\\nsamples = 11\\nvalue = [11, 0]'),\n",
              " Text(0.24150943396226415, 0.6428571428571429, 'x[39] <= 91304.859\\ngini = 0.444\\nsamples = 3\\nvalue = [2, 1]'),\n",
              " Text(0.2348008385744235, 0.5952380952380952, 'gini = 0.0\\nsamples = 1\\nvalue = [0, 1]'),\n",
              " Text(0.2482180293501048, 0.5952380952380952, 'gini = 0.0\\nsamples = 2\\nvalue = [2, 0]'),\n",
              " Text(0.26163522012578616, 0.6904761904761905, 'x[3] <= 1823912.0\\ngini = 0.5\\nsamples = 2\\nvalue = [1, 1]'),\n",
              " Text(0.2549266247379455, 0.6428571428571429, 'gini = 0.0\\nsamples = 1\\nvalue = [0, 1]'),\n",
              " Text(0.26834381551362685, 0.6428571428571429, 'gini = 0.0\\nsamples = 1\\nvalue = [1, 0]'),\n",
              " Text(0.28176100628930817, 0.7380952380952381, 'x[42] <= 68527.0\\ngini = 0.5\\nsamples = 2\\nvalue = [1, 1]'),\n",
              " Text(0.2750524109014675, 0.6904761904761905, 'gini = 0.0\\nsamples = 1\\nvalue = [0, 1]'),\n",
              " Text(0.28846960167714886, 0.6904761904761905, 'gini = 0.0\\nsamples = 1\\nvalue = [1, 0]'),\n",
              " Text(0.3018867924528302, 0.7857142857142857, 'x[33] <= 266110.0\\ngini = 0.32\\nsamples = 15\\nvalue = [12, 3]'),\n",
              " Text(0.29517819706498954, 0.7380952380952381, 'gini = 0.0\\nsamples = 9\\nvalue = [9, 0]'),\n",
              " Text(0.30859538784067087, 0.7380952380952381, 'x[12] <= 48445.0\\ngini = 0.5\\nsamples = 6\\nvalue = [3, 3]'),\n",
              " Text(0.3018867924528302, 0.6904761904761905, 'gini = 0.0\\nsamples = 3\\nvalue = [3, 0]'),\n",
              " Text(0.31530398322851155, 0.6904761904761905, 'gini = 0.0\\nsamples = 3\\nvalue = [0, 3]'),\n",
              " Text(0.35555555555555557, 0.8333333333333334, 'x[10] <= 10647.0\\ngini = 0.243\\nsamples = 92\\nvalue = [79, 13]'),\n",
              " Text(0.3421383647798742, 0.7857142857142857, 'x[2] <= 6456606.0\\ngini = 0.499\\nsamples = 23\\nvalue = [12, 11]'),\n",
              " Text(0.33542976939203356, 0.7380952380952381, 'x[23] <= 568898.0\\ngini = 0.26\\nsamples = 13\\nvalue = [2, 11]'),\n",
              " Text(0.3287211740041929, 0.6904761904761905, 'gini = 0.0\\nsamples = 2\\nvalue = [2, 0]'),\n",
              " Text(0.3421383647798742, 0.6904761904761905, 'gini = 0.0\\nsamples = 11\\nvalue = [0, 11]'),\n",
              " Text(0.3488469601677149, 0.7380952380952381, 'gini = 0.0\\nsamples = 10\\nvalue = [10, 0]'),\n",
              " Text(0.3689727463312369, 0.7857142857142857, 'x[46] <= 22315.0\\ngini = 0.056\\nsamples = 69\\nvalue = [67, 2]'),\n",
              " Text(0.3622641509433962, 0.7380952380952381, 'gini = 0.0\\nsamples = 62\\nvalue = [62, 0]'),\n",
              " Text(0.3756813417190776, 0.7380952380952381, 'x[35] <= 17203080.0\\ngini = 0.408\\nsamples = 7\\nvalue = [5, 2]'),\n",
              " Text(0.3689727463312369, 0.6904761904761905, 'gini = 0.0\\nsamples = 2\\nvalue = [0, 2]'),\n",
              " Text(0.38238993710691827, 0.6904761904761905, 'gini = 0.0\\nsamples = 5\\nvalue = [5, 0]'),\n",
              " Text(0.47143605870020966, 0.8809523809523809, 'x[10] <= 89144.0\\ngini = 0.315\\nsamples = 225\\nvalue = [181, 44]'),\n",
              " Text(0.4092243186582809, 0.8333333333333334, 'x[30] <= 1647174.0\\ngini = 0.493\\nsamples = 34\\nvalue = [15, 19]'),\n",
              " Text(0.3958071278825996, 0.7857142857142857, 'x[14] <= 3093.0\\ngini = 0.1\\nsamples = 19\\nvalue = [1, 18]'),\n",
              " Text(0.3890985324947589, 0.7380952380952381, 'gini = 0.0\\nsamples = 1\\nvalue = [1, 0]'),\n",
              " Text(0.4025157232704403, 0.7380952380952381, 'gini = 0.0\\nsamples = 18\\nvalue = [0, 18]'),\n",
              " Text(0.4226415094339623, 0.7857142857142857, 'x[33] <= 295750.0\\ngini = 0.124\\nsamples = 15\\nvalue = [14, 1]'),\n",
              " Text(0.4159329140461216, 0.7380952380952381, 'gini = 0.0\\nsamples = 14\\nvalue = [14, 0]'),\n",
              " Text(0.4293501048218029, 0.7380952380952381, 'gini = 0.0\\nsamples = 1\\nvalue = [0, 1]'),\n",
              " Text(0.5336477987421384, 0.8333333333333334, 'x[41] <= 43760152.0\\ngini = 0.228\\nsamples = 191\\nvalue = [166, 25]'),\n",
              " Text(0.4966457023060797, 0.7857142857142857, 'x[8] <= 2843263.0\\ngini = 0.201\\nsamples = 185\\nvalue = [164, 21]'),\n",
              " Text(0.4427672955974843, 0.7380952380952381, 'x[1] <= 7460487.0\\ngini = 0.365\\nsamples = 50\\nvalue = [38, 12]'),\n",
              " Text(0.4360587002096436, 0.6904761904761905, 'x[44] <= 119072.0\\ngini = 0.31\\nsamples = 47\\nvalue = [38, 9]'),\n",
              " Text(0.4226415094339623, 0.6428571428571429, 'x[46] <= 151195.0\\ngini = 0.161\\nsamples = 34\\nvalue = [31, 3]'),\n",
              " Text(0.4159329140461216, 0.5952380952380952, 'x[43] <= 214.0\\ngini = 0.114\\nsamples = 33\\nvalue = [31, 2]'),\n",
              " Text(0.4092243186582809, 0.5476190476190477, 'gini = 0.0\\nsamples = 1\\nvalue = [0, 1]'),\n",
              " Text(0.4226415094339623, 0.5476190476190477, 'x[27] <= 275631.0\\ngini = 0.061\\nsamples = 32\\nvalue = [31, 1]'),\n",
              " Text(0.4159329140461216, 0.5, 'gini = 0.0\\nsamples = 1\\nvalue = [0, 1]'),\n",
              " Text(0.4293501048218029, 0.5, 'gini = 0.0\\nsamples = 31\\nvalue = [31, 0]'),\n",
              " Text(0.4293501048218029, 0.5952380952380952, 'gini = 0.0\\nsamples = 1\\nvalue = [0, 1]'),\n",
              " Text(0.4494758909853249, 0.6428571428571429, 'x[10] <= 5557277.0\\ngini = 0.497\\nsamples = 13\\nvalue = [7, 6]'),\n",
              " Text(0.4427672955974843, 0.5952380952380952, 'gini = 0.0\\nsamples = 5\\nvalue = [0, 5]'),\n",
              " Text(0.4561844863731656, 0.5952380952380952, 'x[37] <= 15647158.0\\ngini = 0.219\\nsamples = 8\\nvalue = [7, 1]'),\n",
              " Text(0.4494758909853249, 0.5476190476190477, 'gini = 0.0\\nsamples = 1\\nvalue = [0, 1]'),\n",
              " Text(0.4628930817610063, 0.5476190476190477, 'gini = 0.0\\nsamples = 7\\nvalue = [7, 0]'),\n",
              " Text(0.4494758909853249, 0.6904761904761905, 'gini = 0.0\\nsamples = 3\\nvalue = [0, 3]'),\n",
              " Text(0.5505241090146751, 0.7380952380952381, 'x[42] <= 10177601.0\\ngini = 0.124\\nsamples = 135\\nvalue = [126, 9]'),\n",
              " Text(0.5308176100628931, 0.6904761904761905, 'x[33] <= 314990.0\\ngini = 0.088\\nsamples = 130\\nvalue = [124, 6]'),\n",
              " Text(0.5115303983228512, 0.6428571428571429, 'x[32] <= 465540.0\\ngini = 0.062\\nsamples = 125\\nvalue = [121, 4]'),\n",
              " Text(0.4930817610062893, 0.5952380952380952, 'x[13] <= 91946.0\\ngini = 0.048\\nsamples = 121\\nvalue = [118, 3]'),\n",
              " Text(0.4763102725366876, 0.5476190476190477, 'x[25] <= 2440603.0\\ngini = 0.034\\nsamples = 116\\nvalue = [114, 2]'),\n",
              " Text(0.4628930817610063, 0.5, 'x[16] <= 1212641.0\\ngini = 0.018\\nsamples = 110\\nvalue = [109, 1]'),\n",
              " Text(0.4561844863731656, 0.4523809523809524, 'gini = 0.0\\nsamples = 102\\nvalue = [102, 0]'),\n",
              " Text(0.469601677148847, 0.4523809523809524, 'x[6] <= 14208564.0\\ngini = 0.219\\nsamples = 8\\nvalue = [7, 1]'),\n",
              " Text(0.4628930817610063, 0.40476190476190477, 'gini = 0.0\\nsamples = 1\\nvalue = [0, 1]'),\n",
              " Text(0.4763102725366876, 0.40476190476190477, 'gini = 0.0\\nsamples = 7\\nvalue = [7, 0]'),\n",
              " Text(0.489727463312369, 0.5, 'x[7] <= 20878992.0\\ngini = 0.278\\nsamples = 6\\nvalue = [5, 1]'),\n",
              " Text(0.4830188679245283, 0.4523809523809524, 'gini = 0.0\\nsamples = 1\\nvalue = [0, 1]'),\n",
              " Text(0.4964360587002096, 0.4523809523809524, 'gini = 0.0\\nsamples = 5\\nvalue = [5, 0]'),\n",
              " Text(0.509853249475891, 0.5476190476190477, 'x[45] <= 280713.0\\ngini = 0.32\\nsamples = 5\\nvalue = [4, 1]'),\n",
              " Text(0.5031446540880503, 0.5, 'gini = 0.0\\nsamples = 4\\nvalue = [4, 0]'),\n",
              " Text(0.5165618448637317, 0.5, 'gini = 0.0\\nsamples = 1\\nvalue = [0, 1]'),\n",
              " Text(0.529979035639413, 0.5952380952380952, 'x[12] <= 356922.0\\ngini = 0.375\\nsamples = 4\\nvalue = [3, 1]'),\n",
              " Text(0.5232704402515723, 0.5476190476190477, 'gini = 0.0\\nsamples = 1\\nvalue = [0, 1]'),\n",
              " Text(0.5366876310272537, 0.5476190476190477, 'gini = 0.0\\nsamples = 3\\nvalue = [3, 0]'),\n",
              " Text(0.550104821802935, 0.6428571428571429, 'x[20] <= 8459550.0\\ngini = 0.48\\nsamples = 5\\nvalue = [3, 2]'),\n",
              " Text(0.5433962264150943, 0.5952380952380952, 'gini = 0.0\\nsamples = 3\\nvalue = [3, 0]'),\n",
              " Text(0.5568134171907757, 0.5952380952380952, 'gini = 0.0\\nsamples = 2\\nvalue = [0, 2]'),\n",
              " Text(0.570230607966457, 0.6904761904761905, 'x[30] <= 3067442.0\\ngini = 0.48\\nsamples = 5\\nvalue = [2, 3]'),\n",
              " Text(0.5635220125786163, 0.6428571428571429, 'gini = 0.0\\nsamples = 3\\nvalue = [0, 3]'),\n",
              " Text(0.5769392033542977, 0.6428571428571429, 'gini = 0.0\\nsamples = 2\\nvalue = [2, 0]'),\n",
              " Text(0.5706498951781971, 0.7857142857142857, 'x[32] <= 285020.0\\ngini = 0.444\\nsamples = 6\\nvalue = [2, 4]'),\n",
              " Text(0.5639412997903563, 0.7380952380952381, 'gini = 0.0\\nsamples = 4\\nvalue = [0, 4]'),\n",
              " Text(0.5773584905660377, 0.7380952380952381, 'gini = 0.0\\nsamples = 2\\nvalue = [2, 0]'),\n",
              " Text(0.8387840670859539, 0.9285714285714286, 'x[14] <= 67121.0\\ngini = 0.494\\nsamples = 467\\nvalue = [260, 207]'),\n",
              " Text(0.7375262054507338, 0.8809523809523809, 'x[10] <= 2801.0\\ngini = 0.46\\nsamples = 337\\nvalue = [216, 121]'),\n",
              " Text(0.6654088050314465, 0.8333333333333334, 'x[31] <= 8354364.0\\ngini = 0.494\\nsamples = 103\\nvalue = [46, 57]'),\n",
              " Text(0.6259958071278826, 0.7857142857142857, 'x[30] <= 1985212.0\\ngini = 0.488\\nsamples = 71\\nvalue = [41, 30]'),\n",
              " Text(0.5907756813417191, 0.7380952380952381, 'x[39] <= 22328.0\\ngini = 0.351\\nsamples = 22\\nvalue = [5, 17]'),\n",
              " Text(0.5840670859538785, 0.6904761904761905, 'gini = 0.0\\nsamples = 13\\nvalue = [0, 13]'),\n",
              " Text(0.5974842767295597, 0.6904761904761905, 'x[13] <= 11319.0\\ngini = 0.494\\nsamples = 9\\nvalue = [5, 4]'),\n",
              " Text(0.5907756813417191, 0.6428571428571429, 'gini = 0.0\\nsamples = 4\\nvalue = [4, 0]'),\n",
              " Text(0.6041928721174005, 0.6428571428571429, 'x[29] <= 464336.0\\ngini = 0.32\\nsamples = 5\\nvalue = [1, 4]'),\n",
              " Text(0.5974842767295597, 0.5952380952380952, 'gini = 0.0\\nsamples = 4\\nvalue = [0, 4]'),\n",
              " Text(0.6109014675052411, 0.5952380952380952, 'gini = 0.0\\nsamples = 1\\nvalue = [1, 0]'),\n",
              " Text(0.6612159329140461, 0.7380952380952381, 'x[15] <= 10305.0\\ngini = 0.39\\nsamples = 49\\nvalue = [36, 13]'),\n",
              " Text(0.6444444444444445, 0.6904761904761905, 'x[33] <= 329030.0\\ngini = 0.245\\nsamples = 35\\nvalue = [30, 5]'),\n",
              " Text(0.6310272536687631, 0.6428571428571429, 'x[39] <= 1574210.0\\ngini = 0.124\\nsamples = 30\\nvalue = [28, 2]'),\n",
              " Text(0.6243186582809225, 0.5952380952380952, 'x[34] <= 1035267.781\\ngini = 0.067\\nsamples = 29\\nvalue = [28, 1]'),\n",
              " Text(0.6176100628930817, 0.5476190476190477, 'gini = 0.0\\nsamples = 27\\nvalue = [27, 0]'),\n",
              " Text(0.6310272536687631, 0.5476190476190477, 'x[38] <= 1.0\\ngini = 0.5\\nsamples = 2\\nvalue = [1, 1]'),\n",
              " Text(0.6243186582809225, 0.5, 'gini = 0.0\\nsamples = 1\\nvalue = [1, 0]'),\n",
              " Text(0.6377358490566037, 0.5, 'gini = 0.0\\nsamples = 1\\nvalue = [0, 1]'),\n",
              " Text(0.6377358490566037, 0.5952380952380952, 'gini = 0.0\\nsamples = 1\\nvalue = [0, 1]'),\n",
              " Text(0.6578616352201258, 0.6428571428571429, 'x[22] <= 1.0\\ngini = 0.48\\nsamples = 5\\nvalue = [2, 3]'),\n",
              " Text(0.6511530398322851, 0.5952380952380952, 'gini = 0.0\\nsamples = 2\\nvalue = [2, 0]'),\n",
              " Text(0.6645702306079665, 0.5952380952380952, 'gini = 0.0\\nsamples = 3\\nvalue = [0, 3]'),\n",
              " Text(0.6779874213836478, 0.6904761904761905, 'x[17] <= 2032303.0\\ngini = 0.49\\nsamples = 14\\nvalue = [6, 8]'),\n",
              " Text(0.6712788259958071, 0.6428571428571429, 'gini = 0.0\\nsamples = 7\\nvalue = [0, 7]'),\n",
              " Text(0.6846960167714885, 0.6428571428571429, 'x[3] <= 2822029.0\\ngini = 0.245\\nsamples = 7\\nvalue = [6, 1]'),\n",
              " Text(0.6779874213836478, 0.5952380952380952, 'gini = 0.0\\nsamples = 1\\nvalue = [0, 1]'),\n",
              " Text(0.6914046121593291, 0.5952380952380952, 'gini = 0.0\\nsamples = 6\\nvalue = [6, 0]'),\n",
              " Text(0.7048218029350105, 0.7857142857142857, 'x[24] <= 1351085.0\\ngini = 0.264\\nsamples = 32\\nvalue = [5, 27]'),\n",
              " Text(0.6981132075471698, 0.7380952380952381, 'x[31] <= 19223772.0\\ngini = 0.18\\nsamples = 30\\nvalue = [3, 27]'),\n",
              " Text(0.6914046121593291, 0.6904761904761905, 'gini = 0.0\\nsamples = 24\\nvalue = [0, 24]'),\n",
              " Text(0.7048218029350105, 0.6904761904761905, 'x[23] <= 263409.0\\ngini = 0.5\\nsamples = 6\\nvalue = [3, 3]'),\n",
              " Text(0.6981132075471698, 0.6428571428571429, 'gini = 0.0\\nsamples = 3\\nvalue = [3, 0]'),\n",
              " Text(0.7115303983228511, 0.6428571428571429, 'gini = 0.0\\nsamples = 3\\nvalue = [0, 3]'),\n",
              " Text(0.7115303983228511, 0.7380952380952381, 'gini = 0.0\\nsamples = 2\\nvalue = [2, 0]'),\n",
              " Text(0.8096436058700209, 0.8333333333333334, 'x[10] <= 7742003.0\\ngini = 0.397\\nsamples = 234\\nvalue = [170, 64]'),\n",
              " Text(0.7668763102725367, 0.7857142857142857, 'x[32] <= 577840.0\\ngini = 0.305\\nsamples = 165\\nvalue = [134, 31]'),\n",
              " Text(0.7484276729559748, 0.7380952380952381, 'x[40] <= 21441223.0\\ngini = 0.239\\nsamples = 151\\nvalue = [130, 21]'),\n",
              " Text(0.7417190775681342, 0.6904761904761905, 'x[7] <= 58985544.0\\ngini = 0.214\\nsamples = 148\\nvalue = [130, 18]'),\n",
              " Text(0.7249475890985325, 0.6428571428571429, 'x[33] <= 448950.0\\ngini = 0.17\\nsamples = 139\\nvalue = [126, 13]'),\n",
              " Text(0.7182389937106918, 0.5952380952380952, 'x[25] <= 3269818.0\\ngini = 0.148\\nsamples = 137\\nvalue = [126, 11]'),\n",
              " Text(0.7048218029350105, 0.5476190476190477, 'x[9] <= 1303932.0\\ngini = 0.115\\nsamples = 131\\nvalue = [123, 8]'),\n",
              " Text(0.6981132075471698, 0.5, 'gini = 0.0\\nsamples = 1\\nvalue = [0, 1]'),\n",
              " Text(0.7115303983228511, 0.5, 'x[42] <= 11603.0\\ngini = 0.102\\nsamples = 130\\nvalue = [123, 7]'),\n",
              " Text(0.689727463312369, 0.4523809523809524, 'x[34] <= 589450.844\\ngini = 0.5\\nsamples = 4\\nvalue = [2, 2]'),\n",
              " Text(0.6830188679245283, 0.40476190476190477, 'gini = 0.0\\nsamples = 2\\nvalue = [0, 2]'),\n",
              " Text(0.6964360587002096, 0.40476190476190477, 'gini = 0.0\\nsamples = 2\\nvalue = [2, 0]'),\n",
              " Text(0.7333333333333333, 0.4523809523809524, 'x[9] <= 9235186.0\\ngini = 0.076\\nsamples = 126\\nvalue = [121, 5]'),\n",
              " Text(0.709853249475891, 0.40476190476190477, 'x[33] <= 383710.0\\ngini = 0.035\\nsamples = 112\\nvalue = [110, 2]'),\n",
              " Text(0.6964360587002096, 0.35714285714285715, 'x[42] <= 46993.0\\ngini = 0.018\\nsamples = 110\\nvalue = [109, 1]'),\n",
              " Text(0.689727463312369, 0.30952380952380953, 'x[0] <= 200328.0\\ngini = 0.32\\nsamples = 5\\nvalue = [4, 1]'),\n",
              " Text(0.6830188679245283, 0.2619047619047619, 'gini = 0.0\\nsamples = 1\\nvalue = [0, 1]'),\n",
              " Text(0.6964360587002096, 0.2619047619047619, 'gini = 0.0\\nsamples = 4\\nvalue = [4, 0]'),\n",
              " Text(0.7031446540880503, 0.30952380952380953, 'gini = 0.0\\nsamples = 105\\nvalue = [105, 0]'),\n",
              " Text(0.7232704402515723, 0.35714285714285715, 'x[13] <= 69853.0\\ngini = 0.5\\nsamples = 2\\nvalue = [1, 1]'),\n",
              " Text(0.7165618448637316, 0.30952380952380953, 'gini = 0.0\\nsamples = 1\\nvalue = [1, 0]'),\n",
              " Text(0.729979035639413, 0.30952380952380953, 'gini = 0.0\\nsamples = 1\\nvalue = [0, 1]'),\n",
              " Text(0.7568134171907757, 0.40476190476190477, 'x[44] <= 714231.0\\ngini = 0.337\\nsamples = 14\\nvalue = [11, 3]'),\n",
              " Text(0.750104821802935, 0.35714285714285715, 'x[1] <= 22068403.0\\ngini = 0.375\\nsamples = 4\\nvalue = [1, 3]'),\n",
              " Text(0.7433962264150943, 0.30952380952380953, 'gini = 0.0\\nsamples = 3\\nvalue = [0, 3]'),\n",
              " Text(0.7568134171907757, 0.30952380952380953, 'gini = 0.0\\nsamples = 1\\nvalue = [1, 0]'),\n",
              " Text(0.7635220125786164, 0.35714285714285715, 'gini = 0.0\\nsamples = 10\\nvalue = [10, 0]'),\n",
              " Text(0.7316561844863732, 0.5476190476190477, 'x[21] <= 9340729.0\\ngini = 0.5\\nsamples = 6\\nvalue = [3, 3]'),\n",
              " Text(0.7249475890985325, 0.5, 'gini = 0.0\\nsamples = 3\\nvalue = [0, 3]'),\n",
              " Text(0.7383647798742138, 0.5, 'gini = 0.0\\nsamples = 3\\nvalue = [3, 0]'),\n",
              " Text(0.7316561844863732, 0.5952380952380952, 'gini = 0.0\\nsamples = 2\\nvalue = [0, 2]'),\n",
              " Text(0.7584905660377359, 0.6428571428571429, 'x[6] <= 73560364.0\\ngini = 0.494\\nsamples = 9\\nvalue = [4, 5]'),\n",
              " Text(0.7517819706498952, 0.5952380952380952, 'x[25] <= 3079342.0\\ngini = 0.278\\nsamples = 6\\nvalue = [1, 5]'),\n",
              " Text(0.7450733752620545, 0.5476190476190477, 'gini = 0.0\\nsamples = 5\\nvalue = [0, 5]'),\n",
              " Text(0.7584905660377359, 0.5476190476190477, 'gini = 0.0\\nsamples = 1\\nvalue = [1, 0]'),\n",
              " Text(0.7651991614255765, 0.5952380952380952, 'gini = 0.0\\nsamples = 3\\nvalue = [3, 0]'),\n",
              " Text(0.7551362683438155, 0.6904761904761905, 'gini = 0.0\\nsamples = 3\\nvalue = [0, 3]'),\n",
              " Text(0.7853249475890985, 0.7380952380952381, 'x[11] <= 33190754.0\\ngini = 0.408\\nsamples = 14\\nvalue = [4, 10]'),\n",
              " Text(0.7786163522012579, 0.6904761904761905, 'x[39] <= 422394.0\\ngini = 0.165\\nsamples = 11\\nvalue = [1, 10]'),\n",
              " Text(0.7719077568134172, 0.6428571428571429, 'gini = 0.0\\nsamples = 10\\nvalue = [0, 10]'),\n",
              " Text(0.7853249475890985, 0.6428571428571429, 'gini = 0.0\\nsamples = 1\\nvalue = [1, 0]'),\n",
              " Text(0.7920335429769392, 0.6904761904761905, 'gini = 0.0\\nsamples = 3\\nvalue = [3, 0]'),\n",
              " Text(0.8524109014675052, 0.7857142857142857, 'x[12] <= 3326911.0\\ngini = 0.499\\nsamples = 69\\nvalue = [36, 33]'),\n",
              " Text(0.8255765199161426, 0.7380952380952381, 'x[1] <= 800154.0\\ngini = 0.434\\nsamples = 44\\nvalue = [30, 14]'),\n",
              " Text(0.8054507337526206, 0.6904761904761905, 'x[32] <= 355630.0\\ngini = 0.271\\nsamples = 31\\nvalue = [26, 5]'),\n",
              " Text(0.7987421383647799, 0.6428571428571429, 'gini = 0.0\\nsamples = 17\\nvalue = [17, 0]'),\n",
              " Text(0.8121593291404612, 0.6428571428571429, 'x[36] <= 55893908.0\\ngini = 0.459\\nsamples = 14\\nvalue = [9, 5]'),\n",
              " Text(0.8054507337526206, 0.5952380952380952, 'x[25] <= 1924613.0\\ngini = 0.494\\nsamples = 9\\nvalue = [4, 5]'),\n",
              " Text(0.7987421383647799, 0.5476190476190477, 'gini = 0.0\\nsamples = 3\\nvalue = [3, 0]'),\n",
              " Text(0.8121593291404612, 0.5476190476190477, 'x[8] <= 11797424.0\\ngini = 0.278\\nsamples = 6\\nvalue = [1, 5]'),\n",
              " Text(0.8054507337526206, 0.5, 'gini = 0.0\\nsamples = 1\\nvalue = [1, 0]'),\n",
              " Text(0.8188679245283019, 0.5, 'gini = 0.0\\nsamples = 5\\nvalue = [0, 5]'),\n",
              " Text(0.8188679245283019, 0.5952380952380952, 'gini = 0.0\\nsamples = 5\\nvalue = [5, 0]'),\n",
              " Text(0.8457023060796646, 0.6904761904761905, 'x[20] <= 17014163.0\\ngini = 0.426\\nsamples = 13\\nvalue = [4, 9]'),\n",
              " Text(0.8389937106918239, 0.6428571428571429, 'x[19] <= 119918.0\\ngini = 0.32\\nsamples = 5\\nvalue = [4, 1]'),\n",
              " Text(0.8322851153039832, 0.5952380952380952, 'gini = 0.0\\nsamples = 4\\nvalue = [4, 0]'),\n",
              " Text(0.8457023060796646, 0.5952380952380952, 'gini = 0.0\\nsamples = 1\\nvalue = [0, 1]'),\n",
              " Text(0.8524109014675052, 0.6428571428571429, 'gini = 0.0\\nsamples = 8\\nvalue = [0, 8]'),\n",
              " Text(0.879245283018868, 0.7380952380952381, 'x[40] <= 12157666.0\\ngini = 0.365\\nsamples = 25\\nvalue = [6, 19]'),\n",
              " Text(0.8725366876310272, 0.6904761904761905, 'x[29] <= 478660.0\\ngini = 0.095\\nsamples = 20\\nvalue = [1, 19]'),\n",
              " Text(0.8658280922431866, 0.6428571428571429, 'gini = 0.0\\nsamples = 1\\nvalue = [1, 0]'),\n",
              " Text(0.879245283018868, 0.6428571428571429, 'gini = 0.0\\nsamples = 19\\nvalue = [0, 19]'),\n",
              " Text(0.8859538784067086, 0.6904761904761905, 'gini = 0.0\\nsamples = 5\\nvalue = [5, 0]'),\n",
              " Text(0.940041928721174, 0.8809523809523809, 'x[37] <= 25423285.0\\ngini = 0.448\\nsamples = 130\\nvalue = [44, 86]'),\n",
              " Text(0.9178197064989518, 0.8333333333333334, 'x[23] <= 608663.0\\ngini = 0.165\\nsamples = 11\\nvalue = [10, 1]'),\n",
              " Text(0.9111111111111111, 0.7857142857142857, 'gini = 0.0\\nsamples = 1\\nvalue = [0, 1]'),\n",
              " Text(0.9245283018867925, 0.7857142857142857, 'gini = 0.0\\nsamples = 10\\nvalue = [10, 0]'),\n",
              " Text(0.9622641509433962, 0.8333333333333334, 'x[4] <= 22165114.0\\ngini = 0.408\\nsamples = 119\\nvalue = [34, 85]'),\n",
              " Text(0.9379454926624738, 0.7857142857142857, 'x[11] <= 37998070.0\\ngini = 0.361\\nsamples = 110\\nvalue = [26, 84]'),\n",
              " Text(0.909433962264151, 0.7380952380952381, 'x[34] <= 171457.035\\ngini = 0.283\\nsamples = 88\\nvalue = [15, 73]'),\n",
              " Text(0.9027253668763102, 0.6904761904761905, 'gini = 0.0\\nsamples = 2\\nvalue = [2, 0]'),\n",
              " Text(0.9161425576519916, 0.6904761904761905, 'x[19] <= 389.0\\ngini = 0.257\\nsamples = 86\\nvalue = [13, 73]'),\n",
              " Text(0.8926624737945492, 0.6428571428571429, 'x[13] <= 105532.0\\ngini = 0.399\\nsamples = 40\\nvalue = [11, 29]'),\n",
              " Text(0.8859538784067086, 0.5952380952380952, 'gini = 0.0\\nsamples = 4\\nvalue = [4, 0]'),\n",
              " Text(0.89937106918239, 0.5952380952380952, 'x[33] <= 51310.0\\ngini = 0.313\\nsamples = 36\\nvalue = [7, 29]'),\n",
              " Text(0.8859538784067086, 0.5476190476190477, 'x[17] <= 2358505.0\\ngini = 0.32\\nsamples = 5\\nvalue = [4, 1]'),\n",
              " Text(0.879245283018868, 0.5, 'gini = 0.0\\nsamples = 1\\nvalue = [0, 1]'),\n",
              " Text(0.8926624737945492, 0.5, 'gini = 0.0\\nsamples = 4\\nvalue = [4, 0]'),\n",
              " Text(0.9127882599580712, 0.5476190476190477, 'x[43] <= 31982.0\\ngini = 0.175\\nsamples = 31\\nvalue = [3, 28]'),\n",
              " Text(0.9060796645702306, 0.5, 'x[40] <= 4010666.0\\ngini = 0.124\\nsamples = 30\\nvalue = [2, 28]'),\n",
              " Text(0.89937106918239, 0.4523809523809524, 'x[20] <= 9687094.0\\ngini = 0.5\\nsamples = 4\\nvalue = [2, 2]'),\n",
              " Text(0.8926624737945492, 0.40476190476190477, 'gini = 0.0\\nsamples = 2\\nvalue = [2, 0]'),\n",
              " Text(0.9060796645702306, 0.40476190476190477, 'gini = 0.0\\nsamples = 2\\nvalue = [0, 2]'),\n",
              " Text(0.9127882599580712, 0.4523809523809524, 'gini = 0.0\\nsamples = 26\\nvalue = [0, 26]'),\n",
              " Text(0.919496855345912, 0.5, 'gini = 0.0\\nsamples = 1\\nvalue = [1, 0]'),\n",
              " Text(0.939622641509434, 0.6428571428571429, 'x[16] <= 83552.0\\ngini = 0.083\\nsamples = 46\\nvalue = [2, 44]'),\n",
              " Text(0.9329140461215933, 0.5952380952380952, 'gini = 0.0\\nsamples = 1\\nvalue = [1, 0]'),\n",
              " Text(0.9463312368972746, 0.5952380952380952, 'x[27] <= 170209.0\\ngini = 0.043\\nsamples = 45\\nvalue = [1, 44]'),\n",
              " Text(0.939622641509434, 0.5476190476190477, 'x[42] <= 6565931.0\\ngini = 0.444\\nsamples = 3\\nvalue = [1, 2]'),\n",
              " Text(0.9329140461215933, 0.5, 'gini = 0.0\\nsamples = 2\\nvalue = [0, 2]'),\n",
              " Text(0.9463312368972746, 0.5, 'gini = 0.0\\nsamples = 1\\nvalue = [1, 0]'),\n",
              " Text(0.9530398322851154, 0.5476190476190477, 'gini = 0.0\\nsamples = 42\\nvalue = [0, 42]'),\n",
              " Text(0.9664570230607966, 0.7380952380952381, 'x[24] <= 5404420.0\\ngini = 0.5\\nsamples = 22\\nvalue = [11, 11]'),\n",
              " Text(0.959748427672956, 0.6904761904761905, 'x[5] <= 23075708.0\\ngini = 0.337\\nsamples = 14\\nvalue = [11, 3]'),\n",
              " Text(0.9530398322851154, 0.6428571428571429, 'gini = 0.0\\nsamples = 3\\nvalue = [0, 3]'),\n",
              " Text(0.9664570230607966, 0.6428571428571429, 'gini = 0.0\\nsamples = 11\\nvalue = [11, 0]'),\n",
              " Text(0.9731656184486374, 0.6904761904761905, 'gini = 0.0\\nsamples = 8\\nvalue = [0, 8]'),\n",
              " Text(0.9865828092243186, 0.7857142857142857, 'x[28] <= 6693510.0\\ngini = 0.198\\nsamples = 9\\nvalue = [8, 1]'),\n",
              " Text(0.979874213836478, 0.7380952380952381, 'gini = 0.0\\nsamples = 1\\nvalue = [0, 1]'),\n",
              " Text(0.9932914046121594, 0.7380952380952381, 'gini = 0.0\\nsamples = 8\\nvalue = [8, 0]')]"
            ]
          },
          "metadata": {},
          "execution_count": 51
        },
        {
          "output_type": "display_data",
          "data": {
            "text/plain": [
              "<Figure size 640x480 with 1 Axes>"
            ],
            "image/png": "[encoded data removed]"
          },
          "metadata": {}
        }
      ]
    },
    {
      "cell_type": "code",
      "source": [
        "tree=DecisionTreeClassifier()"
      ],
      "metadata": {
        "id": "4iiEg73gQ8ah"
      },
      "execution_count": 52,
      "outputs": []
    },
    {
      "cell_type": "code",
      "source": [
        "tree.fit(xtrain,ytrain)"
      ],
      "metadata": {
        "id": "UPOTzVSoQ8Wc",
        "colab": {
          "base_uri": "https://localhost:8080/",
          "height": 75
        },
        "outputId": "4425fb84-6caf-4348-8632-4c1a671917a4"
      },
      "execution_count": 53,
      "outputs": [
        {
          "output_type": "execute_result",
          "data": {
            "text/plain": [
              "DecisionTreeClassifier()"
            ],
            "text/html": [
              "<style>#sk-container-id-6 {color: black;background-color: white;}#sk-container-id-6 pre{padding: 0;}#sk-container-id-6 div.sk-toggleable {background-color: white;}#sk-container-id-6 label.sk-toggleable__label {cursor: pointer;display: block;width: 100%;margin-bottom: 0;padding: 0.3em;box-sizing: border-box;text-align: center;}#sk-container-id-6 label.sk-toggleable__label-arrow:before {content: \"▸\";float: left;margin-right: 0.25em;color: #696969;}#sk-container-id-6 label.sk-toggleable__label-arrow:hover:before {color: black;}#sk-container-id-6 div.sk-estimator:hover label.sk-toggleable__label-arrow:before {color: black;}#sk-container-id-6 div.sk-toggleable__content {max-height: 0;max-width: 0;overflow: hidden;text-align: left;background-color: #f0f8ff;}#sk-container-id-6 div.sk-toggleable__content pre {margin: 0.2em;color: black;border-radius: 0.25em;background-color: #f0f8ff;}#sk-container-id-6 input.sk-toggleable__control:checked~div.sk-toggleable__content {max-height: 200px;max-width: 100%;overflow: auto;}#sk-container-id-6 input.sk-toggleable__control:checked~label.sk-toggleable__label-arrow:before {content: \"▾\";}#sk-container-id-6 div.sk-estimator input.sk-toggleable__control:checked~label.sk-toggleable__label {background-color: #d4ebff;}#sk-container-id-6 div.sk-label input.sk-toggleable__control:checked~label.sk-toggleable__label {background-color: #d4ebff;}#sk-container-id-6 input.sk-hidden--visually {border: 0;clip: rect(1px 1px 1px 1px);clip: rect(1px, 1px, 1px, 1px);height: 1px;margin: -1px;overflow: hidden;padding: 0;position: absolute;width: 1px;}#sk-container-id-6 div.sk-estimator {font-family: monospace;background-color: #f0f8ff;border: 1px dotted black;border-radius: 0.25em;box-sizing: border-box;margin-bottom: 0.5em;}#sk-container-id-6 div.sk-estimator:hover {background-color: #d4ebff;}#sk-container-id-6 div.sk-parallel-item::after {content: \"\";width: 100%;border-bottom: 1px solid gray;flex-grow: 1;}#sk-container-id-6 div.sk-label:hover label.sk-toggleable__label {background-color: #d4ebff;}#sk-container-id-6 div.sk-serial::before {content: \"\";position: absolute;border-left: 1px solid gray;box-sizing: border-box;top: 0;bottom: 0;left: 50%;z-index: 0;}#sk-container-id-6 div.sk-serial {display: flex;flex-direction: column;align-items: center;background-color: white;padding-right: 0.2em;padding-left: 0.2em;position: relative;}#sk-container-id-6 div.sk-item {position: relative;z-index: 1;}#sk-container-id-6 div.sk-parallel {display: flex;align-items: stretch;justify-content: center;background-color: white;position: relative;}#sk-container-id-6 div.sk-item::before, #sk-container-id-6 div.sk-parallel-item::before {content: \"\";position: absolute;border-left: 1px solid gray;box-sizing: border-box;top: 0;bottom: 0;left: 50%;z-index: -1;}#sk-container-id-6 div.sk-parallel-item {display: flex;flex-direction: column;z-index: 1;position: relative;background-color: white;}#sk-container-id-6 div.sk-parallel-item:first-child::after {align-self: flex-end;width: 50%;}#sk-container-id-6 div.sk-parallel-item:last-child::after {align-self: flex-start;width: 50%;}#sk-container-id-6 div.sk-parallel-item:only-child::after {width: 0;}#sk-container-id-6 div.sk-dashed-wrapped {border: 1px dashed gray;margin: 0 0.4em 0.5em 0.4em;box-sizing: border-box;padding-bottom: 0.4em;background-color: white;}#sk-container-id-6 div.sk-label label {font-family: monospace;font-weight: bold;display: inline-block;line-height: 1.2em;}#sk-container-id-6 div.sk-label-container {text-align: center;}#sk-container-id-6 div.sk-container {/* jupyter's `normalize.less` sets `[hidden] { display: none; }` but bootstrap.min.css set `[hidden] { display: none !important; }` so we also need the `!important` here to be able to override the default hidden behavior on the sphinx rendered scikit-learn.org. See: https://github.com/scikit-learn/scikit-learn/issues/21755 */display: inline-block !important;position: relative;}#sk-container-id-6 div.sk-text-repr-fallback {display: none;}</style><div id=\"sk-container-id-6\" class=\"sk-top-container\"><div class=\"sk-text-repr-fallback\"><pre>DecisionTreeClassifier()</pre><b>In a Jupyter environment, please rerun this cell to show the HTML representation or trust the notebook. <br />On GitHub, the HTML representation is unable to render, please try loading this page with nbviewer.org.</b></div><div class=\"sk-container\" hidden><div class=\"sk-item\"><div class=\"sk-estimator sk-toggleable\"><input class=\"sk-toggleable__control sk-hidden--visually\" id=\"sk-estimator-id-6\" type=\"checkbox\" checked><label for=\"sk-estimator-id-6\" class=\"sk-toggleable__label sk-toggleable__label-arrow\">DecisionTreeClassifier</label><div class=\"sk-toggleable__content\"><pre>DecisionTreeClassifier()</pre></div></div></div></div></div>"
            ]
          },
          "metadata": {},
          "execution_count": 53
        }
      ]
    },
    {
      "cell_type": "code",
      "source": [
        "ypred=tree.predict(xtest)"
      ],
      "metadata": {
        "id": "hmPbqcOAQ8SQ"
      },
      "execution_count": 54,
      "outputs": []
    },
    {
      "cell_type": "code",
      "source": [
        "ypred"
      ],
      "metadata": {
        "id": "7zZSN2R9Q8OB",
        "colab": {
          "base_uri": "https://localhost:8080/"
        },
        "outputId": "1c2c0544-7a87-4c0f-c9b1-30ae8d2e209d"
      },
      "execution_count": 55,
      "outputs": [
        {
          "output_type": "execute_result",
          "data": {
            "text/plain": [
              "array([0., 0., 0., ..., 0., 0., 0.])"
            ]
          },
          "metadata": {},
          "execution_count": 55
        }
      ]
    },
    {
      "cell_type": "code",
      "source": [
        "accuracy_score(ytest,ypred)"
      ],
      "metadata": {
        "id": "Cl9CRttRQ8DQ",
        "colab": {
          "base_uri": "https://localhost:8080/"
        },
        "outputId": "6950cfd1-77b4-4435-cb8c-c005da71683c"
      },
      "execution_count": 56,
      "outputs": [
        {
          "output_type": "execute_result",
          "data": {
            "text/plain": [
              "0.9812037592481504"
            ]
          },
          "metadata": {},
          "execution_count": 56
        }
      ]
    },
    {
      "cell_type": "code",
      "source": [
        "print(classification_report(ytest,ypred))"
      ],
      "metadata": {
        "id": "IdSlT9R0Q78_",
        "colab": {
          "base_uri": "https://localhost:8080/"
        },
        "outputId": "71789376-1030-45df-f022-396d9f388d6d"
      },
      "execution_count": 57,
      "outputs": [
        {
          "output_type": "stream",
          "name": "stdout",
          "text": [
            "              precision    recall  f1-score   support\n",
            "\n",
            "         0.0       0.99      0.99      0.99      4918\n",
            "         1.0       0.44      0.46      0.45        83\n",
            "\n",
            "    accuracy                           0.98      5001\n",
            "   macro avg       0.71      0.72      0.72      5001\n",
            "weighted avg       0.98      0.98      0.98      5001\n",
            "\n"
          ]
        }
      ]
    },
    {
      "cell_type": "code",
      "source": [
        "print(confusion_matrix(ytest,ypred))"
      ],
      "metadata": {
        "id": "BLsb9jHeQ71s",
        "colab": {
          "base_uri": "https://localhost:8080/"
        },
        "outputId": "524df2ad-4b97-47f2-bead-6da7f3f491e7"
      },
      "execution_count": 58,
      "outputs": [
        {
          "output_type": "stream",
          "name": "stdout",
          "text": [
            "[[4869   49]\n",
            " [  45   38]]\n"
          ]
        }
      ]
    },
    {
      "cell_type": "code",
      "source": [
        "from sklearn.ensemble import RandomForestClassifier, ExtraTreesClassifier"
      ],
      "metadata": {
        "id": "3ObUL1irRVmT"
      },
      "execution_count": 59,
      "outputs": []
    },
    {
      "cell_type": "code",
      "source": [
        "rfc=RandomForestClassifier()"
      ],
      "metadata": {
        "id": "F607HKTiRVgU"
      },
      "execution_count": 60,
      "outputs": []
    },
    {
      "cell_type": "code",
      "source": [
        "rfc.fit(xtrain,ytrain)"
      ],
      "metadata": {
        "id": "OpaYfc6pRVa1",
        "colab": {
          "base_uri": "https://localhost:8080/",
          "height": 75
        },
        "outputId": "06ae508d-89b5-4a94-d7ed-0c2ecf188dca"
      },
      "execution_count": 61,
      "outputs": [
        {
          "output_type": "execute_result",
          "data": {
            "text/plain": [
              "RandomForestClassifier()"
            ],
            "text/html": [
              "<style>#sk-container-id-7 {color: black;background-color: white;}#sk-container-id-7 pre{padding: 0;}#sk-container-id-7 div.sk-toggleable {background-color: white;}#sk-container-id-7 label.sk-toggleable__label {cursor: pointer;display: block;width: 100%;margin-bottom: 0;padding: 0.3em;box-sizing: border-box;text-align: center;}#sk-container-id-7 label.sk-toggleable__label-arrow:before {content: \"▸\";float: left;margin-right: 0.25em;color: #696969;}#sk-container-id-7 label.sk-toggleable__label-arrow:hover:before {color: black;}#sk-container-id-7 div.sk-estimator:hover label.sk-toggleable__label-arrow:before {color: black;}#sk-container-id-7 div.sk-toggleable__content {max-height: 0;max-width: 0;overflow: hidden;text-align: left;background-color: #f0f8ff;}#sk-container-id-7 div.sk-toggleable__content pre {margin: 0.2em;color: black;border-radius: 0.25em;background-color: #f0f8ff;}#sk-container-id-7 input.sk-toggleable__control:checked~div.sk-toggleable__content {max-height: 200px;max-width: 100%;overflow: auto;}#sk-container-id-7 input.sk-toggleable__control:checked~label.sk-toggleable__label-arrow:before {content: \"▾\";}#sk-container-id-7 div.sk-estimator input.sk-toggleable__control:checked~label.sk-toggleable__label {background-color: #d4ebff;}#sk-container-id-7 div.sk-label input.sk-toggleable__control:checked~label.sk-toggleable__label {background-color: #d4ebff;}#sk-container-id-7 input.sk-hidden--visually {border: 0;clip: rect(1px 1px 1px 1px);clip: rect(1px, 1px, 1px, 1px);height: 1px;margin: -1px;overflow: hidden;padding: 0;position: absolute;width: 1px;}#sk-container-id-7 div.sk-estimator {font-family: monospace;background-color: #f0f8ff;border: 1px dotted black;border-radius: 0.25em;box-sizing: border-box;margin-bottom: 0.5em;}#sk-container-id-7 div.sk-estimator:hover {background-color: #d4ebff;}#sk-container-id-7 div.sk-parallel-item::after {content: \"\";width: 100%;border-bottom: 1px solid gray;flex-grow: 1;}#sk-container-id-7 div.sk-label:hover label.sk-toggleable__label {background-color: #d4ebff;}#sk-container-id-7 div.sk-serial::before {content: \"\";position: absolute;border-left: 1px solid gray;box-sizing: border-box;top: 0;bottom: 0;left: 50%;z-index: 0;}#sk-container-id-7 div.sk-serial {display: flex;flex-direction: column;align-items: center;background-color: white;padding-right: 0.2em;padding-left: 0.2em;position: relative;}#sk-container-id-7 div.sk-item {position: relative;z-index: 1;}#sk-container-id-7 div.sk-parallel {display: flex;align-items: stretch;justify-content: center;background-color: white;position: relative;}#sk-container-id-7 div.sk-item::before, #sk-container-id-7 div.sk-parallel-item::before {content: \"\";position: absolute;border-left: 1px solid gray;box-sizing: border-box;top: 0;bottom: 0;left: 50%;z-index: -1;}#sk-container-id-7 div.sk-parallel-item {display: flex;flex-direction: column;z-index: 1;position: relative;background-color: white;}#sk-container-id-7 div.sk-parallel-item:first-child::after {align-self: flex-end;width: 50%;}#sk-container-id-7 div.sk-parallel-item:last-child::after {align-self: flex-start;width: 50%;}#sk-container-id-7 div.sk-parallel-item:only-child::after {width: 0;}#sk-container-id-7 div.sk-dashed-wrapped {border: 1px dashed gray;margin: 0 0.4em 0.5em 0.4em;box-sizing: border-box;padding-bottom: 0.4em;background-color: white;}#sk-container-id-7 div.sk-label label {font-family: monospace;font-weight: bold;display: inline-block;line-height: 1.2em;}#sk-container-id-7 div.sk-label-container {text-align: center;}#sk-container-id-7 div.sk-container {/* jupyter's `normalize.less` sets `[hidden] { display: none; }` but bootstrap.min.css set `[hidden] { display: none !important; }` so we also need the `!important` here to be able to override the default hidden behavior on the sphinx rendered scikit-learn.org. See: https://github.com/scikit-learn/scikit-learn/issues/21755 */display: inline-block !important;position: relative;}#sk-container-id-7 div.sk-text-repr-fallback {display: none;}</style><div id=\"sk-container-id-7\" class=\"sk-top-container\"><div class=\"sk-text-repr-fallback\"><pre>RandomForestClassifier()</pre><b>In a Jupyter environment, please rerun this cell to show the HTML representation or trust the notebook. <br />On GitHub, the HTML representation is unable to render, please try loading this page with nbviewer.org.</b></div><div class=\"sk-container\" hidden><div class=\"sk-item\"><div class=\"sk-estimator sk-toggleable\"><input class=\"sk-toggleable__control sk-hidden--visually\" id=\"sk-estimator-id-7\" type=\"checkbox\" checked><label for=\"sk-estimator-id-7\" class=\"sk-toggleable__label sk-toggleable__label-arrow\">RandomForestClassifier</label><div class=\"sk-toggleable__content\"><pre>RandomForestClassifier()</pre></div></div></div></div></div>"
            ]
          },
          "metadata": {},
          "execution_count": 61
        }
      ]
    },
    {
      "cell_type": "code",
      "source": [
        "rfc.fit(xtrain,ytrain)"
      ],
      "metadata": {
        "id": "4fGM7UwaRVUi",
        "colab": {
          "base_uri": "https://localhost:8080/",
          "height": 75
        },
        "outputId": "48e494ef-623c-4f84-8937-e443e23dc0d9"
      },
      "execution_count": 62,
      "outputs": [
        {
          "output_type": "execute_result",
          "data": {
            "text/plain": [
              "RandomForestClassifier()"
            ],
            "text/html": [
              "<style>#sk-container-id-8 {color: black;background-color: white;}#sk-container-id-8 pre{padding: 0;}#sk-container-id-8 div.sk-toggleable {background-color: white;}#sk-container-id-8 label.sk-toggleable__label {cursor: pointer;display: block;width: 100%;margin-bottom: 0;padding: 0.3em;box-sizing: border-box;text-align: center;}#sk-container-id-8 label.sk-toggleable__label-arrow:before {content: \"▸\";float: left;margin-right: 0.25em;color: #696969;}#sk-container-id-8 label.sk-toggleable__label-arrow:hover:before {color: black;}#sk-container-id-8 div.sk-estimator:hover label.sk-toggleable__label-arrow:before {color: black;}#sk-container-id-8 div.sk-toggleable__content {max-height: 0;max-width: 0;overflow: hidden;text-align: left;background-color: #f0f8ff;}#sk-container-id-8 div.sk-toggleable__content pre {margin: 0.2em;color: black;border-radius: 0.25em;background-color: #f0f8ff;}#sk-container-id-8 input.sk-toggleable__control:checked~div.sk-toggleable__content {max-height: 200px;max-width: 100%;overflow: auto;}#sk-container-id-8 input.sk-toggleable__control:checked~label.sk-toggleable__label-arrow:before {content: \"▾\";}#sk-container-id-8 div.sk-estimator input.sk-toggleable__control:checked~label.sk-toggleable__label {background-color: #d4ebff;}#sk-container-id-8 div.sk-label input.sk-toggleable__control:checked~label.sk-toggleable__label {background-color: #d4ebff;}#sk-container-id-8 input.sk-hidden--visually {border: 0;clip: rect(1px 1px 1px 1px);clip: rect(1px, 1px, 1px, 1px);height: 1px;margin: -1px;overflow: hidden;padding: 0;position: absolute;width: 1px;}#sk-container-id-8 div.sk-estimator {font-family: monospace;background-color: #f0f8ff;border: 1px dotted black;border-radius: 0.25em;box-sizing: border-box;margin-bottom: 0.5em;}#sk-container-id-8 div.sk-estimator:hover {background-color: #d4ebff;}#sk-container-id-8 div.sk-parallel-item::after {content: \"\";width: 100%;border-bottom: 1px solid gray;flex-grow: 1;}#sk-container-id-8 div.sk-label:hover label.sk-toggleable__label {background-color: #d4ebff;}#sk-container-id-8 div.sk-serial::before {content: \"\";position: absolute;border-left: 1px solid gray;box-sizing: border-box;top: 0;bottom: 0;left: 50%;z-index: 0;}#sk-container-id-8 div.sk-serial {display: flex;flex-direction: column;align-items: center;background-color: white;padding-right: 0.2em;padding-left: 0.2em;position: relative;}#sk-container-id-8 div.sk-item {position: relative;z-index: 1;}#sk-container-id-8 div.sk-parallel {display: flex;align-items: stretch;justify-content: center;background-color: white;position: relative;}#sk-container-id-8 div.sk-item::before, #sk-container-id-8 div.sk-parallel-item::before {content: \"\";position: absolute;border-left: 1px solid gray;box-sizing: border-box;top: 0;bottom: 0;left: 50%;z-index: -1;}#sk-container-id-8 div.sk-parallel-item {display: flex;flex-direction: column;z-index: 1;position: relative;background-color: white;}#sk-container-id-8 div.sk-parallel-item:first-child::after {align-self: flex-end;width: 50%;}#sk-container-id-8 div.sk-parallel-item:last-child::after {align-self: flex-start;width: 50%;}#sk-container-id-8 div.sk-parallel-item:only-child::after {width: 0;}#sk-container-id-8 div.sk-dashed-wrapped {border: 1px dashed gray;margin: 0 0.4em 0.5em 0.4em;box-sizing: border-box;padding-bottom: 0.4em;background-color: white;}#sk-container-id-8 div.sk-label label {font-family: monospace;font-weight: bold;display: inline-block;line-height: 1.2em;}#sk-container-id-8 div.sk-label-container {text-align: center;}#sk-container-id-8 div.sk-container {/* jupyter's `normalize.less` sets `[hidden] { display: none; }` but bootstrap.min.css set `[hidden] { display: none !important; }` so we also need the `!important` here to be able to override the default hidden behavior on the sphinx rendered scikit-learn.org. See: https://github.com/scikit-learn/scikit-learn/issues/21755 */display: inline-block !important;position: relative;}#sk-container-id-8 div.sk-text-repr-fallback {display: none;}</style><div id=\"sk-container-id-8\" class=\"sk-top-container\"><div class=\"sk-text-repr-fallback\"><pre>RandomForestClassifier()</pre><b>In a Jupyter environment, please rerun this cell to show the HTML representation or trust the notebook. <br />On GitHub, the HTML representation is unable to render, please try loading this page with nbviewer.org.</b></div><div class=\"sk-container\" hidden><div class=\"sk-item\"><div class=\"sk-estimator sk-toggleable\"><input class=\"sk-toggleable__control sk-hidden--visually\" id=\"sk-estimator-id-8\" type=\"checkbox\" checked><label for=\"sk-estimator-id-8\" class=\"sk-toggleable__label sk-toggleable__label-arrow\">RandomForestClassifier</label><div class=\"sk-toggleable__content\"><pre>RandomForestClassifier()</pre></div></div></div></div></div>"
            ]
          },
          "metadata": {},
          "execution_count": 62
        }
      ]
    },
    {
      "cell_type": "code",
      "source": [
        "ypred=rfc.predict(xtest)"
      ],
      "metadata": {
        "id": "xAZAwqs6RVKD"
      },
      "execution_count": 63,
      "outputs": []
    },
    {
      "cell_type": "code",
      "source": [
        "ypred"
      ],
      "metadata": {
        "id": "3Ux1N0PrReox",
        "colab": {
          "base_uri": "https://localhost:8080/"
        },
        "outputId": "fd994912-74e2-44db-ef33-3ff3635ecec1"
      },
      "execution_count": 64,
      "outputs": [
        {
          "output_type": "execute_result",
          "data": {
            "text/plain": [
              "array([0., 0., 0., ..., 0., 0., 0.])"
            ]
          },
          "metadata": {},
          "execution_count": 64
        }
      ]
    },
    {
      "cell_type": "code",
      "source": [
        "accuracy_score(ytest,ypred)"
      ],
      "metadata": {
        "id": "zEgQHpR1RebL",
        "colab": {
          "base_uri": "https://localhost:8080/"
        },
        "outputId": "38e4f01b-6485-491c-933f-421a201da015"
      },
      "execution_count": 65,
      "outputs": [
        {
          "output_type": "execute_result",
          "data": {
            "text/plain": [
              "0.9884023195360928"
            ]
          },
          "metadata": {},
          "execution_count": 65
        }
      ]
    },
    {
      "cell_type": "code",
      "source": [
        "print(classification_report(ytest,ypred))"
      ],
      "metadata": {
        "id": "Q_w9dtsjReOy",
        "colab": {
          "base_uri": "https://localhost:8080/"
        },
        "outputId": "302d3a12-c188-4e1a-cb4f-a2842894d790"
      },
      "execution_count": 66,
      "outputs": [
        {
          "output_type": "stream",
          "name": "stdout",
          "text": [
            "              precision    recall  f1-score   support\n",
            "\n",
            "         0.0       0.99      1.00      0.99      4918\n",
            "         1.0       0.74      0.47      0.57        83\n",
            "\n",
            "    accuracy                           0.99      5001\n",
            "   macro avg       0.86      0.73      0.78      5001\n",
            "weighted avg       0.99      0.99      0.99      5001\n",
            "\n"
          ]
        }
      ]
    },
    {
      "cell_type": "code",
      "source": [
        "print(confusion_matrix(ytest,ypred))"
      ],
      "metadata": {
        "id": "K5stckilRoWY",
        "colab": {
          "base_uri": "https://localhost:8080/"
        },
        "outputId": "feae17d9-5a3a-41a4-c6f1-32b1de758344"
      },
      "execution_count": 67,
      "outputs": [
        {
          "output_type": "stream",
          "name": "stdout",
          "text": [
            "[[4904   14]\n",
            " [  44   39]]\n"
          ]
        }
      ]
    },
    {
      "cell_type": "code",
      "source": [
        "etc = ExtraTreesClassifier().fit(xtrain, ytrain)\n",
        "ypred = etc.predict(xtest)"
      ],
      "metadata": {
        "id": "H0PoiYcVRoKg"
      },
      "execution_count": 68,
      "outputs": []
    },
    {
      "cell_type": "code",
      "source": [
        "ypred"
      ],
      "metadata": {
        "id": "bH-3uIhRRoEA",
        "colab": {
          "base_uri": "https://localhost:8080/"
        },
        "outputId": "c4fe15fb-eba8-469f-cc45-81533460961f"
      },
      "execution_count": 69,
      "outputs": [
        {
          "output_type": "execute_result",
          "data": {
            "text/plain": [
              "array([0., 0., 0., ..., 0., 0., 0.])"
            ]
          },
          "metadata": {},
          "execution_count": 69
        }
      ]
    },
    {
      "cell_type": "code",
      "source": [
        "print(classification_report(ytest, ypred))"
      ],
      "metadata": {
        "id": "uVQamOXARs-D",
        "colab": {
          "base_uri": "https://localhost:8080/"
        },
        "outputId": "62f30633-dbf4-4c63-ee4a-9a5ec4df5871"
      },
      "execution_count": 70,
      "outputs": [
        {
          "output_type": "stream",
          "name": "stdout",
          "text": [
            "              precision    recall  f1-score   support\n",
            "\n",
            "         0.0       0.99      1.00      0.99      4918\n",
            "         1.0       0.75      0.47      0.58        83\n",
            "\n",
            "    accuracy                           0.99      5001\n",
            "   macro avg       0.87      0.73      0.79      5001\n",
            "weighted avg       0.99      0.99      0.99      5001\n",
            "\n"
          ]
        }
      ]
    },
    {
      "cell_type": "code",
      "source": [
        "accuracy_score(ytest,ypred)"
      ],
      "metadata": {
        "id": "jLOP5Q30Rs5L",
        "colab": {
          "base_uri": "https://localhost:8080/"
        },
        "outputId": "34dcfd0e-d67e-436c-d739-ee75fb27459a"
      },
      "execution_count": 71,
      "outputs": [
        {
          "output_type": "execute_result",
          "data": {
            "text/plain": [
              "0.9886022795440912"
            ]
          },
          "metadata": {},
          "execution_count": 71
        }
      ]
    },
    {
      "cell_type": "code",
      "source": [
        "print(confusion_matrix(ytest,ypred))"
      ],
      "metadata": {
        "id": "J1xIhK-5Rsym",
        "colab": {
          "base_uri": "https://localhost:8080/"
        },
        "outputId": "d882b81e-2d60-440a-b8bf-d2c66dd643e7"
      },
      "execution_count": 72,
      "outputs": [
        {
          "output_type": "stream",
          "name": "stdout",
          "text": [
            "[[4905   13]\n",
            " [  44   39]]\n"
          ]
        }
      ]
    },
    {
      "cell_type": "markdown",
      "source": [
        "#####overall finding\n"
      ],
      "metadata": {
        "id": "-v2NTxqRGUli"
      }
    },
    {
      "cell_type": "code",
      "source": [
        "#In Logistic regression the accuracy_score is 98.7002%\n",
        "#In SVm the accuracy_score is of 0.988\n",
        "#In navie bayes  the accuracy_score is 0.9680\n",
        "#In Decision tree The accuracy_score is 98.11%\n",
        "#In Random forest classifier  the accuracy_score is of 0.988\n",
        "#In extra Tree classifier  the accuracy_score is of 0.988\n",
        "#Finally we can conclude that the highest accuracy score is given by SVM\n",
        "#But the accuracy of Logistic regression,SVM,Random Forest classifier and Extra tree classifier is 0.99 which are  having highst accuracy among the models"
      ],
      "metadata": {
        "id": "FQ88IgmjG7UH"
      },
      "execution_count": null,
      "outputs": []
    }
  ],
  "metadata": {
    "colab": {
      "provenance": [],
      "toc_visible": true
    },
    "kernelspec": {
      "display_name": "Python 3",
      "name": "python3"
    },
    "language_info": {
      "name": "python"
    }
  },
  "nbformat": 4,
  "nbformat_minor": 0
}