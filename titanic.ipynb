{
 "cells": [
  {
   "cell_type": "code",
   "execution_count": 1,
   "id": "ec89785a",
   "metadata": {
    "execution": {
     "iopub.execute_input": "2023-11-28T04:20:54.703834Z",
     "iopub.status.busy": "2023-11-28T04:20:54.703422Z",
     "iopub.status.idle": "2023-11-28T04:20:55.156139Z",
     "shell.execute_reply": "2023-11-28T04:20:55.154851Z"
    },
    "papermill": {
     "duration": 0.475269,
     "end_time": "2023-11-28T04:20:55.159219",
     "exception": false,
     "start_time": "2023-11-28T04:20:54.683950",
     "status": "completed"
    },
    "tags": []
   },
   "outputs": [],
   "source": [
    "import pandas as pd\n",
    "import numpy as np\n",
    "import matplotlib.pyplot as plt\n",
    "import warnings\n",
    "warnings.simplefilter(\"ignore\")"
   ]
  },
  {
   "cell_type": "code",
   "execution_count": 2,
   "id": "b9d8bfe9",
   "metadata": {
    "execution": {
     "iopub.execute_input": "2023-11-28T04:20:55.196067Z",
     "iopub.status.busy": "2023-11-28T04:20:55.195507Z",
     "iopub.status.idle": "2023-11-28T04:20:55.227993Z",
     "shell.execute_reply": "2023-11-28T04:20:55.226819Z"
    },
    "papermill": {
     "duration": 0.054566,
     "end_time": "2023-11-28T04:20:55.230948",
     "exception": false,
     "start_time": "2023-11-28T04:20:55.176382",
     "status": "completed"
    },
    "tags": []
   },
   "outputs": [],
   "source": [
    "train=pd.read_csv(\"/kaggle/input/titanic/train.csv\")\n",
    "test=pd.read_csv(\"/kaggle/input/titanic/test.csv\")"
   ]
  },
  {
   "cell_type": "code",
   "execution_count": 3,
   "id": "4803c260",
   "metadata": {
    "execution": {
     "iopub.execute_input": "2023-11-28T04:20:55.268959Z",
     "iopub.status.busy": "2023-11-28T04:20:55.267551Z",
     "iopub.status.idle": "2023-11-28T04:20:55.277002Z",
     "shell.execute_reply": "2023-11-28T04:20:55.275792Z"
    },
    "papermill": {
     "duration": 0.031066,
     "end_time": "2023-11-28T04:20:55.279592",
     "exception": false,
     "start_time": "2023-11-28T04:20:55.248526",
     "status": "completed"
    },
    "tags": []
   },
   "outputs": [
    {
     "data": {
      "text/plain": [
       "(418, 11)"
      ]
     },
     "execution_count": 3,
     "metadata": {},
     "output_type": "execute_result"
    }
   ],
   "source": [
    "test.shape"
   ]
  },
  {
   "cell_type": "code",
   "execution_count": 4,
   "id": "d93bca06",
   "metadata": {
    "execution": {
     "iopub.execute_input": "2023-11-28T04:20:55.315865Z",
     "iopub.status.busy": "2023-11-28T04:20:55.315456Z",
     "iopub.status.idle": "2023-11-28T04:20:55.347901Z",
     "shell.execute_reply": "2023-11-28T04:20:55.346576Z"
    },
    "papermill": {
     "duration": 0.05395,
     "end_time": "2023-11-28T04:20:55.350643",
     "exception": false,
     "start_time": "2023-11-28T04:20:55.296693",
     "status": "completed"
    },
    "tags": []
   },
   "outputs": [
    {
     "data": {
      "text/html": [
       "<div>\n",
       "<style scoped>\n",
       "    .dataframe tbody tr th:only-of-type {\n",
       "        vertical-align: middle;\n",
       "    }\n",
       "\n",
       "    .dataframe tbody tr th {\n",
       "        vertical-align: top;\n",
       "    }\n",
       "\n",
       "    .dataframe thead th {\n",
       "        text-align: right;\n",
       "    }\n",
       "</style>\n",
       "<table border=\"1\" class=\"dataframe\">\n",
       "  <thead>\n",
       "    <tr style=\"text-align: right;\">\n",
       "      <th></th>\n",
       "      <th>PassengerId</th>\n",
       "      <th>Survived</th>\n",
       "      <th>Pclass</th>\n",
       "      <th>Name</th>\n",
       "      <th>Sex</th>\n",
       "      <th>Age</th>\n",
       "      <th>SibSp</th>\n",
       "      <th>Parch</th>\n",
       "      <th>Ticket</th>\n",
       "      <th>Fare</th>\n",
       "      <th>Cabin</th>\n",
       "      <th>Embarked</th>\n",
       "    </tr>\n",
       "  </thead>\n",
       "  <tbody>\n",
       "    <tr>\n",
       "      <th>0</th>\n",
       "      <td>1</td>\n",
       "      <td>0</td>\n",
       "      <td>3</td>\n",
       "      <td>Braund, Mr. Owen Harris</td>\n",
       "      <td>male</td>\n",
       "      <td>22.0</td>\n",
       "      <td>1</td>\n",
       "      <td>0</td>\n",
       "      <td>A/5 21171</td>\n",
       "      <td>7.2500</td>\n",
       "      <td>NaN</td>\n",
       "      <td>S</td>\n",
       "    </tr>\n",
       "    <tr>\n",
       "      <th>1</th>\n",
       "      <td>2</td>\n",
       "      <td>1</td>\n",
       "      <td>1</td>\n",
       "      <td>Cumings, Mrs. John Bradley (Florence Briggs Th...</td>\n",
       "      <td>female</td>\n",
       "      <td>38.0</td>\n",
       "      <td>1</td>\n",
       "      <td>0</td>\n",
       "      <td>PC 17599</td>\n",
       "      <td>71.2833</td>\n",
       "      <td>C85</td>\n",
       "      <td>C</td>\n",
       "    </tr>\n",
       "    <tr>\n",
       "      <th>2</th>\n",
       "      <td>3</td>\n",
       "      <td>1</td>\n",
       "      <td>3</td>\n",
       "      <td>Heikkinen, Miss. Laina</td>\n",
       "      <td>female</td>\n",
       "      <td>26.0</td>\n",
       "      <td>0</td>\n",
       "      <td>0</td>\n",
       "      <td>STON/O2. 3101282</td>\n",
       "      <td>7.9250</td>\n",
       "      <td>NaN</td>\n",
       "      <td>S</td>\n",
       "    </tr>\n",
       "    <tr>\n",
       "      <th>3</th>\n",
       "      <td>4</td>\n",
       "      <td>1</td>\n",
       "      <td>1</td>\n",
       "      <td>Futrelle, Mrs. Jacques Heath (Lily May Peel)</td>\n",
       "      <td>female</td>\n",
       "      <td>35.0</td>\n",
       "      <td>1</td>\n",
       "      <td>0</td>\n",
       "      <td>113803</td>\n",
       "      <td>53.1000</td>\n",
       "      <td>C123</td>\n",
       "      <td>S</td>\n",
       "    </tr>\n",
       "    <tr>\n",
       "      <th>4</th>\n",
       "      <td>5</td>\n",
       "      <td>0</td>\n",
       "      <td>3</td>\n",
       "      <td>Allen, Mr. William Henry</td>\n",
       "      <td>male</td>\n",
       "      <td>35.0</td>\n",
       "      <td>0</td>\n",
       "      <td>0</td>\n",
       "      <td>373450</td>\n",
       "      <td>8.0500</td>\n",
       "      <td>NaN</td>\n",
       "      <td>S</td>\n",
       "    </tr>\n",
       "  </tbody>\n",
       "</table>\n",
       "</div>"
      ],
      "text/plain": [
       "   PassengerId  Survived  Pclass  \\\n",
       "0            1         0       3   \n",
       "1            2         1       1   \n",
       "2            3         1       3   \n",
       "3            4         1       1   \n",
       "4            5         0       3   \n",
       "\n",
       "                                                Name     Sex   Age  SibSp  \\\n",
       "0                            Braund, Mr. Owen Harris    male  22.0      1   \n",
       "1  Cumings, Mrs. John Bradley (Florence Briggs Th...  female  38.0      1   \n",
       "2                             Heikkinen, Miss. Laina  female  26.0      0   \n",
       "3       Futrelle, Mrs. Jacques Heath (Lily May Peel)  female  35.0      1   \n",
       "4                           Allen, Mr. William Henry    male  35.0      0   \n",
       "\n",
       "   Parch            Ticket     Fare Cabin Embarked  \n",
       "0      0         A/5 21171   7.2500   NaN        S  \n",
       "1      0          PC 17599  71.2833   C85        C  \n",
       "2      0  STON/O2. 3101282   7.9250   NaN        S  \n",
       "3      0            113803  53.1000  C123        S  \n",
       "4      0            373450   8.0500   NaN        S  "
      ]
     },
     "execution_count": 4,
     "metadata": {},
     "output_type": "execute_result"
    }
   ],
   "source": [
    "train.head()"
   ]
  },
  {
   "cell_type": "code",
   "execution_count": 5,
   "id": "5a64beb2",
   "metadata": {
    "execution": {
     "iopub.execute_input": "2023-11-28T04:20:55.387396Z",
     "iopub.status.busy": "2023-11-28T04:20:55.386943Z",
     "iopub.status.idle": "2023-11-28T04:20:55.394431Z",
     "shell.execute_reply": "2023-11-28T04:20:55.393084Z"
    },
    "papermill": {
     "duration": 0.029171,
     "end_time": "2023-11-28T04:20:55.397191",
     "exception": false,
     "start_time": "2023-11-28T04:20:55.368020",
     "status": "completed"
    },
    "tags": []
   },
   "outputs": [
    {
     "data": {
      "text/plain": [
       "(891, 12)"
      ]
     },
     "execution_count": 5,
     "metadata": {},
     "output_type": "execute_result"
    }
   ],
   "source": [
    "train.shape"
   ]
  },
  {
   "cell_type": "code",
   "execution_count": 6,
   "id": "f9f0b03e",
   "metadata": {
    "execution": {
     "iopub.execute_input": "2023-11-28T04:20:55.435453Z",
     "iopub.status.busy": "2023-11-28T04:20:55.435000Z",
     "iopub.status.idle": "2023-11-28T04:20:55.450751Z",
     "shell.execute_reply": "2023-11-28T04:20:55.449824Z"
    },
    "papermill": {
     "duration": 0.038167,
     "end_time": "2023-11-28T04:20:55.453478",
     "exception": false,
     "start_time": "2023-11-28T04:20:55.415311",
     "status": "completed"
    },
    "tags": []
   },
   "outputs": [
    {
     "data": {
      "text/plain": [
       "Survived\n",
       "0    549\n",
       "1    342\n",
       "Name: count, dtype: int64"
      ]
     },
     "execution_count": 6,
     "metadata": {},
     "output_type": "execute_result"
    }
   ],
   "source": [
    "train[\"Survived\"].value_counts()"
   ]
  },
  {
   "cell_type": "code",
   "execution_count": 7,
   "id": "4bc6ce30",
   "metadata": {
    "execution": {
     "iopub.execute_input": "2023-11-28T04:20:55.493282Z",
     "iopub.status.busy": "2023-11-28T04:20:55.491887Z",
     "iopub.status.idle": "2023-11-28T04:20:55.501690Z",
     "shell.execute_reply": "2023-11-28T04:20:55.500419Z"
    },
    "papermill": {
     "duration": 0.033093,
     "end_time": "2023-11-28T04:20:55.504750",
     "exception": false,
     "start_time": "2023-11-28T04:20:55.471657",
     "status": "completed"
    },
    "tags": []
   },
   "outputs": [
    {
     "data": {
      "text/plain": [
       "Index([0, 1], dtype='int64', name='Survived')"
      ]
     },
     "execution_count": 7,
     "metadata": {},
     "output_type": "execute_result"
    }
   ],
   "source": [
    "train[\"Survived\"].value_counts().keys()"
   ]
  },
  {
   "cell_type": "code",
   "execution_count": 8,
   "id": "49645667",
   "metadata": {
    "execution": {
     "iopub.execute_input": "2023-11-28T04:20:55.543307Z",
     "iopub.status.busy": "2023-11-28T04:20:55.542597Z",
     "iopub.status.idle": "2023-11-28T04:20:55.798288Z",
     "shell.execute_reply": "2023-11-28T04:20:55.796897Z"
    },
    "papermill": {
     "duration": 0.277957,
     "end_time": "2023-11-28T04:20:55.800833",
     "exception": false,
     "start_time": "2023-11-28T04:20:55.522876",
     "status": "completed"
    },
    "tags": []
   },
   "outputs": [
    {
     "data": {
      "image/png": "[encoded data removed]",
      "text/plain": [
       "<Figure size 300x500 with 1 Axes>"
      ]
     },
     "metadata": {},
     "output_type": "display_data"
    }
   ],
   "source": [
    "plt.figure(figsize=(3,5))\n",
    "plt.bar(list(train[\"Survived\"].value_counts().keys()),list(train[\"Survived\"].value_counts()),color=\"r\")\n",
    "plt.show()"
   ]
  },
  {
   "cell_type": "code",
   "execution_count": 9,
   "id": "d586c96f",
   "metadata": {
    "execution": {
     "iopub.execute_input": "2023-11-28T04:20:55.840958Z",
     "iopub.status.busy": "2023-11-28T04:20:55.840536Z",
     "iopub.status.idle": "2023-11-28T04:20:55.849679Z",
     "shell.execute_reply": "2023-11-28T04:20:55.848381Z"
    },
    "papermill": {
     "duration": 0.032589,
     "end_time": "2023-11-28T04:20:55.852240",
     "exception": false,
     "start_time": "2023-11-28T04:20:55.819651",
     "status": "completed"
    },
    "tags": []
   },
   "outputs": [
    {
     "data": {
      "text/plain": [
       "Pclass\n",
       "3    491\n",
       "1    216\n",
       "2    184\n",
       "Name: count, dtype: int64"
      ]
     },
     "execution_count": 9,
     "metadata": {},
     "output_type": "execute_result"
    }
   ],
   "source": [
    "train[\"Pclass\"].value_counts()"
   ]
  },
  {
   "cell_type": "code",
   "execution_count": 10,
   "id": "42583182",
   "metadata": {
    "execution": {
     "iopub.execute_input": "2023-11-28T04:20:55.892309Z",
     "iopub.status.busy": "2023-11-28T04:20:55.891600Z",
     "iopub.status.idle": "2023-11-28T04:20:55.899838Z",
     "shell.execute_reply": "2023-11-28T04:20:55.898711Z"
    },
    "papermill": {
     "duration": 0.03118,
     "end_time": "2023-11-28T04:20:55.902511",
     "exception": false,
     "start_time": "2023-11-28T04:20:55.871331",
     "status": "completed"
    },
    "tags": []
   },
   "outputs": [
    {
     "data": {
      "text/plain": [
       "Index([3, 1, 2], dtype='int64', name='Pclass')"
      ]
     },
     "execution_count": 10,
     "metadata": {},
     "output_type": "execute_result"
    }
   ],
   "source": [
    "train[\"Pclass\"].value_counts().keys()"
   ]
  },
  {
   "cell_type": "code",
   "execution_count": 11,
   "id": "6d4a1d3b",
   "metadata": {
    "execution": {
     "iopub.execute_input": "2023-11-28T04:20:55.943339Z",
     "iopub.status.busy": "2023-11-28T04:20:55.942503Z",
     "iopub.status.idle": "2023-11-28T04:20:56.173458Z",
     "shell.execute_reply": "2023-11-28T04:20:56.172322Z"
    },
    "papermill": {
     "duration": 0.254524,
     "end_time": "2023-11-28T04:20:56.176378",
     "exception": false,
     "start_time": "2023-11-28T04:20:55.921854",
     "status": "completed"
    },
    "tags": []
   },
   "outputs": [
    {
     "data": {
      "image/png": "[encoded data removed]",
      "text/plain": [
       "<Figure size 300x500 with 1 Axes>"
      ]
     },
     "metadata": {},
     "output_type": "display_data"
    }
   ],
   "source": [
    "plt.figure(figsize=(3,5))\n",
    "plt.bar(list(train[\"Pclass\"].value_counts().keys()),list(train[\"Pclass\"].value_counts()),color=[\"red\",\"blue\",\"green\"])\n",
    "plt.show()"
   ]
  },
  {
   "cell_type": "code",
   "execution_count": 12,
   "id": "0a4e1c0e",
   "metadata": {
    "execution": {
     "iopub.execute_input": "2023-11-28T04:20:56.282157Z",
     "iopub.status.busy": "2023-11-28T04:20:56.281734Z",
     "iopub.status.idle": "2023-11-28T04:20:56.293755Z",
     "shell.execute_reply": "2023-11-28T04:20:56.292495Z"
    },
    "papermill": {
     "duration": 0.101085,
     "end_time": "2023-11-28T04:20:56.296683",
     "exception": false,
     "start_time": "2023-11-28T04:20:56.195598",
     "status": "completed"
    },
    "tags": []
   },
   "outputs": [
    {
     "data": {
      "text/plain": [
       "Sex\n",
       "male      577\n",
       "female    314\n",
       "Name: count, dtype: int64"
      ]
     },
     "execution_count": 12,
     "metadata": {},
     "output_type": "execute_result"
    }
   ],
   "source": [
    "train[\"Sex\"].value_counts()"
   ]
  },
  {
   "cell_type": "code",
   "execution_count": 13,
   "id": "65a9f2b8",
   "metadata": {
    "execution": {
     "iopub.execute_input": "2023-11-28T04:20:56.338171Z",
     "iopub.status.busy": "2023-11-28T04:20:56.336832Z",
     "iopub.status.idle": "2023-11-28T04:20:56.514314Z",
     "shell.execute_reply": "2023-11-28T04:20:56.513133Z"
    },
    "papermill": {
     "duration": 0.201409,
     "end_time": "2023-11-28T04:20:56.516947",
     "exception": false,
     "start_time": "2023-11-28T04:20:56.315538",
     "status": "completed"
    },
    "tags": []
   },
   "outputs": [
    {
     "data": {
      "image/png": "[encoded data removed]",
      "text/plain": [
       "<Figure size 300x500 with 1 Axes>"
      ]
     },
     "metadata": {},
     "output_type": "display_data"
    }
   ],
   "source": [
    "plt.figure(figsize=(3,5))\n",
    "plt.bar(list(train[\"Sex\"].value_counts().keys()),list(train[\"Sex\"].value_counts()),color=[\"blue\",\"green\"])\n",
    "plt.show()"
   ]
  },
  {
   "cell_type": "code",
   "execution_count": 14,
   "id": "003cccf9",
   "metadata": {
    "execution": {
     "iopub.execute_input": "2023-11-28T04:20:56.557871Z",
     "iopub.status.busy": "2023-11-28T04:20:56.557029Z",
     "iopub.status.idle": "2023-11-28T04:20:56.835893Z",
     "shell.execute_reply": "2023-11-28T04:20:56.834857Z"
    },
    "papermill": {
     "duration": 0.302517,
     "end_time": "2023-11-28T04:20:56.838782",
     "exception": false,
     "start_time": "2023-11-28T04:20:56.536265",
     "status": "completed"
    },
    "tags": []
   },
   "outputs": [
    {
     "data": {
      "image/png": "[encoded data removed]",
      "text/plain": [
       "<Figure size 500x700 with 1 Axes>"
      ]
     },
     "metadata": {},
     "output_type": "display_data"
    }
   ],
   "source": [
    "plt.figure(figsize=(5,7))\n",
    "plt.hist(train[\"Age\"])\n",
    "plt.title(\"Distribution of Age\")\n",
    "plt.xlabel(\"Age\")\n",
    "plt.show()"
   ]
  },
  {
   "cell_type": "code",
   "execution_count": 15,
   "id": "39fb7749",
   "metadata": {
    "execution": {
     "iopub.execute_input": "2023-11-28T04:20:56.881951Z",
     "iopub.status.busy": "2023-11-28T04:20:56.881274Z",
     "iopub.status.idle": "2023-11-28T04:20:56.891339Z",
     "shell.execute_reply": "2023-11-28T04:20:56.890117Z"
    },
    "papermill": {
     "duration": 0.034568,
     "end_time": "2023-11-28T04:20:56.893903",
     "exception": false,
     "start_time": "2023-11-28T04:20:56.859335",
     "status": "completed"
    },
    "tags": []
   },
   "outputs": [
    {
     "data": {
      "text/plain": [
       "PassengerId      0\n",
       "Survived         0\n",
       "Pclass           0\n",
       "Name             0\n",
       "Sex              0\n",
       "Age            177\n",
       "SibSp            0\n",
       "Parch            0\n",
       "Ticket           0\n",
       "Fare             0\n",
       "Cabin          687\n",
       "Embarked         2\n",
       "dtype: int64"
      ]
     },
     "execution_count": 15,
     "metadata": {},
     "output_type": "execute_result"
    }
   ],
   "source": [
    "train.isnull().sum()"
   ]
  },
  {
   "cell_type": "code",
   "execution_count": 16,
   "id": "42acffa7",
   "metadata": {
    "execution": {
     "iopub.execute_input": "2023-11-28T04:20:56.936889Z",
     "iopub.status.busy": "2023-11-28T04:20:56.935737Z",
     "iopub.status.idle": "2023-11-28T04:20:56.961651Z",
     "shell.execute_reply": "2023-11-28T04:20:56.959829Z"
    },
    "papermill": {
     "duration": 0.049945,
     "end_time": "2023-11-28T04:20:56.964388",
     "exception": false,
     "start_time": "2023-11-28T04:20:56.914443",
     "status": "completed"
    },
    "tags": []
   },
   "outputs": [
    {
     "name": "stdout",
     "output_type": "stream",
     "text": [
      "<class 'pandas.core.frame.DataFrame'>\n",
      "RangeIndex: 891 entries, 0 to 890\n",
      "Data columns (total 12 columns):\n",
      " #   Column       Non-Null Count  Dtype  \n",
      "---  ------       --------------  -----  \n",
      " 0   PassengerId  891 non-null    int64  \n",
      " 1   Survived     891 non-null    int64  \n",
      " 2   Pclass       891 non-null    int64  \n",
      " 3   Name         891 non-null    object \n",
      " 4   Sex          891 non-null    object \n",
      " 5   Age          714 non-null    float64\n",
      " 6   SibSp        891 non-null    int64  \n",
      " 7   Parch        891 non-null    int64  \n",
      " 8   Ticket       891 non-null    object \n",
      " 9   Fare         891 non-null    float64\n",
      " 10  Cabin        204 non-null    object \n",
      " 11  Embarked     889 non-null    object \n",
      "dtypes: float64(2), int64(5), object(5)\n",
      "memory usage: 83.7+ KB\n"
     ]
    }
   ],
   "source": [
    "train.info()"
   ]
  },
  {
   "cell_type": "code",
   "execution_count": 17,
   "id": "4e9ed560",
   "metadata": {
    "execution": {
     "iopub.execute_input": "2023-11-28T04:20:57.009098Z",
     "iopub.status.busy": "2023-11-28T04:20:57.008211Z",
     "iopub.status.idle": "2023-11-28T04:20:57.017404Z",
     "shell.execute_reply": "2023-11-28T04:20:57.016196Z"
    },
    "papermill": {
     "duration": 0.034469,
     "end_time": "2023-11-28T04:20:57.020375",
     "exception": false,
     "start_time": "2023-11-28T04:20:56.985906",
     "status": "completed"
    },
    "tags": []
   },
   "outputs": [],
   "source": [
    "train[\"Age\"].fillna(train[\"Age\"].mean(),inplace=True)"
   ]
  },
  {
   "cell_type": "code",
   "execution_count": 18,
   "id": "6e44f433",
   "metadata": {
    "execution": {
     "iopub.execute_input": "2023-11-28T04:20:57.064022Z",
     "iopub.status.busy": "2023-11-28T04:20:57.063613Z",
     "iopub.status.idle": "2023-11-28T04:20:57.071192Z",
     "shell.execute_reply": "2023-11-28T04:20:57.069885Z"
    },
    "papermill": {
     "duration": 0.032575,
     "end_time": "2023-11-28T04:20:57.073921",
     "exception": false,
     "start_time": "2023-11-28T04:20:57.041346",
     "status": "completed"
    },
    "tags": []
   },
   "outputs": [],
   "source": [
    "train[\"Cabin\"].fillna(train[\"Cabin\"].mode()[0],inplace=True)"
   ]
  },
  {
   "cell_type": "code",
   "execution_count": 19,
   "id": "d0ab10a8",
   "metadata": {
    "execution": {
     "iopub.execute_input": "2023-11-28T04:20:57.117247Z",
     "iopub.status.busy": "2023-11-28T04:20:57.115793Z",
     "iopub.status.idle": "2023-11-28T04:20:57.123341Z",
     "shell.execute_reply": "2023-11-28T04:20:57.122264Z"
    },
    "papermill": {
     "duration": 0.031611,
     "end_time": "2023-11-28T04:20:57.125775",
     "exception": false,
     "start_time": "2023-11-28T04:20:57.094164",
     "status": "completed"
    },
    "tags": []
   },
   "outputs": [],
   "source": [
    "train[\"Embarked\"].fillna(train[\"Embarked\"].mode()[0],inplace=True)"
   ]
  },
  {
   "cell_type": "code",
   "execution_count": 20,
   "id": "e7fe093f",
   "metadata": {
    "execution": {
     "iopub.execute_input": "2023-11-28T04:20:57.169828Z",
     "iopub.status.busy": "2023-11-28T04:20:57.168594Z",
     "iopub.status.idle": "2023-11-28T04:20:57.178117Z",
     "shell.execute_reply": "2023-11-28T04:20:57.177255Z"
    },
    "papermill": {
     "duration": 0.034164,
     "end_time": "2023-11-28T04:20:57.180656",
     "exception": false,
     "start_time": "2023-11-28T04:20:57.146492",
     "status": "completed"
    },
    "tags": []
   },
   "outputs": [
    {
     "data": {
      "text/plain": [
       "PassengerId    0\n",
       "Survived       0\n",
       "Pclass         0\n",
       "Name           0\n",
       "Sex            0\n",
       "Age            0\n",
       "SibSp          0\n",
       "Parch          0\n",
       "Ticket         0\n",
       "Fare           0\n",
       "Cabin          0\n",
       "Embarked       0\n",
       "dtype: int64"
      ]
     },
     "execution_count": 20,
     "metadata": {},
     "output_type": "execute_result"
    }
   ],
   "source": [
    "train.isna().sum()"
   ]
  },
  {
   "cell_type": "code",
   "execution_count": 21,
   "id": "54da0854",
   "metadata": {
    "execution": {
     "iopub.execute_input": "2023-11-28T04:20:57.225118Z",
     "iopub.status.busy": "2023-11-28T04:20:57.224269Z",
     "iopub.status.idle": "2023-11-28T04:20:57.231720Z",
     "shell.execute_reply": "2023-11-28T04:20:57.230729Z"
    },
    "papermill": {
     "duration": 0.032386,
     "end_time": "2023-11-28T04:20:57.234379",
     "exception": false,
     "start_time": "2023-11-28T04:20:57.201993",
     "status": "completed"
    },
    "tags": []
   },
   "outputs": [
    {
     "data": {
      "text/plain": [
       "(891, 12)"
      ]
     },
     "execution_count": 21,
     "metadata": {},
     "output_type": "execute_result"
    }
   ],
   "source": [
    "train.shape"
   ]
  },
  {
   "cell_type": "code",
   "execution_count": 22,
   "id": "69a431ff",
   "metadata": {
    "execution": {
     "iopub.execute_input": "2023-11-28T04:20:57.282014Z",
     "iopub.status.busy": "2023-11-28T04:20:57.281203Z",
     "iopub.status.idle": "2023-11-28T04:20:57.294501Z",
     "shell.execute_reply": "2023-11-28T04:20:57.293144Z"
    },
    "papermill": {
     "duration": 0.040237,
     "end_time": "2023-11-28T04:20:57.297664",
     "exception": false,
     "start_time": "2023-11-28T04:20:57.257427",
     "status": "completed"
    },
    "tags": []
   },
   "outputs": [
    {
     "name": "stdout",
     "output_type": "stream",
     "text": [
      "<class 'pandas.core.frame.DataFrame'>\n",
      "RangeIndex: 891 entries, 0 to 890\n",
      "Data columns (total 12 columns):\n",
      " #   Column       Non-Null Count  Dtype  \n",
      "---  ------       --------------  -----  \n",
      " 0   PassengerId  891 non-null    int64  \n",
      " 1   Survived     891 non-null    int64  \n",
      " 2   Pclass       891 non-null    int64  \n",
      " 3   Name         891 non-null    object \n",
      " 4   Sex          891 non-null    object \n",
      " 5   Age          891 non-null    float64\n",
      " 6   SibSp        891 non-null    int64  \n",
      " 7   Parch        891 non-null    int64  \n",
      " 8   Ticket       891 non-null    object \n",
      " 9   Fare         891 non-null    float64\n",
      " 10  Cabin        891 non-null    object \n",
      " 11  Embarked     891 non-null    object \n",
      "dtypes: float64(2), int64(5), object(5)\n",
      "memory usage: 83.7+ KB\n"
     ]
    }
   ],
   "source": [
    "train.info()"
   ]
  },
  {
   "cell_type": "code",
   "execution_count": 23,
   "id": "40a2f7c9",
   "metadata": {
    "execution": {
     "iopub.execute_input": "2023-11-28T04:20:57.342716Z",
     "iopub.status.busy": "2023-11-28T04:20:57.341725Z",
     "iopub.status.idle": "2023-11-28T04:20:57.347283Z",
     "shell.execute_reply": "2023-11-28T04:20:57.346302Z"
    },
    "papermill": {
     "duration": 0.031032,
     "end_time": "2023-11-28T04:20:57.349852",
     "exception": false,
     "start_time": "2023-11-28T04:20:57.318820",
     "status": "completed"
    },
    "tags": []
   },
   "outputs": [],
   "source": [
    "categorical = []\n",
    "for column in train.columns:\n",
    "  if train[column].dtype ==\"object\":\n",
    "    categorical.append(column)"
   ]
  },
  {
   "cell_type": "code",
   "execution_count": 24,
   "id": "96a39fdb",
   "metadata": {
    "execution": {
     "iopub.execute_input": "2023-11-28T04:20:57.392737Z",
     "iopub.status.busy": "2023-11-28T04:20:57.392347Z",
     "iopub.status.idle": "2023-11-28T04:20:57.399359Z",
     "shell.execute_reply": "2023-11-28T04:20:57.398347Z"
    },
    "papermill": {
     "duration": 0.031317,
     "end_time": "2023-11-28T04:20:57.401692",
     "exception": false,
     "start_time": "2023-11-28T04:20:57.370375",
     "status": "completed"
    },
    "tags": []
   },
   "outputs": [
    {
     "data": {
      "text/plain": [
       "['Name', 'Sex', 'Ticket', 'Cabin', 'Embarked']"
      ]
     },
     "execution_count": 24,
     "metadata": {},
     "output_type": "execute_result"
    }
   ],
   "source": [
    "categorical"
   ]
  },
  {
   "cell_type": "code",
   "execution_count": 25,
   "id": "c8928c21",
   "metadata": {
    "execution": {
     "iopub.execute_input": "2023-11-28T04:20:57.446334Z",
     "iopub.status.busy": "2023-11-28T04:20:57.445891Z",
     "iopub.status.idle": "2023-11-28T04:20:58.889007Z",
     "shell.execute_reply": "2023-11-28T04:20:58.887835Z"
    },
    "papermill": {
     "duration": 1.469217,
     "end_time": "2023-11-28T04:20:58.891772",
     "exception": false,
     "start_time": "2023-11-28T04:20:57.422555",
     "status": "completed"
    },
    "tags": []
   },
   "outputs": [
    {
     "data": {
      "text/plain": [
       "array([['Braund, Mr. Owen Harris', 'male', 'A/5 21171', 'B96 B98', 'S'],\n",
       "       ['Cumings, Mrs. John Bradley (Florence Briggs Thayer)', 'female',\n",
       "        'PC 17599', 'C85', 'C'],\n",
       "       ['Heikkinen, Miss. Laina', 'female', 'STON/O2. 3101282',\n",
       "        'B96 B98', 'S'],\n",
       "       ...,\n",
       "       ['Johnston, Miss. Catherine Helen \"Carrie\"', 'female',\n",
       "        'W./C. 6607', 'B96 B98', 'S'],\n",
       "       ['Behr, Mr. Karl Howell', 'male', '111369', 'C148', 'C'],\n",
       "       ['Dooley, Mr. Patrick', 'male', '370376', 'B96 B98', 'Q']],\n",
       "      dtype=object)"
      ]
     },
     "execution_count": 25,
     "metadata": {},
     "output_type": "execute_result"
    }
   ],
   "source": [
    "from sklearn.preprocessing import OrdinalEncoder\n",
    "oe = OrdinalEncoder().fit(train[categorical])\n",
    "train[categorical] = oe.transform(train[categorical])\n",
    "oe.inverse_transform(train[categorical])"
   ]
  },
  {
   "cell_type": "code",
   "execution_count": 26,
   "id": "5e134dc6",
   "metadata": {
    "execution": {
     "iopub.execute_input": "2023-11-28T04:20:58.935758Z",
     "iopub.status.busy": "2023-11-28T04:20:58.935358Z",
     "iopub.status.idle": "2023-11-28T04:20:58.957404Z",
     "shell.execute_reply": "2023-11-28T04:20:58.956103Z"
    },
    "papermill": {
     "duration": 0.048695,
     "end_time": "2023-11-28T04:20:58.961363",
     "exception": false,
     "start_time": "2023-11-28T04:20:58.912668",
     "status": "completed"
    },
    "tags": []
   },
   "outputs": [
    {
     "data": {
      "text/plain": [
       "[array(['Abbing, Mr. Anthony', 'Abbott, Mr. Rossmore Edward',\n",
       "        'Abbott, Mrs. Stanton (Rosa Hunt)', 'Abelson, Mr. Samuel',\n",
       "        'Abelson, Mrs. Samuel (Hannah Wizosky)',\n",
       "        'Adahl, Mr. Mauritz Nils Martin', 'Adams, Mr. John',\n",
       "        'Ahlin, Mrs. Johan (Johanna Persdotter Larsson)',\n",
       "        'Aks, Mrs. Sam (Leah Rosen)', 'Albimona, Mr. Nassef Cassem',\n",
       "        'Alexander, Mr. William', 'Alhomaki, Mr. Ilmari Rudolf',\n",
       "        'Ali, Mr. Ahmed', 'Ali, Mr. William',\n",
       "        'Allen, Miss. Elisabeth Walton', 'Allen, Mr. William Henry',\n",
       "        'Allison, Master. Hudson Trevor', 'Allison, Miss. Helen Loraine',\n",
       "        'Allison, Mrs. Hudson J C (Bessie Waldo Daniels)',\n",
       "        'Allum, Mr. Owen George',\n",
       "        'Andersen-Jensen, Miss. Carla Christine Nielsine',\n",
       "        'Anderson, Mr. Harry', 'Andersson, Master. Sigvard Harald Elias',\n",
       "        'Andersson, Miss. Ebba Iris Alfrida',\n",
       "        'Andersson, Miss. Ellis Anna Maria',\n",
       "        'Andersson, Miss. Erna Alexandra',\n",
       "        'Andersson, Miss. Ingeborg Constanzia',\n",
       "        'Andersson, Miss. Sigrid Elisabeth', 'Andersson, Mr. Anders Johan',\n",
       "        'Andersson, Mr. August Edvard (\"Wennerstrom\")',\n",
       "        'Andersson, Mrs. Anders Johan (Alfrida Konstantia Brogren)',\n",
       "        'Andreasson, Mr. Paul Edvin', 'Andrew, Mr. Edgardo Samuel',\n",
       "        'Andrews, Miss. Kornelia Theodosia', 'Andrews, Mr. Thomas Jr',\n",
       "        'Angle, Mrs. William A (Florence \"Mary\" Agnes Hughes)',\n",
       "        'Appleton, Mrs. Edward Dale (Charlotte Lamson)',\n",
       "        'Arnold-Franchi, Mr. Josef',\n",
       "        'Arnold-Franchi, Mrs. Josef (Josefine Franchi)',\n",
       "        'Artagaveytia, Mr. Ramon', 'Asim, Mr. Adola',\n",
       "        'Asplund, Master. Clarence Gustaf Hugo',\n",
       "        'Asplund, Master. Edvin Rojj Felix',\n",
       "        'Asplund, Miss. Lillian Gertrud',\n",
       "        'Asplund, Mrs. Carl Oscar (Selma Augusta Emilia Johansson)',\n",
       "        'Astor, Mrs. John Jacob (Madeleine Talmadge Force)',\n",
       "        'Attalah, Miss. Malake', 'Attalah, Mr. Sleiman',\n",
       "        'Aubart, Mme. Leontine Pauline', 'Augustsson, Mr. Albert',\n",
       "        'Ayoub, Miss. Banoura', 'Backstrom, Mr. Karl Alfred',\n",
       "        'Backstrom, Mrs. Karl Alfred (Maria Mathilda Gustafsson)',\n",
       "        'Baclini, Miss. Eugenie', 'Baclini, Miss. Helene Barbara',\n",
       "        'Baclini, Miss. Marie Catherine',\n",
       "        'Baclini, Mrs. Solomon (Latifa Qurban)', 'Badt, Mr. Mohamed',\n",
       "        'Bailey, Mr. Percy Andrew', 'Balkic, Mr. Cerin',\n",
       "        'Ball, Mrs. (Ada E Hall)', 'Banfield, Mr. Frederick James',\n",
       "        'Barah, Mr. Hanna Assi', 'Barbara, Miss. Saiide',\n",
       "        'Barbara, Mrs. (Catherine David)', 'Barber, Miss. Ellen \"Nellie\"',\n",
       "        'Barkworth, Mr. Algernon Henry Wilson', 'Barton, Mr. David John',\n",
       "        'Bateman, Rev. Robert James', 'Baumann, Mr. John D',\n",
       "        'Baxter, Mr. Quigg Edmond',\n",
       "        'Baxter, Mrs. James (Helene DeLaudeniere Chaput)',\n",
       "        'Bazzani, Miss. Albina', 'Beane, Mr. Edward',\n",
       "        'Beane, Mrs. Edward (Ethel Clarke)', 'Beavan, Mr. William Thomas',\n",
       "        'Becker, Master. Richard F', 'Becker, Miss. Marion Louise',\n",
       "        'Beckwith, Mr. Richard Leonard',\n",
       "        'Beckwith, Mrs. Richard Leonard (Sallie Monypeny)',\n",
       "        'Beesley, Mr. Lawrence', 'Behr, Mr. Karl Howell',\n",
       "        'Bengtsson, Mr. John Viktor', 'Berglund, Mr. Karl Ivar Sven',\n",
       "        'Berriman, Mr. William John', 'Betros, Mr. Tannous',\n",
       "        'Bidois, Miss. Rosalie', 'Bing, Mr. Lee',\n",
       "        'Birkeland, Mr. Hans Martin Monsen', 'Bishop, Mr. Dickinson H',\n",
       "        'Bishop, Mrs. Dickinson H (Helen Walton)',\n",
       "        'Bissette, Miss. Amelia',\n",
       "        'Bjornstrom-Steffansson, Mr. Mauritz Hakan',\n",
       "        'Blackwell, Mr. Stephen Weart', 'Blank, Mr. Henry',\n",
       "        'Bonnell, Miss. Elizabeth', 'Bostandyeff, Mr. Guentcho',\n",
       "        'Boulos, Miss. Nourelain', 'Boulos, Mr. Hanna',\n",
       "        'Boulos, Mrs. Joseph (Sultana)', 'Bourke, Miss. Mary',\n",
       "        'Bourke, Mr. John', 'Bourke, Mrs. John (Catherine)',\n",
       "        'Bowen, Mr. David John \"Dai\"', 'Bowerman, Miss. Elsie Edith',\n",
       "        'Bracken, Mr. James H',\n",
       "        'Bradley, Mr. George (\"George Arthur Brayton\")',\n",
       "        'Braund, Mr. Lewis Richard', 'Braund, Mr. Owen Harris',\n",
       "        'Brewe, Dr. Arthur Jackson', 'Brocklebank, Mr. William Alfred',\n",
       "        'Brown, Miss. Amelia \"Mildred\"',\n",
       "        'Brown, Mr. Thomas William Solomon',\n",
       "        'Brown, Mrs. James Joseph (Margaret Tobin)',\n",
       "        'Brown, Mrs. Thomas William Solomon (Elizabeth Catherine Ford)',\n",
       "        'Bryhl, Mr. Kurt Arnold Gottfrid', 'Burke, Mr. Jeremiah',\n",
       "        'Burns, Miss. Elizabeth Margaret', 'Buss, Miss. Kate',\n",
       "        'Butler, Mr. Reginald Fenton', 'Butt, Major. Archibald Willingham',\n",
       "        'Byles, Rev. Thomas Roussel Davids', 'Bystrom, Mrs. (Karolina)',\n",
       "        'Cacic, Miss. Marija', 'Cacic, Mr. Luka', 'Cairns, Mr. Alexander',\n",
       "        'Calderhead, Mr. Edward Pennington',\n",
       "        'Caldwell, Master. Alden Gates',\n",
       "        'Caldwell, Mrs. Albert Francis (Sylvia Mae Harbaugh)',\n",
       "        'Calic, Mr. Jovo', 'Calic, Mr. Petar',\n",
       "        'Cameron, Miss. Clear Annie', 'Campbell, Mr. William',\n",
       "        'Canavan, Miss. Mary', 'Cann, Mr. Ernest Charles',\n",
       "        'Caram, Mrs. Joseph (Maria Elias)', 'Carbines, Mr. William',\n",
       "        'Cardeza, Mr. Thomas Drake Martinez',\n",
       "        'Carlsson, Mr. August Sigfrid', 'Carlsson, Mr. Frans Olof',\n",
       "        'Carr, Miss. Helen \"Ellen\"', 'Carrau, Mr. Francisco M',\n",
       "        'Carter, Master. William Thornton II', 'Carter, Miss. Lucile Polk',\n",
       "        'Carter, Mr. William Ernest',\n",
       "        'Carter, Mrs. Ernest Courtenay (Lilian Hughes)',\n",
       "        'Carter, Mrs. William Ernest (Lucile Polk)',\n",
       "        'Carter, Rev. Ernest Courtenay', 'Cavendish, Mr. Tyrell William',\n",
       "        'Celotti, Mr. Francesco', 'Chaffee, Mr. Herbert Fuller',\n",
       "        'Chambers, Mr. Norman Campbell',\n",
       "        'Chambers, Mrs. Norman Campbell (Bertha Griggs)',\n",
       "        'Chapman, Mr. Charles Henry', 'Chapman, Mr. John Henry',\n",
       "        'Charters, Mr. David', 'Cherry, Miss. Gladys',\n",
       "        'Chibnall, Mrs. (Edith Martha Bowerman)', 'Chip, Mr. Chang',\n",
       "        'Christmann, Mr. Emil', 'Christy, Miss. Julie Rachel',\n",
       "        'Chronopoulos, Mr. Apostolos',\n",
       "        'Clarke, Mrs. Charles V (Ada Maria Winfield)',\n",
       "        'Cleaver, Miss. Alice', 'Clifford, Mr. George Quincy',\n",
       "        'Coelho, Mr. Domingos Fernandeo', 'Cohen, Mr. Gurshon \"Gus\"',\n",
       "        'Coleff, Mr. Peju', 'Coleff, Mr. Satio',\n",
       "        'Coleridge, Mr. Reginald Charles', 'Collander, Mr. Erik Gustaf',\n",
       "        'Colley, Mr. Edward Pomeroy', 'Collyer, Miss. Marjorie \"Lottie\"',\n",
       "        'Collyer, Mr. Harvey',\n",
       "        'Collyer, Mrs. Harvey (Charlotte Annie Tate)',\n",
       "        'Compton, Miss. Sara Rebecca', 'Connaghton, Mr. Michael',\n",
       "        'Connolly, Miss. Kate', 'Connors, Mr. Patrick', 'Cook, Mr. Jacob',\n",
       "        'Cor, Mr. Liudevit', 'Corn, Mr. Harry',\n",
       "        'Coutts, Master. Eden Leslie \"Neville\"',\n",
       "        'Coutts, Master. William Loch \"William\"', 'Coxon, Mr. Daniel',\n",
       "        'Crease, Mr. Ernest James', 'Cribb, Mr. John Hatfield',\n",
       "        'Crosby, Capt. Edward Gifford', 'Crosby, Miss. Harriet R',\n",
       "        'Culumovic, Mr. Jeso',\n",
       "        'Cumings, Mrs. John Bradley (Florence Briggs Thayer)',\n",
       "        'Cunningham, Mr. Alfred Fleming', 'Dahl, Mr. Karl Edwart',\n",
       "        'Dahlberg, Miss. Gerda Ulrika', 'Dakic, Mr. Branko',\n",
       "        'Daly, Mr. Eugene Patrick', 'Daly, Mr. Peter Denis ',\n",
       "        'Danbom, Mr. Ernst Gilbert',\n",
       "        'Danbom, Mrs. Ernst Gilbert (Anna Sigrid Maria Brogren)',\n",
       "        'Daniel, Mr. Robert Williams', 'Danoff, Mr. Yoto',\n",
       "        'Dantcheff, Mr. Ristiu', 'Davidson, Mr. Thornton',\n",
       "        'Davies, Master. John Morgan Jr', 'Davies, Mr. Alfred J',\n",
       "        'Davies, Mr. Charles Henry', 'Davis, Miss. Mary',\n",
       "        'Davison, Mrs. Thomas Henry (Mary E Finck)',\n",
       "        'Dean, Master. Bertram Vere', 'Dean, Mr. Bertram Frank',\n",
       "        'Denkoff, Mr. Mitto', 'Dennis, Mr. Samuel',\n",
       "        'Devaney, Miss. Margaret Delia', 'Dick, Mr. Albert Adrian',\n",
       "        'Dick, Mrs. Albert Adrian (Vera Gillespie)', 'Dimic, Mr. Jovan',\n",
       "        'Dodge, Master. Washington', 'Doharr, Mr. Tannous',\n",
       "        'Doling, Miss. Elsie', 'Doling, Mrs. John T (Ada Julia Bone)',\n",
       "        'Dooley, Mr. Patrick', 'Dorking, Mr. Edward Arthur',\n",
       "        'Douglas, Mr. Walter Donald', 'Dowdell, Miss. Elizabeth',\n",
       "        'Downton, Mr. William James', 'Drazenoic, Mr. Jozef',\n",
       "        'Drew, Mrs. James Vivian (Lulu Thorne Christian)',\n",
       "        'Duane, Mr. Frank',\n",
       "        'Duff Gordon, Lady. (Lucille Christiana Sutherland) (\"Mrs Morgan\")',\n",
       "        'Duff Gordon, Sir. Cosmo Edmund (\"Mr Morgan\")',\n",
       "        'Duran y More, Miss. Asuncion', 'Edvardsson, Mr. Gustaf Hjalmar',\n",
       "        'Eitemiller, Mr. George Floyd', 'Eklund, Mr. Hans Linus',\n",
       "        'Ekstrom, Mr. Johan', 'Elias, Mr. Dibo', 'Elias, Mr. Joseph Jr',\n",
       "        'Elias, Mr. Tannous', 'Elsbury, Mr. William James',\n",
       "        'Emanuel, Miss. Virginia Ethel', 'Emir, Mr. Farred Chehab',\n",
       "        'Endres, Miss. Caroline Louise', 'Eustis, Miss. Elizabeth Mussey',\n",
       "        'Fahlstrom, Mr. Arne Jonas', 'Farrell, Mr. James',\n",
       "        'Farthing, Mr. John',\n",
       "        'Faunthorpe, Mrs. Lizzie (Elizabeth Anne Wilkinson)',\n",
       "        'Fischer, Mr. Eberhard Thelander', 'Fleming, Miss. Margaret',\n",
       "        'Flynn, Mr. James', 'Flynn, Mr. John',\n",
       "        'Flynn, Mr. John Irwin (\"Irving\")', 'Foo, Mr. Choong',\n",
       "        'Ford, Miss. Doolina Margaret \"Daisy\"',\n",
       "        'Ford, Miss. Robina Maggie \"Ruby\"', 'Ford, Mr. William Neal',\n",
       "        'Ford, Mrs. Edward (Margaret Ann Watson)',\n",
       "        'Foreman, Mr. Benjamin Laventall',\n",
       "        'Fortune, Miss. Alice Elizabeth', 'Fortune, Miss. Mabel Helen',\n",
       "        'Fortune, Mr. Charles Alexander', 'Fortune, Mr. Mark',\n",
       "        'Fox, Mr. Stanley Hubert', 'Francatelli, Miss. Laura Mabel',\n",
       "        'Frauenthal, Dr. Henry William',\n",
       "        'Frauenthal, Mrs. Henry William (Clara Heinsheimer)',\n",
       "        'Frolicher, Miss. Hedwig Margaritha',\n",
       "        'Frolicher-Stehli, Mr. Maxmillian',\n",
       "        'Frost, Mr. Anthony Wood \"Archie\"', 'Fry, Mr. Richard',\n",
       "        'Funk, Miss. Annie Clemmer', 'Futrelle, Mr. Jacques Heath',\n",
       "        'Futrelle, Mrs. Jacques Heath (Lily May Peel)',\n",
       "        'Fynney, Mr. Joseph J', 'Gale, Mr. Shadrach',\n",
       "        'Gallagher, Mr. Martin', 'Garfirth, Mr. John',\n",
       "        'Garside, Miss. Ethel', 'Gaskell, Mr. Alfred',\n",
       "        'Gavey, Mr. Lawrence', 'Gee, Mr. Arthur H',\n",
       "        'Gheorgheff, Mr. Stanio', 'Giglio, Mr. Victor',\n",
       "        'Giles, Mr. Frederick Edward', 'Gilinski, Mr. Eliezer',\n",
       "        'Gill, Mr. John William', 'Gillespie, Mr. William Henry',\n",
       "        'Gilnagh, Miss. Katherine \"Katie\"', 'Givard, Mr. Hans Kristensen',\n",
       "        'Glynn, Miss. Mary Agatha', 'Goldenberg, Mr. Samuel L',\n",
       "        'Goldenberg, Mrs. Samuel L (Edwiga Grabowska)',\n",
       "        'Goldschmidt, Mr. George B',\n",
       "        'Goldsmith, Master. Frank John William \"Frankie\"',\n",
       "        'Goldsmith, Mr. Frank John',\n",
       "        'Goldsmith, Mrs. Frank John (Emily Alice Brown)',\n",
       "        'Goncalves, Mr. Manuel Estanslas',\n",
       "        'Goodwin, Master. Harold Victor',\n",
       "        'Goodwin, Master. Sidney Leonard',\n",
       "        'Goodwin, Master. William Frederick', 'Goodwin, Miss. Lillian Amy',\n",
       "        'Goodwin, Mr. Charles Edward',\n",
       "        'Goodwin, Mrs. Frederick (Augusta Tyler)',\n",
       "        'Graham, Miss. Margaret Edith', 'Graham, Mr. George Edward',\n",
       "        'Graham, Mrs. William Thompson (Edith Junkins)',\n",
       "        'Green, Mr. George Henry', 'Greenberg, Mr. Samuel',\n",
       "        'Greenfield, Mr. William Bertram',\n",
       "        'Gronnestad, Mr. Daniel Danielsen', 'Guggenheim, Mr. Benjamin',\n",
       "        'Gustafsson, Mr. Alfred Ossian', 'Gustafsson, Mr. Anders Vilhelm',\n",
       "        'Gustafsson, Mr. Johan Birger', 'Gustafsson, Mr. Karl Gideon',\n",
       "        'Haas, Miss. Aloisia', 'Hagland, Mr. Ingvald Olai Olsen',\n",
       "        'Hagland, Mr. Konrad Mathias Reiersen',\n",
       "        'Hakkarainen, Mr. Pekka Pietari',\n",
       "        'Hakkarainen, Mrs. Pekka Pietari (Elin Matilda Dolck)',\n",
       "        'Hale, Mr. Reginald', 'Hamalainen, Master. Viljo',\n",
       "        'Hamalainen, Mrs. William (Anna)', 'Hampe, Mr. Leon',\n",
       "        'Hanna, Mr. Mansour', 'Hansen, Mr. Claus Peter',\n",
       "        'Hansen, Mr. Henrik Juul', 'Hansen, Mr. Henry Damsgaard',\n",
       "        'Harder, Mr. George Achilles', 'Harknett, Miss. Alice Phoebe',\n",
       "        'Harmer, Mr. Abraham (David Lishin)',\n",
       "        'Harper, Miss. Annie Jessie \"Nina\"', 'Harper, Mr. Henry Sleeper',\n",
       "        'Harper, Mrs. Henry Sleeper (Myna Haxtun)', 'Harper, Rev. John',\n",
       "        'Harrington, Mr. Charles H', 'Harris, Mr. George',\n",
       "        'Harris, Mr. Henry Birkhardt', 'Harris, Mr. Walter',\n",
       "        'Harris, Mrs. Henry Birkhardt (Irene Wallach)',\n",
       "        'Harrison, Mr. William', 'Hart, Miss. Eva Miriam',\n",
       "        'Hart, Mr. Benjamin', 'Hart, Mr. Henry',\n",
       "        'Hart, Mrs. Benjamin (Esther Ada Bloomfield)',\n",
       "        'Hassab, Mr. Hammad', 'Hassan, Mr. Houssein G N',\n",
       "        'Hawksford, Mr. Walter James', 'Hays, Miss. Margaret Bechstein',\n",
       "        'Hays, Mrs. Charles Melville (Clara Jennings Gregg)',\n",
       "        'Healy, Miss. Hanora \"Nora\"', 'Hedman, Mr. Oskar Arvid',\n",
       "        'Hegarty, Miss. Hanora \"Nora\"', 'Heikkinen, Miss. Laina',\n",
       "        'Heininen, Miss. Wendla Maria', 'Hendekovic, Mr. Ignjac',\n",
       "        'Henry, Miss. Delia', 'Herman, Miss. Alice',\n",
       "        'Herman, Mrs. Samuel (Jane Laver)',\n",
       "        'Hewlett, Mrs. (Mary D Kingcome) ', 'Hickman, Mr. Leonard Mark',\n",
       "        'Hickman, Mr. Lewis', 'Hickman, Mr. Stanley George',\n",
       "        'Hippach, Miss. Jean Gertrude',\n",
       "        'Hippach, Mrs. Louis Albert (Ida Sophia Fischer)',\n",
       "        'Hirvonen, Miss. Hildur E', 'Hocking, Mr. Richard George',\n",
       "        'Hocking, Mrs. Elizabeth (Eliza Needs)', 'Hodges, Mr. Henry Price',\n",
       "        'Hogeboom, Mrs. John C (Anna Andrews)', 'Hold, Mr. Stephen',\n",
       "        'Holm, Mr. John Fredrik Alexander',\n",
       "        'Holverson, Mr. Alexander Oskar',\n",
       "        'Holverson, Mrs. Alexander Oskar (Mary Aline Towner)',\n",
       "        'Homer, Mr. Harry (\"Mr E Haven\")', 'Honkanen, Miss. Eliina',\n",
       "        'Hood, Mr. Ambrose Jr', 'Horgan, Mr. John', 'Hosono, Mr. Masabumi',\n",
       "        'Hoyt, Mr. Frederick Maxfield', 'Hoyt, Mr. William Fisher',\n",
       "        'Hoyt, Mrs. Frederick Maxfield (Jane Anne Forby)',\n",
       "        'Humblen, Mr. Adolf Mathias Nicolai Olsen',\n",
       "        'Hunt, Mr. George Henry', 'Ibrahim Shawah, Mr. Yousseff',\n",
       "        'Icard, Miss. Amelie', 'Ilett, Miss. Bertha',\n",
       "        'Ilmakangas, Miss. Pieta Sofia', 'Isham, Miss. Ann Elizabeth',\n",
       "        'Ivanoff, Mr. Kanio', 'Jacobsohn, Mr. Sidney Samuel',\n",
       "        'Jacobsohn, Mrs. Sidney Samuel (Amy Frances Christy)',\n",
       "        'Jalsevac, Mr. Ivan', 'Jansson, Mr. Carl Olof',\n",
       "        'Jardin, Mr. Jose Neto', 'Jarvis, Mr. John Denzil',\n",
       "        'Jenkin, Mr. Stephen Curnow', 'Jensen, Mr. Hans Peder',\n",
       "        'Jensen, Mr. Niels Peder', 'Jensen, Mr. Svend Lauritz',\n",
       "        'Jermyn, Miss. Annie',\n",
       "        'Jerwan, Mrs. Amin S (Marie Marthe Thuillard)',\n",
       "        'Johannesen-Bratthammer, Mr. Bernt', 'Johanson, Mr. Jakob Alfred',\n",
       "        'Johansson, Mr. Erik', 'Johansson, Mr. Gustaf Joel',\n",
       "        'Johansson, Mr. Karl Johan', 'Johnson, Master. Harold Theodor',\n",
       "        'Johnson, Miss. Eleanor Ileen', 'Johnson, Mr. Alfred',\n",
       "        'Johnson, Mr. Malkolm Joackim', 'Johnson, Mr. William Cahoone Jr',\n",
       "        'Johnson, Mrs. Oscar W (Elisabeth Vilhelmina Berg)',\n",
       "        'Johnston, Miss. Catherine Helen \"Carrie\"',\n",
       "        'Johnston, Mr. Andrew G', 'Jonkoff, Mr. Lalio',\n",
       "        'Jonsson, Mr. Carl', 'Jussila, Miss. Katriina',\n",
       "        'Jussila, Miss. Mari Aina', 'Jussila, Mr. Eiriik',\n",
       "        'Kallio, Mr. Nikolai Erland', 'Kalvik, Mr. Johannes Halvorsen',\n",
       "        'Kantor, Mr. Sinai', 'Kantor, Mrs. Sinai (Miriam Sternin)',\n",
       "        'Karaic, Mr. Milan', 'Karlsson, Mr. Nils August',\n",
       "        'Karun, Miss. Manca', 'Kassem, Mr. Fared', 'Keane, Miss. Nora A',\n",
       "        'Keane, Mr. Andrew \"Andy\"', 'Keefe, Mr. Arthur',\n",
       "        'Kelly, Miss. Anna Katherine \"Annie Kate\"', 'Kelly, Miss. Mary',\n",
       "        'Kelly, Mr. James', 'Kelly, Mrs. Florence \"Fannie\"',\n",
       "        'Kent, Mr. Edward Austin', 'Kenyon, Mrs. Frederick R (Marion)',\n",
       "        'Kiernan, Mr. Philip', 'Kilgannon, Mr. Thomas J',\n",
       "        'Kimball, Mr. Edwin Nelson Jr', 'Kink, Mr. Vincenz',\n",
       "        'Kink-Heilmann, Miss. Luise Gretchen',\n",
       "        'Kirkland, Rev. Charles Leonard', 'Klaber, Mr. Herman',\n",
       "        'Klasen, Mr. Klas Albin', 'Knight, Mr. Robert J',\n",
       "        'Kraeff, Mr. Theodor', 'Kvillner, Mr. Johan Henrik Johannesson',\n",
       "        'Lahoud, Mr. Sarkis', 'Lahtinen, Mrs. William (Anna Sylfven)',\n",
       "        'Laitinen, Miss. Kristina Sofia', 'Laleff, Mr. Kristo',\n",
       "        'Lam, Mr. Ali', 'Lam, Mr. Len', 'Landergren, Miss. Aurora Adelia',\n",
       "        'Lang, Mr. Fang', 'Laroche, Miss. Simonne Marie Anne Andree',\n",
       "        'Laroche, Mr. Joseph Philippe Lemercier',\n",
       "        'Laroche, Mrs. Joseph (Juliette Marie Louise Lafargue)',\n",
       "        'Larsson, Mr. August Viktor', 'Larsson, Mr. Bengt Edvin',\n",
       "        'LeRoy, Miss. Bertha', 'Leader, Dr. Alice (Farnham)',\n",
       "        'Leeni, Mr. Fahim (\"Philip Zenni\")',\n",
       "        'Lefebre, Master. Henry Forbes', 'Lefebre, Miss. Ida',\n",
       "        'Lefebre, Miss. Jeannie', 'Lefebre, Miss. Mathilde',\n",
       "        'Lehmann, Miss. Bertha', 'Leinonen, Mr. Antti Gustaf',\n",
       "        'Leitch, Miss. Jessie Wills', 'Lemberopolous, Mr. Peter L',\n",
       "        'Lemore, Mrs. (Amelia Milley)', 'Lennon, Mr. Denis',\n",
       "        'Leonard, Mr. Lionel', 'Lester, Mr. James',\n",
       "        'Lesurer, Mr. Gustave J', 'Levy, Mr. Rene Jacques',\n",
       "        'Lewy, Mr. Ervin G', 'Leyson, Mr. Robert William Norman',\n",
       "        'Lievens, Mr. Rene Aime', 'Lindahl, Miss. Agda Thorilda Viktoria',\n",
       "        'Lindblom, Miss. Augusta Charlotta',\n",
       "        'Lindell, Mr. Edvard Bengtsson', 'Lindqvist, Mr. Eino William',\n",
       "        'Lines, Miss. Mary Conover', 'Ling, Mr. Lee',\n",
       "        'Lobb, Mr. William Arthur',\n",
       "        'Lobb, Mrs. William Arthur (Cordelia K Stanlick)',\n",
       "        'Long, Mr. Milton Clyde', 'Longley, Miss. Gretchen Fiske',\n",
       "        'Louch, Mrs. Charles Alexander (Alice Adelaide Slow)',\n",
       "        'Lovell, Mr. John Hall (\"Henry\")', 'Lulic, Mr. Nikola',\n",
       "        'Lundahl, Mr. Johan Svensson', 'Lurette, Miss. Elise',\n",
       "        'Mack, Mrs. (Mary)', 'Madigan, Miss. Margaret \"Maggie\"',\n",
       "        'Madill, Miss. Georgette Alexandra', 'Madsen, Mr. Fridtjof Arne',\n",
       "        'Maenpaa, Mr. Matti Alexanteri', 'Maioni, Miss. Roberta',\n",
       "        'Maisner, Mr. Simon', 'Mallet, Master. Andre',\n",
       "        'Mallet, Mr. Albert', 'Mamee, Mr. Hanna', 'Mangan, Miss. Mary',\n",
       "        'Mannion, Miss. Margareth', 'Marechal, Mr. Pierre',\n",
       "        'Markoff, Mr. Marin', 'Markun, Mr. Johann',\n",
       "        'Marvin, Mr. Daniel Warner', 'Masselmani, Mrs. Fatima',\n",
       "        'Matthews, Mr. William John',\n",
       "        'Mayne, Mlle. Berthe Antonine (\"Mrs de Villiers\")',\n",
       "        'McCarthy, Mr. Timothy J', 'McCormack, Mr. Thomas Joseph',\n",
       "        'McCoy, Miss. Agnes', 'McCoy, Mr. Bernard',\n",
       "        'McDermott, Miss. Brigdet Delia', 'McEvoy, Mr. Michael',\n",
       "        'McGough, Mr. James Robert', 'McGovern, Miss. Mary',\n",
       "        'McGowan, Miss. Anna \"Annie\"', 'McKane, Mr. Peter David',\n",
       "        'McMahon, Mr. Martin', 'McNamee, Mr. Neal',\n",
       "        'Meanwell, Miss. (Marion Ogden)',\n",
       "        'Meek, Mrs. Thomas (Annie Louise Rowley)',\n",
       "        'Mellinger, Miss. Madeleine Violet',\n",
       "        'Mellinger, Mrs. (Elizabeth Anne Maidment)',\n",
       "        'Mellors, Mr. William John', 'Meo, Mr. Alfonzo',\n",
       "        'Mernagh, Mr. Robert', 'Meyer, Mr. August',\n",
       "        'Meyer, Mr. Edgar Joseph', 'Meyer, Mrs. Edgar Joseph (Leila Saks)',\n",
       "        'Millet, Mr. Francis Davis', 'Milling, Mr. Jacob Christian',\n",
       "        'Minahan, Dr. William Edward', 'Minahan, Miss. Daisy E',\n",
       "        'Mineff, Mr. Ivan', 'Mionoff, Mr. Stoytcho',\n",
       "        'Mitchell, Mr. Henry Michael', 'Mitkoff, Mr. Mito',\n",
       "        'Mockler, Miss. Helen Mary \"Ellie\"', 'Moen, Mr. Sigurd Hansen',\n",
       "        'Molson, Mr. Harry Markland', 'Montvila, Rev. Juozas',\n",
       "        'Moor, Master. Meier', 'Moor, Mrs. (Beila)',\n",
       "        'Moore, Mr. Leonard Charles', 'Moran, Miss. Bertha',\n",
       "        'Moran, Mr. Daniel J', 'Moran, Mr. James', 'Moraweck, Dr. Ernest',\n",
       "        'Morley, Mr. Henry Samuel (\"Mr Henry Marshall\")',\n",
       "        'Morley, Mr. William', 'Morrow, Mr. Thomas Rowan',\n",
       "        'Moss, Mr. Albert Johan', 'Moubarek, Master. Gerios',\n",
       "        'Moubarek, Master. Halim Gonios (\"William George\")',\n",
       "        'Moussa, Mrs. (Mantoura Boulos)', 'Moutal, Mr. Rahamin Haim',\n",
       "        'Mudd, Mr. Thomas Charles', 'Mullens, Miss. Katherine \"Katie\"',\n",
       "        'Murdlin, Mr. Joseph', 'Murphy, Miss. Katherine \"Kate\"',\n",
       "        'Murphy, Miss. Margaret Jane',\n",
       "        'Myhrman, Mr. Pehr Fabian Oliver Malkolm', 'Naidenoff, Mr. Penko',\n",
       "        'Najib, Miss. Adele Kiamie \"Jane\"', 'Nakid, Miss. Maria (\"Mary\")',\n",
       "        'Nakid, Mr. Sahid', 'Nankoff, Mr. Minko', 'Nasser, Mr. Nicholas',\n",
       "        'Nasser, Mrs. Nicholas (Adele Achem)', 'Natsch, Mr. Charles H',\n",
       "        'Navratil, Master. Edmond Roger', 'Navratil, Master. Michel M',\n",
       "        'Navratil, Mr. Michel (\"Louis M Hoffman\")', 'Nenkoff, Mr. Christo',\n",
       "        'Newell, Miss. Madeleine', 'Newell, Miss. Marjorie',\n",
       "        'Newell, Mr. Arthur Webster', 'Newsom, Miss. Helen Monypeny',\n",
       "        'Nicholls, Mr. Joseph Charles', 'Nicholson, Mr. Arthur Ernest',\n",
       "        'Nicola-Yarred, Master. Elias', 'Nicola-Yarred, Miss. Jamila',\n",
       "        'Nilsson, Miss. Helmina Josefina',\n",
       "        'Nirva, Mr. Iisakki Antino Aijo', 'Niskanen, Mr. Juha',\n",
       "        'Norman, Mr. Robert Douglas', 'Nosworthy, Mr. Richard Cater',\n",
       "        'Novel, Mr. Mansouer', 'Nye, Mrs. (Elizabeth Ramell)',\n",
       "        'Nysten, Miss. Anna Sofia', 'Nysveen, Mr. Johan Hansen',\n",
       "        \"O'Brien, Mr. Thomas\", \"O'Brien, Mr. Timothy\",\n",
       "        'O\\'Brien, Mrs. Thomas (Johanna \"Hannah\" Godfrey)',\n",
       "        \"O'Connell, Mr. Patrick D\", \"O'Connor, Mr. Maurice\",\n",
       "        \"O'Driscoll, Miss. Bridget\", 'O\\'Dwyer, Miss. Ellen \"Nellie\"',\n",
       "        'O\\'Leary, Miss. Hanora \"Norah\"', \"O'Sullivan, Miss. Bridget Mary\",\n",
       "        'Odahl, Mr. Nils Martin', 'Ohman, Miss. Velin',\n",
       "        'Olsen, Mr. Henry Margido', 'Olsen, Mr. Karl Siegwart Andreas',\n",
       "        'Olsen, Mr. Ole Martin', 'Olsson, Miss. Elina',\n",
       "        'Olsson, Mr. Nils Johan Goransson', 'Olsvigen, Mr. Thor Anderson',\n",
       "        'Oreskovic, Miss. Marija', 'Oreskovic, Mr. Luka',\n",
       "        'Osen, Mr. Olaf Elon', 'Osman, Mrs. Mara',\n",
       "        'Ostby, Mr. Engelhart Cornelius', 'Otter, Mr. Richard',\n",
       "        'Padro y Manent, Mr. Julian', 'Pain, Dr. Alfred',\n",
       "        'Palsson, Master. Gosta Leonard', 'Palsson, Miss. Stina Viola',\n",
       "        'Palsson, Miss. Torborg Danira',\n",
       "        'Palsson, Mrs. Nils (Alma Cornelia Berglund)',\n",
       "        'Panula, Master. Eino Viljami', 'Panula, Master. Juha Niilo',\n",
       "        'Panula, Master. Urho Abraham', 'Panula, Mr. Ernesti Arvid',\n",
       "        'Panula, Mr. Jaako Arnold',\n",
       "        'Panula, Mrs. Juha (Maria Emilia Ojala)',\n",
       "        'Parkes, Mr. Francis \"Frank\"', 'Parr, Mr. William Henry Marsh',\n",
       "        'Parrish, Mrs. (Lutie Davis)', 'Partner, Mr. Austen',\n",
       "        'Pasic, Mr. Jakob', 'Patchett, Mr. George', 'Paulner, Mr. Uscher',\n",
       "        'Pavlovic, Mr. Stefo', 'Pears, Mr. Thomas Clinton',\n",
       "        'Pears, Mrs. Thomas (Edith Wearne)', 'Peduzzi, Mr. Joseph',\n",
       "        'Pekoniemi, Mr. Edvard',\n",
       "        'Penasco y Castellana, Mr. Victor de Satode',\n",
       "        'Penasco y Castellana, Mrs. Victor de Satode (Maria Josefa Perez de Soto y Vallejo)',\n",
       "        'Pengelly, Mr. Frederick William', 'Perkin, Mr. John Henry',\n",
       "        'Pernot, Mr. Rene', 'Perreault, Miss. Anne',\n",
       "        'Persson, Mr. Ernst Ulrik', 'Peter, Miss. Anna',\n",
       "        'Peter, Mrs. Catherine (Catherine Rizk)', 'Peters, Miss. Katie',\n",
       "        'Petranec, Miss. Matilda', 'Petroff, Mr. Nedelio',\n",
       "        'Petroff, Mr. Pastcho (\"Pentcho\")', 'Petterson, Mr. Johan Emil',\n",
       "        'Pettersson, Miss. Ellen Natalia',\n",
       "        'Peuchen, Major. Arthur Godfrey',\n",
       "        'Phillips, Miss. Kate Florence (\"Mrs Kate Louise Phillips Marshall\")',\n",
       "        'Pickard, Mr. Berk (Berk Trembisky)', 'Pinsky, Mrs. (Rosa)',\n",
       "        'Plotcharsky, Mr. Vasil', 'Ponesell, Mr. Martin',\n",
       "        'Porter, Mr. Walter Chamberlain',\n",
       "        'Potter, Mrs. Thomas Jr (Lily Alexenia Wilson)',\n",
       "        'Quick, Miss. Phyllis May',\n",
       "        'Quick, Mrs. Frederick Charles (Jane Richards)',\n",
       "        'Radeff, Mr. Alexander', 'Razi, Mr. Raihed',\n",
       "        'Reed, Mr. James George', 'Reeves, Mr. David', 'Rekic, Mr. Tido',\n",
       "        'Renouf, Mr. Peter Henry',\n",
       "        'Renouf, Mrs. Peter Henry (Lillian Jefferys)',\n",
       "        'Reuchlin, Jonkheer. John George', 'Reynaldo, Ms. Encarnacion',\n",
       "        'Rice, Master. Arthur', 'Rice, Master. Eric',\n",
       "        'Rice, Master. Eugene', 'Rice, Master. George Hugh',\n",
       "        'Rice, Mrs. William (Margaret Norton)', 'Richard, Mr. Emile',\n",
       "        'Richards, Master. George Sibley',\n",
       "        'Richards, Master. William Rowe',\n",
       "        'Richards, Mrs. Sidney (Emily Hocking)', 'Ridsdale, Miss. Lucy',\n",
       "        'Ringhini, Mr. Sante', 'Rintamaki, Mr. Matti',\n",
       "        'Risien, Mr. Samuel Beard', 'Robbins, Mr. Victor',\n",
       "        'Robert, Mrs. Edward Scott (Elisabeth Walton McMillan)',\n",
       "        'Robins, Mrs. Alexander A (Grace Charity Laury)',\n",
       "        'Roebling, Mr. Washington Augustus II', 'Rogers, Mr. William John',\n",
       "        'Romaine, Mr. Charles Hallace (\"Mr C Rolmane\")',\n",
       "        'Rommetvedt, Mr. Knud Paust', 'Rood, Mr. Hugh Roscoe',\n",
       "        'Rosblom, Mr. Viktor Richard',\n",
       "        'Rosblom, Mrs. Viktor (Helena Wilhelmina)', 'Ross, Mr. John Hugo',\n",
       "        'Rothes, the Countess. of (Lucy Noel Martha Dyer-Edwards)',\n",
       "        'Rothschild, Mrs. Martin (Elizabeth L. Barrett)',\n",
       "        'Rouse, Mr. Richard Henry', 'Rugg, Miss. Emily',\n",
       "        'Rush, Mr. Alfred George John', 'Ryan, Mr. Patrick',\n",
       "        'Ryerson, Miss. Emily Borie',\n",
       "        'Ryerson, Miss. Susan Parker \"Suzette\"', 'Saad, Mr. Amin',\n",
       "        'Saad, Mr. Khalil', 'Saalfeld, Mr. Adolphe',\n",
       "        'Sadlier, Mr. Matthew', 'Sage, Master. Thomas Henry',\n",
       "        'Sage, Miss. Constance Gladys',\n",
       "        'Sage, Miss. Dorothy Edith \"Dolly\"', 'Sage, Miss. Stella Anna',\n",
       "        'Sage, Mr. Douglas Bullen', 'Sage, Mr. Frederick',\n",
       "        'Sage, Mr. George John Jr', 'Sagesser, Mlle. Emma',\n",
       "        'Salkjelsvik, Miss. Anna Kristine', 'Salonen, Mr. Johan Werner',\n",
       "        'Samaan, Mr. Youssef', 'Sandstrom, Miss. Marguerite Rut',\n",
       "        'Sandstrom, Mrs. Hjalmar (Agnes Charlotta Bengtsson)',\n",
       "        'Saundercock, Mr. William Henry', 'Sawyer, Mr. Frederick Charles',\n",
       "        'Scanlan, Mr. James', 'Sdycoff, Mr. Todor',\n",
       "        'Sedgwick, Mr. Charles Frederick Waddington',\n",
       "        'Serepeca, Miss. Augusta', 'Seward, Mr. Frederic Kimber',\n",
       "        'Sharp, Mr. Percival James R', 'Sheerlinck, Mr. Jan Baptist',\n",
       "        'Shellard, Mr. Frederick William',\n",
       "        'Shelley, Mrs. William (Imanita Parrish Hall)',\n",
       "        'Shorney, Mr. Charles Joseph', 'Shutes, Miss. Elizabeth W',\n",
       "        'Silven, Miss. Lyyli Karoliina',\n",
       "        'Silverthorne, Mr. Spencer Victor', 'Silvey, Mr. William Baird',\n",
       "        'Silvey, Mrs. William Baird (Alice Munger)', 'Simmons, Mr. John',\n",
       "        'Simonius-Blumer, Col. Oberst Alfons', 'Sinkkonen, Miss. Anna',\n",
       "        'Sirayanian, Mr. Orsen', 'Sirota, Mr. Maurice',\n",
       "        'Sivic, Mr. Husein', 'Sivola, Mr. Antti Wilhelm',\n",
       "        'Sjoblom, Miss. Anna Sofia', 'Sjostedt, Mr. Ernst Adolf',\n",
       "        'Skoog, Master. Harald', 'Skoog, Master. Karl Thorsten',\n",
       "        'Skoog, Miss. Mabel', 'Skoog, Miss. Margit Elizabeth',\n",
       "        'Skoog, Mr. Wilhelm',\n",
       "        'Skoog, Mrs. William (Anna Bernhardina Karlsson)',\n",
       "        'Slabenoff, Mr. Petco', 'Slayter, Miss. Hilda Mary',\n",
       "        'Slemen, Mr. Richard James', 'Slocovski, Mr. Selman Francis',\n",
       "        'Sloper, Mr. William Thompson', 'Smart, Mr. John Montgomery',\n",
       "        'Smiljanic, Mr. Mile', 'Smith, Miss. Marion Elsie',\n",
       "        'Smith, Mr. James Clinch', 'Smith, Mr. Richard William',\n",
       "        'Smith, Mr. Thomas', 'Sobey, Mr. Samuel James Hayden',\n",
       "        'Soholt, Mr. Peter Andreas Lauritz Andersen',\n",
       "        'Somerton, Mr. Francis William',\n",
       "        'Spedden, Mrs. Frederic Oakley (Margaretta Corning Stone)',\n",
       "        'Spencer, Mrs. William Augustus (Marie Eugenie)',\n",
       "        'Stahelin-Maeglin, Dr. Max', 'Staneff, Mr. Ivan',\n",
       "        'Stankovic, Mr. Ivan', 'Stanley, Miss. Amy Zillah Elsie',\n",
       "        'Stanley, Mr. Edward Roland', 'Stead, Mr. William Thomas',\n",
       "        'Stephenson, Mrs. Walter Bertram (Martha Eustis)',\n",
       "        'Stewart, Mr. Albert A',\n",
       "        'Stone, Mrs. George Nelson (Martha Evelyn)',\n",
       "        'Stoytcheff, Mr. Ilia', 'Strandberg, Miss. Ida Sofia',\n",
       "        'Stranden, Mr. Juho', 'Strom, Miss. Telma Matilda',\n",
       "        'Strom, Mrs. Wilhelm (Elna Matilda Persson)',\n",
       "        'Sunderland, Mr. Victor Francis', 'Sundman, Mr. Johan Julian',\n",
       "        'Sutehall, Mr. Henry Jr', 'Sutton, Mr. Frederick',\n",
       "        'Svensson, Mr. Johan', 'Svensson, Mr. Olof',\n",
       "        'Swift, Mrs. Frederick Joel (Margaret Welles Barron)',\n",
       "        'Taussig, Miss. Ruth', 'Taussig, Mr. Emil',\n",
       "        'Taussig, Mrs. Emil (Tillie Mandelbaum)',\n",
       "        'Taylor, Mr. Elmer Zebley',\n",
       "        'Taylor, Mrs. Elmer Zebley (Juliet Cummins Wright)',\n",
       "        'Thayer, Mr. John Borland', 'Thayer, Mr. John Borland Jr',\n",
       "        'Thayer, Mrs. John Borland (Marian Longstreth Morris)',\n",
       "        'Theobald, Mr. Thomas Leonard', 'Thomas, Master. Assad Alexander',\n",
       "        'Thorne, Mrs. Gertrude Maybelle', 'Thorneycroft, Mr. Percival',\n",
       "        'Thorneycroft, Mrs. Percival (Florence Kate White)',\n",
       "        'Tikkanen, Mr. Juho', 'Tobin, Mr. Roger', 'Todoroff, Mr. Lalio',\n",
       "        'Tomlin, Mr. Ernest Portage', 'Toomey, Miss. Ellen',\n",
       "        'Torber, Mr. Ernst William', 'Tornquist, Mr. William Henry',\n",
       "        'Toufik, Mr. Nakli', 'Touma, Mrs. Darwis (Hanne Youssef Razi)',\n",
       "        'Troupiansky, Mr. Moses Aaron', 'Trout, Mrs. William H (Jessie L)',\n",
       "        'Troutt, Miss. Edwina Celia \"Winnie\"', 'Turcin, Mr. Stjepan',\n",
       "        'Turja, Miss. Anna Sofia', 'Turkula, Mrs. (Hedwig)',\n",
       "        'Turpin, Mr. William John Robert',\n",
       "        'Turpin, Mrs. William John Robert (Dorothy Ann Wonnacott)',\n",
       "        'Uruchurtu, Don. Manuel E', 'Van Impe, Miss. Catharina',\n",
       "        'Van Impe, Mr. Jean Baptiste',\n",
       "        'Van Impe, Mrs. Jean Baptiste (Rosalie Paula Govaert)',\n",
       "        'Van der hoef, Mr. Wyckoff', 'Vande Velde, Mr. Johannes Joseph',\n",
       "        'Vande Walle, Mr. Nestor Cyriel', 'Vanden Steen, Mr. Leo Peter',\n",
       "        'Vander Cruyssen, Mr. Victor',\n",
       "        'Vander Planke, Miss. Augusta Maria',\n",
       "        'Vander Planke, Mr. Leo Edmondus',\n",
       "        'Vander Planke, Mrs. Julius (Emelia Maria Vandemoortele)',\n",
       "        'Vestrom, Miss. Hulda Amanda Adolfina', 'Vovk, Mr. Janko',\n",
       "        'Waelens, Mr. Achille', 'Walker, Mr. William Anderson',\n",
       "        'Ward, Miss. Anna',\n",
       "        'Warren, Mrs. Frank Manley (Anna Sophia Atkinson)',\n",
       "        'Watson, Mr. Ennis Hastings',\n",
       "        'Watt, Mrs. James (Elizabeth \"Bessie\" Inglis Milne)',\n",
       "        'Webber, Miss. Susan', 'Webber, Mr. James', 'Weir, Col. John',\n",
       "        'Weisz, Mrs. Leopold (Mathilde Francoise Pede)',\n",
       "        'Wells, Miss. Joan', 'West, Miss. Constance Mirium',\n",
       "        'West, Mr. Edwy Arthur', 'West, Mrs. Edwy Arthur (Ada Mary Worth)',\n",
       "        'Wheadon, Mr. Edward H', 'White, Mr. Percival Wayland',\n",
       "        'White, Mr. Richard Frasar', 'Wick, Miss. Mary Natalie',\n",
       "        'Wick, Mrs. George Dennick (Mary Hitchcock)',\n",
       "        'Widegren, Mr. Carl/Charles Peter', 'Widener, Mr. Harry Elkins',\n",
       "        'Wiklund, Mr. Jakob Alfred', 'Wilhelms, Mr. Charles',\n",
       "        'Willey, Mr. Edward', 'Williams, Mr. Charles Duane',\n",
       "        'Williams, Mr. Charles Eugene',\n",
       "        'Williams, Mr. Howard Hugh \"Harry\"', 'Williams, Mr. Leslie',\n",
       "        'Williams-Lambert, Mr. Fletcher Fellows', 'Windelov, Mr. Einar',\n",
       "        'Wiseman, Mr. Phillippe', 'Woolner, Mr. Hugh',\n",
       "        'Wright, Mr. George', 'Yasbeck, Mr. Antoni',\n",
       "        'Yasbeck, Mrs. Antoni (Selini Alexander)',\n",
       "        'Young, Miss. Marie Grice', 'Youseff, Mr. Gerious',\n",
       "        'Yousif, Mr. Wazli', 'Yousseff, Mr. Gerious',\n",
       "        'Yrois, Miss. Henriette (\"Mrs Harbeck\")', 'Zabour, Miss. Hileni',\n",
       "        'Zabour, Miss. Thamine', 'Zimmerman, Mr. Leo',\n",
       "        'de Messemaeker, Mrs. Guillaume Joseph (Emma)',\n",
       "        'de Mulder, Mr. Theodore', 'de Pelsmaeker, Mr. Alfons',\n",
       "        'del Carlo, Mr. Sebastiano', 'van Billiard, Mr. Austin Blyler',\n",
       "        'van Melkebeke, Mr. Philemon'], dtype=object),\n",
       " array(['female', 'male'], dtype=object),\n",
       " array(['110152', '110413', '110465', '110564', '110813', '111240',\n",
       "        '111320', '111361', '111369', '111426', '111427', '111428',\n",
       "        '112050', '112052', '112053', '112058', '112059', '112277',\n",
       "        '112379', '113028', '113043', '113050', '113051', '113055',\n",
       "        '113056', '113059', '113501', '113503', '113505', '113509',\n",
       "        '113510', '113514', '113572', '113760', '113767', '113773',\n",
       "        '113776', '113781', '113783', '113784', '113786', '113787',\n",
       "        '113788', '113789', '113792', '113794', '113796', '113798',\n",
       "        '113800', '113803', '113804', '113806', '113807', '11668', '11751',\n",
       "        '11752', '11753', '11755', '11765', '11767', '11769', '11771',\n",
       "        '11774', '11813', '11967', '12233', '12460', '12749', '13049',\n",
       "        '13213', '13214', '13502', '13507', '13509', '13567', '13568',\n",
       "        '14311', '14312', '14313', '14973', '1601', '16966', '16988',\n",
       "        '17421', '17453', '17463', '17464', '17465', '17466', '17474',\n",
       "        '17764', '19877', '19928', '19943', '19947', '19950', '19952',\n",
       "        '19972', '19988', '19996', '2003', '211536', '21440', '218629',\n",
       "        '219533', '220367', '220845', '2223', '223596', '226593', '226875',\n",
       "        '228414', '229236', '230080', '230136', '230433', '230434',\n",
       "        '231919', '231945', '233639', '233866', '234360', '234604',\n",
       "        '234686', '234818', '236171', '236852', '236853', '237442',\n",
       "        '237565', '237668', '237671', '237736', '237789', '237798',\n",
       "        '239853', '239854', '239855', '239856', '239865', '240929',\n",
       "        '24160', '243847', '243880', '244252', '244270', '244278',\n",
       "        '244310', '244358', '244361', '244367', '244373', '248698',\n",
       "        '248706', '248723', '248727', '248731', '248733', '248738',\n",
       "        '248740', '248747', '250643', '250644', '250646', '250647',\n",
       "        '250648', '250649', '250651', '250652', '250653', '250655', '2620',\n",
       "        '2623', '2624', '2625', '2626', '2627', '2628', '2629', '2631',\n",
       "        '26360', '2641', '2647', '2648', '2649', '2650', '2651', '2653',\n",
       "        '2659', '2661', '2662', '2663', '2664', '2665', '2666', '2667',\n",
       "        '2668', '2669', '26707', '2671', '2672', '2674', '2677', '2678',\n",
       "        '2680', '2683', '2685', '2686', '2687', '2689', '2690', '2691',\n",
       "        '2693', '2694', '2695', '2697', '2699', '2700', '27042', '27267',\n",
       "        '27849', '28134', '28206', '28213', '28220', '28228', '28403',\n",
       "        '28424', '28425', '28551', '28664', '28665', '29011', '2908',\n",
       "        '29103', '29104', '29105', '29106', '29108', '2926', '29750',\n",
       "        '29751', '3101264', '3101265', '3101267', '3101276', '3101277',\n",
       "        '3101278', '3101281', '3101295', '3101296', '3101298', '31027',\n",
       "        '31028', '312991', '312992', '312993', '31418', '315037', '315082',\n",
       "        '315084', '315086', '315088', '315089', '315090', '315093',\n",
       "        '315094', '315096', '315097', '315098', '315151', '315153',\n",
       "        '323592', '323951', '324669', '330877', '330909', '330919',\n",
       "        '330923', '330931', '330932', '330935', '330958', '330959',\n",
       "        '330979', '330980', '334912', '335097', '335677', '33638',\n",
       "        '336439', '3411', '341826', '34218', '342826', '343095', '343120',\n",
       "        '343275', '343276', '345364', '345572', '345763', '345764',\n",
       "        '345765', '345767', '345769', '345770', '345773', '345774',\n",
       "        '345777', '345778', '345779', '345780', '345781', '345783', '3460',\n",
       "        '347054', '347060', '347061', '347062', '347063', '347064',\n",
       "        '347067', '347068', '347069', '347071', '347073', '347074',\n",
       "        '347076', '347077', '347078', '347080', '347081', '347082',\n",
       "        '347083', '347085', '347087', '347088', '347089', '3474', '347464',\n",
       "        '347466', '347468', '347470', '347742', '347743', '348121',\n",
       "        '348123', '348124', '349201', '349203', '349204', '349205',\n",
       "        '349206', '349207', '349208', '349209', '349210', '349212',\n",
       "        '349213', '349214', '349215', '349216', '349217', '349218',\n",
       "        '349219', '349221', '349222', '349223', '349224', '349225',\n",
       "        '349227', '349228', '349231', '349233', '349234', '349236',\n",
       "        '349237', '349239', '349240', '349241', '349242', '349243',\n",
       "        '349244', '349245', '349246', '349247', '349248', '349249',\n",
       "        '349251', '349252', '349253', '349254', '349256', '349257',\n",
       "        '349909', '349910', '349912', '350025', '350026', '350029',\n",
       "        '350034', '350035', '350036', '350042', '350043', '350046',\n",
       "        '350047', '350048', '350050', '350052', '350060', '350404',\n",
       "        '350406', '350407', '350417', '35273', '35281', '35851', '35852',\n",
       "        '358585', '36209', '362316', '363291', '363294', '363592',\n",
       "        '364498', '364499', '364500', '364506', '364511', '364512',\n",
       "        '364516', '364846', '364848', '364849', '364850', '364851',\n",
       "        '365222', '365226', '36568', '367226', '367228', '367229',\n",
       "        '367230', '367231', '367232', '367655', '368323', '36864', '36865',\n",
       "        '36866', '368703', '36928', '36947', '36963', '36967', '36973',\n",
       "        '370129', '370365', '370369', '370370', '370371', '370372',\n",
       "        '370373', '370375', '370376', '370377', '371060', '371110',\n",
       "        '371362', '372622', '373450', '374746', '374887', '374910',\n",
       "        '376564', '376566', '382649', '382651', '382652', '383121',\n",
       "        '384461', '386525', '392091', '392092', '392096', '394140', '4133',\n",
       "        '4134', '4135', '4136', '4137', '4138', '4579', '54636', '5727',\n",
       "        '65303', '65304', '65306', '6563', '693', '695', '7267', '7534',\n",
       "        '7540', '7545', '7546', '7552', '7553', '7598', '8471', '8475',\n",
       "        '9234', 'A./5. 2152', 'A./5. 3235', 'A.5. 11206', 'A.5. 18509',\n",
       "        'A/4 45380', 'A/4 48871', 'A/4. 20589', 'A/4. 34244', 'A/4. 39886',\n",
       "        'A/5 21171', 'A/5 21172', 'A/5 21173', 'A/5 21174', 'A/5 2466',\n",
       "        'A/5 2817', 'A/5 3536', 'A/5 3540', 'A/5 3594', 'A/5 3902',\n",
       "        'A/5. 10482', 'A/5. 13032', 'A/5. 2151', 'A/5. 3336', 'A/5. 3337',\n",
       "        'A/5. 851', 'A/S 2816', 'A4. 54510', 'C 17369', 'C 4001', 'C 7075',\n",
       "        'C 7076', 'C 7077', 'C.A. 17248', 'C.A. 18723', 'C.A. 2315',\n",
       "        'C.A. 24579', 'C.A. 24580', 'C.A. 2673', 'C.A. 29178',\n",
       "        'C.A. 29395', 'C.A. 29566', 'C.A. 31026', 'C.A. 31921',\n",
       "        'C.A. 33111', 'C.A. 33112', 'C.A. 33595', 'C.A. 34260',\n",
       "        'C.A. 34651', 'C.A. 37671', 'C.A. 5547', 'C.A. 6212',\n",
       "        'C.A./SOTON 34068', 'CA 2144', 'CA. 2314', 'CA. 2343',\n",
       "        'F.C. 12750', 'F.C.C. 13528', 'F.C.C. 13529', 'F.C.C. 13531',\n",
       "        'Fa 265302', 'LINE', 'P/PP 3381', 'PC 17318', 'PC 17473',\n",
       "        'PC 17474', 'PC 17475', 'PC 17476', 'PC 17477', 'PC 17482',\n",
       "        'PC 17483', 'PC 17485', 'PC 17558', 'PC 17569', 'PC 17572',\n",
       "        'PC 17582', 'PC 17585', 'PC 17590', 'PC 17592', 'PC 17593',\n",
       "        'PC 17595', 'PC 17596', 'PC 17597', 'PC 17599', 'PC 17600',\n",
       "        'PC 17601', 'PC 17603', 'PC 17604', 'PC 17605', 'PC 17608',\n",
       "        'PC 17609', 'PC 17610', 'PC 17611', 'PC 17612', 'PC 17754',\n",
       "        'PC 17755', 'PC 17756', 'PC 17757', 'PC 17758', 'PC 17759',\n",
       "        'PC 17760', 'PC 17761', 'PP 4348', 'PP 9549', 'S.C./A.4. 23567',\n",
       "        'S.C./PARIS 2079', 'S.O./P.P. 3', 'S.O./P.P. 751', 'S.O.C. 14879',\n",
       "        'S.O.P. 1166', 'S.P. 3464', 'S.W./PP 752', 'SC 1748',\n",
       "        'SC/AH 29037', 'SC/AH 3085', 'SC/AH Basle 541', 'SC/PARIS 2131',\n",
       "        'SC/PARIS 2133', 'SC/PARIS 2146', 'SC/PARIS 2149', 'SC/PARIS 2167',\n",
       "        'SC/Paris 2123', 'SC/Paris 2163', 'SCO/W 1585', 'SO/C 14885',\n",
       "        'SOTON/O.Q. 3101305', 'SOTON/O.Q. 3101306', 'SOTON/O.Q. 3101307',\n",
       "        'SOTON/O.Q. 3101310', 'SOTON/O.Q. 3101311', 'SOTON/O.Q. 3101312',\n",
       "        'SOTON/O.Q. 392078', 'SOTON/O.Q. 392087', 'SOTON/O2 3101272',\n",
       "        'SOTON/O2 3101287', 'SOTON/OQ 3101316', 'SOTON/OQ 3101317',\n",
       "        'SOTON/OQ 392076', 'SOTON/OQ 392082', 'SOTON/OQ 392086',\n",
       "        'SOTON/OQ 392089', 'SOTON/OQ 392090', 'STON/O 2. 3101269',\n",
       "        'STON/O 2. 3101273', 'STON/O 2. 3101274', 'STON/O 2. 3101275',\n",
       "        'STON/O 2. 3101280', 'STON/O 2. 3101285', 'STON/O 2. 3101286',\n",
       "        'STON/O 2. 3101288', 'STON/O 2. 3101289', 'STON/O 2. 3101292',\n",
       "        'STON/O 2. 3101293', 'STON/O 2. 3101294', 'STON/O2. 3101271',\n",
       "        'STON/O2. 3101279', 'STON/O2. 3101282', 'STON/O2. 3101283',\n",
       "        'STON/O2. 3101290', 'SW/PP 751', 'W./C. 14258', 'W./C. 14263',\n",
       "        'W./C. 6607', 'W./C. 6608', 'W./C. 6609', 'W.E.P. 5734',\n",
       "        'W/C 14208', 'WE/P 5735'], dtype=object),\n",
       " array(['A10', 'A14', 'A16', 'A19', 'A20', 'A23', 'A24', 'A26', 'A31',\n",
       "        'A32', 'A34', 'A36', 'A5', 'A6', 'A7', 'B101', 'B102', 'B18',\n",
       "        'B19', 'B20', 'B22', 'B28', 'B3', 'B30', 'B35', 'B37', 'B38',\n",
       "        'B39', 'B4', 'B41', 'B42', 'B49', 'B5', 'B50', 'B51 B53 B55',\n",
       "        'B57 B59 B63 B66', 'B58 B60', 'B69', 'B71', 'B73', 'B77', 'B78',\n",
       "        'B79', 'B80', 'B82 B84', 'B86', 'B94', 'B96 B98', 'C101', 'C103',\n",
       "        'C104', 'C106', 'C110', 'C111', 'C118', 'C123', 'C124', 'C125',\n",
       "        'C126', 'C128', 'C148', 'C2', 'C22 C26', 'C23 C25 C27', 'C30',\n",
       "        'C32', 'C45', 'C46', 'C47', 'C49', 'C50', 'C52', 'C54', 'C62 C64',\n",
       "        'C65', 'C68', 'C7', 'C70', 'C78', 'C82', 'C83', 'C85', 'C86',\n",
       "        'C87', 'C90', 'C91', 'C92', 'C93', 'C95', 'C99', 'D', 'D10 D12',\n",
       "        'D11', 'D15', 'D17', 'D19', 'D20', 'D21', 'D26', 'D28', 'D30',\n",
       "        'D33', 'D35', 'D36', 'D37', 'D45', 'D46', 'D47', 'D48', 'D49',\n",
       "        'D50', 'D56', 'D6', 'D7', 'D9', 'E10', 'E101', 'E12', 'E121',\n",
       "        'E17', 'E24', 'E25', 'E31', 'E33', 'E34', 'E36', 'E38', 'E40',\n",
       "        'E44', 'E46', 'E49', 'E50', 'E58', 'E63', 'E67', 'E68', 'E77',\n",
       "        'E8', 'F E69', 'F G63', 'F G73', 'F2', 'F33', 'F38', 'F4', 'G6',\n",
       "        'T'], dtype=object),\n",
       " array(['C', 'Q', 'S'], dtype=object)]"
      ]
     },
     "execution_count": 26,
     "metadata": {},
     "output_type": "execute_result"
    }
   ],
   "source": [
    "oe.categories_"
   ]
  },
  {
   "cell_type": "code",
   "execution_count": 27,
   "id": "010d51b3",
   "metadata": {
    "execution": {
     "iopub.execute_input": "2023-11-28T04:20:59.009421Z",
     "iopub.status.busy": "2023-11-28T04:20:59.008958Z",
     "iopub.status.idle": "2023-11-28T04:20:59.022779Z",
     "shell.execute_reply": "2023-11-28T04:20:59.021513Z"
    },
    "papermill": {
     "duration": 0.04182,
     "end_time": "2023-11-28T04:20:59.025534",
     "exception": false,
     "start_time": "2023-11-28T04:20:58.983714",
     "status": "completed"
    },
    "tags": []
   },
   "outputs": [
    {
     "name": "stdout",
     "output_type": "stream",
     "text": [
      "<class 'pandas.core.frame.DataFrame'>\n",
      "RangeIndex: 891 entries, 0 to 890\n",
      "Data columns (total 12 columns):\n",
      " #   Column       Non-Null Count  Dtype  \n",
      "---  ------       --------------  -----  \n",
      " 0   PassengerId  891 non-null    int64  \n",
      " 1   Survived     891 non-null    int64  \n",
      " 2   Pclass       891 non-null    int64  \n",
      " 3   Name         891 non-null    float64\n",
      " 4   Sex          891 non-null    float64\n",
      " 5   Age          891 non-null    float64\n",
      " 6   SibSp        891 non-null    int64  \n",
      " 7   Parch        891 non-null    int64  \n",
      " 8   Ticket       891 non-null    float64\n",
      " 9   Fare         891 non-null    float64\n",
      " 10  Cabin        891 non-null    float64\n",
      " 11  Embarked     891 non-null    float64\n",
      "dtypes: float64(7), int64(5)\n",
      "memory usage: 83.7 KB\n"
     ]
    }
   ],
   "source": [
    "train.info()"
   ]
  },
  {
   "cell_type": "code",
   "execution_count": 28,
   "id": "a3b2eea5",
   "metadata": {
    "execution": {
     "iopub.execute_input": "2023-11-28T04:20:59.072631Z",
     "iopub.status.busy": "2023-11-28T04:20:59.071764Z",
     "iopub.status.idle": "2023-11-28T04:20:59.089240Z",
     "shell.execute_reply": "2023-11-28T04:20:59.087947Z"
    },
    "papermill": {
     "duration": 0.044151,
     "end_time": "2023-11-28T04:20:59.091856",
     "exception": false,
     "start_time": "2023-11-28T04:20:59.047705",
     "status": "completed"
    },
    "tags": []
   },
   "outputs": [
    {
     "data": {
      "text/html": [
       "<div>\n",
       "<style scoped>\n",
       "    .dataframe tbody tr th:only-of-type {\n",
       "        vertical-align: middle;\n",
       "    }\n",
       "\n",
       "    .dataframe tbody tr th {\n",
       "        vertical-align: top;\n",
       "    }\n",
       "\n",
       "    .dataframe thead th {\n",
       "        text-align: right;\n",
       "    }\n",
       "</style>\n",
       "<table border=\"1\" class=\"dataframe\">\n",
       "  <thead>\n",
       "    <tr style=\"text-align: right;\">\n",
       "      <th></th>\n",
       "      <th>PassengerId</th>\n",
       "      <th>Pclass</th>\n",
       "      <th>Name</th>\n",
       "      <th>Sex</th>\n",
       "      <th>Age</th>\n",
       "      <th>SibSp</th>\n",
       "      <th>Parch</th>\n",
       "      <th>Ticket</th>\n",
       "      <th>Fare</th>\n",
       "      <th>Cabin</th>\n",
       "      <th>Embarked</th>\n",
       "    </tr>\n",
       "  </thead>\n",
       "  <tbody>\n",
       "    <tr>\n",
       "      <th>0</th>\n",
       "      <td>892</td>\n",
       "      <td>3</td>\n",
       "      <td>Kelly, Mr. James</td>\n",
       "      <td>male</td>\n",
       "      <td>34.5</td>\n",
       "      <td>0</td>\n",
       "      <td>0</td>\n",
       "      <td>330911</td>\n",
       "      <td>7.8292</td>\n",
       "      <td>NaN</td>\n",
       "      <td>Q</td>\n",
       "    </tr>\n",
       "    <tr>\n",
       "      <th>1</th>\n",
       "      <td>893</td>\n",
       "      <td>3</td>\n",
       "      <td>Wilkes, Mrs. James (Ellen Needs)</td>\n",
       "      <td>female</td>\n",
       "      <td>47.0</td>\n",
       "      <td>1</td>\n",
       "      <td>0</td>\n",
       "      <td>363272</td>\n",
       "      <td>7.0000</td>\n",
       "      <td>NaN</td>\n",
       "      <td>S</td>\n",
       "    </tr>\n",
       "    <tr>\n",
       "      <th>2</th>\n",
       "      <td>894</td>\n",
       "      <td>2</td>\n",
       "      <td>Myles, Mr. Thomas Francis</td>\n",
       "      <td>male</td>\n",
       "      <td>62.0</td>\n",
       "      <td>0</td>\n",
       "      <td>0</td>\n",
       "      <td>240276</td>\n",
       "      <td>9.6875</td>\n",
       "      <td>NaN</td>\n",
       "      <td>Q</td>\n",
       "    </tr>\n",
       "    <tr>\n",
       "      <th>3</th>\n",
       "      <td>895</td>\n",
       "      <td>3</td>\n",
       "      <td>Wirz, Mr. Albert</td>\n",
       "      <td>male</td>\n",
       "      <td>27.0</td>\n",
       "      <td>0</td>\n",
       "      <td>0</td>\n",
       "      <td>315154</td>\n",
       "      <td>8.6625</td>\n",
       "      <td>NaN</td>\n",
       "      <td>S</td>\n",
       "    </tr>\n",
       "    <tr>\n",
       "      <th>4</th>\n",
       "      <td>896</td>\n",
       "      <td>3</td>\n",
       "      <td>Hirvonen, Mrs. Alexander (Helga E Lindqvist)</td>\n",
       "      <td>female</td>\n",
       "      <td>22.0</td>\n",
       "      <td>1</td>\n",
       "      <td>1</td>\n",
       "      <td>3101298</td>\n",
       "      <td>12.2875</td>\n",
       "      <td>NaN</td>\n",
       "      <td>S</td>\n",
       "    </tr>\n",
       "  </tbody>\n",
       "</table>\n",
       "</div>"
      ],
      "text/plain": [
       "   PassengerId  Pclass                                          Name     Sex  \\\n",
       "0          892       3                              Kelly, Mr. James    male   \n",
       "1          893       3              Wilkes, Mrs. James (Ellen Needs)  female   \n",
       "2          894       2                     Myles, Mr. Thomas Francis    male   \n",
       "3          895       3                              Wirz, Mr. Albert    male   \n",
       "4          896       3  Hirvonen, Mrs. Alexander (Helga E Lindqvist)  female   \n",
       "\n",
       "    Age  SibSp  Parch   Ticket     Fare Cabin Embarked  \n",
       "0  34.5      0      0   330911   7.8292   NaN        Q  \n",
       "1  47.0      1      0   363272   7.0000   NaN        S  \n",
       "2  62.0      0      0   240276   9.6875   NaN        Q  \n",
       "3  27.0      0      0   315154   8.6625   NaN        S  \n",
       "4  22.0      1      1  3101298  12.2875   NaN        S  "
      ]
     },
     "execution_count": 28,
     "metadata": {},
     "output_type": "execute_result"
    }
   ],
   "source": [
    "test.head()"
   ]
  },
  {
   "cell_type": "code",
   "execution_count": 29,
   "id": "94b3191c",
   "metadata": {
    "execution": {
     "iopub.execute_input": "2023-11-28T04:20:59.139716Z",
     "iopub.status.busy": "2023-11-28T04:20:59.139037Z",
     "iopub.status.idle": "2023-11-28T04:20:59.170474Z",
     "shell.execute_reply": "2023-11-28T04:20:59.169147Z"
    },
    "papermill": {
     "duration": 0.058193,
     "end_time": "2023-11-28T04:20:59.173165",
     "exception": false,
     "start_time": "2023-11-28T04:20:59.114972",
     "status": "completed"
    },
    "tags": []
   },
   "outputs": [
    {
     "data": {
      "text/html": [
       "<div>\n",
       "<style scoped>\n",
       "    .dataframe tbody tr th:only-of-type {\n",
       "        vertical-align: middle;\n",
       "    }\n",
       "\n",
       "    .dataframe tbody tr th {\n",
       "        vertical-align: top;\n",
       "    }\n",
       "\n",
       "    .dataframe thead th {\n",
       "        text-align: right;\n",
       "    }\n",
       "</style>\n",
       "<table border=\"1\" class=\"dataframe\">\n",
       "  <thead>\n",
       "    <tr style=\"text-align: right;\">\n",
       "      <th></th>\n",
       "      <th>PassengerId</th>\n",
       "      <th>Pclass</th>\n",
       "      <th>Age</th>\n",
       "      <th>SibSp</th>\n",
       "      <th>Parch</th>\n",
       "      <th>Fare</th>\n",
       "    </tr>\n",
       "  </thead>\n",
       "  <tbody>\n",
       "    <tr>\n",
       "      <th>count</th>\n",
       "      <td>418.000000</td>\n",
       "      <td>418.000000</td>\n",
       "      <td>332.000000</td>\n",
       "      <td>418.000000</td>\n",
       "      <td>418.000000</td>\n",
       "      <td>417.000000</td>\n",
       "    </tr>\n",
       "    <tr>\n",
       "      <th>mean</th>\n",
       "      <td>1100.500000</td>\n",
       "      <td>2.265550</td>\n",
       "      <td>30.272590</td>\n",
       "      <td>0.447368</td>\n",
       "      <td>0.392344</td>\n",
       "      <td>35.627188</td>\n",
       "    </tr>\n",
       "    <tr>\n",
       "      <th>std</th>\n",
       "      <td>120.810458</td>\n",
       "      <td>0.841838</td>\n",
       "      <td>14.181209</td>\n",
       "      <td>0.896760</td>\n",
       "      <td>0.981429</td>\n",
       "      <td>55.907576</td>\n",
       "    </tr>\n",
       "    <tr>\n",
       "      <th>min</th>\n",
       "      <td>892.000000</td>\n",
       "      <td>1.000000</td>\n",
       "      <td>0.170000</td>\n",
       "      <td>0.000000</td>\n",
       "      <td>0.000000</td>\n",
       "      <td>0.000000</td>\n",
       "    </tr>\n",
       "    <tr>\n",
       "      <th>25%</th>\n",
       "      <td>996.250000</td>\n",
       "      <td>1.000000</td>\n",
       "      <td>21.000000</td>\n",
       "      <td>0.000000</td>\n",
       "      <td>0.000000</td>\n",
       "      <td>7.895800</td>\n",
       "    </tr>\n",
       "    <tr>\n",
       "      <th>50%</th>\n",
       "      <td>1100.500000</td>\n",
       "      <td>3.000000</td>\n",
       "      <td>27.000000</td>\n",
       "      <td>0.000000</td>\n",
       "      <td>0.000000</td>\n",
       "      <td>14.454200</td>\n",
       "    </tr>\n",
       "    <tr>\n",
       "      <th>75%</th>\n",
       "      <td>1204.750000</td>\n",
       "      <td>3.000000</td>\n",
       "      <td>39.000000</td>\n",
       "      <td>1.000000</td>\n",
       "      <td>0.000000</td>\n",
       "      <td>31.500000</td>\n",
       "    </tr>\n",
       "    <tr>\n",
       "      <th>max</th>\n",
       "      <td>1309.000000</td>\n",
       "      <td>3.000000</td>\n",
       "      <td>76.000000</td>\n",
       "      <td>8.000000</td>\n",
       "      <td>9.000000</td>\n",
       "      <td>512.329200</td>\n",
       "    </tr>\n",
       "  </tbody>\n",
       "</table>\n",
       "</div>"
      ],
      "text/plain": [
       "       PassengerId      Pclass         Age       SibSp       Parch        Fare\n",
       "count   418.000000  418.000000  332.000000  418.000000  418.000000  417.000000\n",
       "mean   1100.500000    2.265550   30.272590    0.447368    0.392344   35.627188\n",
       "std     120.810458    0.841838   14.181209    0.896760    0.981429   55.907576\n",
       "min     892.000000    1.000000    0.170000    0.000000    0.000000    0.000000\n",
       "25%     996.250000    1.000000   21.000000    0.000000    0.000000    7.895800\n",
       "50%    1100.500000    3.000000   27.000000    0.000000    0.000000   14.454200\n",
       "75%    1204.750000    3.000000   39.000000    1.000000    0.000000   31.500000\n",
       "max    1309.000000    3.000000   76.000000    8.000000    9.000000  512.329200"
      ]
     },
     "execution_count": 29,
     "metadata": {},
     "output_type": "execute_result"
    }
   ],
   "source": [
    "test.describe()"
   ]
  },
  {
   "cell_type": "code",
   "execution_count": 30,
   "id": "de93c7ef",
   "metadata": {
    "execution": {
     "iopub.execute_input": "2023-11-28T04:20:59.221189Z",
     "iopub.status.busy": "2023-11-28T04:20:59.220762Z",
     "iopub.status.idle": "2023-11-28T04:20:59.233892Z",
     "shell.execute_reply": "2023-11-28T04:20:59.232936Z"
    },
    "papermill": {
     "duration": 0.040656,
     "end_time": "2023-11-28T04:20:59.236829",
     "exception": false,
     "start_time": "2023-11-28T04:20:59.196173",
     "status": "completed"
    },
    "tags": []
   },
   "outputs": [
    {
     "name": "stdout",
     "output_type": "stream",
     "text": [
      "<class 'pandas.core.frame.DataFrame'>\n",
      "RangeIndex: 418 entries, 0 to 417\n",
      "Data columns (total 11 columns):\n",
      " #   Column       Non-Null Count  Dtype  \n",
      "---  ------       --------------  -----  \n",
      " 0   PassengerId  418 non-null    int64  \n",
      " 1   Pclass       418 non-null    int64  \n",
      " 2   Name         418 non-null    object \n",
      " 3   Sex          418 non-null    object \n",
      " 4   Age          332 non-null    float64\n",
      " 5   SibSp        418 non-null    int64  \n",
      " 6   Parch        418 non-null    int64  \n",
      " 7   Ticket       418 non-null    object \n",
      " 8   Fare         417 non-null    float64\n",
      " 9   Cabin        91 non-null     object \n",
      " 10  Embarked     418 non-null    object \n",
      "dtypes: float64(2), int64(4), object(5)\n",
      "memory usage: 36.0+ KB\n"
     ]
    }
   ],
   "source": [
    "test.info()"
   ]
  },
  {
   "cell_type": "code",
   "execution_count": 31,
   "id": "12211a2d",
   "metadata": {
    "execution": {
     "iopub.execute_input": "2023-11-28T04:20:59.285904Z",
     "iopub.status.busy": "2023-11-28T04:20:59.284832Z",
     "iopub.status.idle": "2023-11-28T04:20:59.294080Z",
     "shell.execute_reply": "2023-11-28T04:20:59.293219Z"
    },
    "papermill": {
     "duration": 0.036313,
     "end_time": "2023-11-28T04:20:59.296410",
     "exception": false,
     "start_time": "2023-11-28T04:20:59.260097",
     "status": "completed"
    },
    "tags": []
   },
   "outputs": [
    {
     "data": {
      "text/plain": [
       "PassengerId      0\n",
       "Pclass           0\n",
       "Name             0\n",
       "Sex              0\n",
       "Age             86\n",
       "SibSp            0\n",
       "Parch            0\n",
       "Ticket           0\n",
       "Fare             1\n",
       "Cabin          327\n",
       "Embarked         0\n",
       "dtype: int64"
      ]
     },
     "execution_count": 31,
     "metadata": {},
     "output_type": "execute_result"
    }
   ],
   "source": [
    "test.isna().sum()"
   ]
  },
  {
   "cell_type": "code",
   "execution_count": 32,
   "id": "ec4486a2",
   "metadata": {
    "execution": {
     "iopub.execute_input": "2023-11-28T04:20:59.345340Z",
     "iopub.status.busy": "2023-11-28T04:20:59.344524Z",
     "iopub.status.idle": "2023-11-28T04:20:59.350718Z",
     "shell.execute_reply": "2023-11-28T04:20:59.349424Z"
    },
    "papermill": {
     "duration": 0.034177,
     "end_time": "2023-11-28T04:20:59.353719",
     "exception": false,
     "start_time": "2023-11-28T04:20:59.319542",
     "status": "completed"
    },
    "tags": []
   },
   "outputs": [],
   "source": [
    "test[\"Age\"].fillna(test[\"Age\"].mean(),inplace=True)"
   ]
  },
  {
   "cell_type": "code",
   "execution_count": 33,
   "id": "b4eb0b3d",
   "metadata": {
    "execution": {
     "iopub.execute_input": "2023-11-28T04:20:59.405428Z",
     "iopub.status.busy": "2023-11-28T04:20:59.403933Z",
     "iopub.status.idle": "2023-11-28T04:20:59.412484Z",
     "shell.execute_reply": "2023-11-28T04:20:59.410987Z"
    },
    "papermill": {
     "duration": 0.038924,
     "end_time": "2023-11-28T04:20:59.416202",
     "exception": false,
     "start_time": "2023-11-28T04:20:59.377278",
     "status": "completed"
    },
    "tags": []
   },
   "outputs": [],
   "source": [
    "test[\"Fare\"].fillna(test[\"Fare\"].mean(),inplace=True)"
   ]
  },
  {
   "cell_type": "code",
   "execution_count": 34,
   "id": "f1ca81d2",
   "metadata": {
    "execution": {
     "iopub.execute_input": "2023-11-28T04:20:59.479276Z",
     "iopub.status.busy": "2023-11-28T04:20:59.478431Z",
     "iopub.status.idle": "2023-11-28T04:20:59.484887Z",
     "shell.execute_reply": "2023-11-28T04:20:59.483544Z"
    },
    "papermill": {
     "duration": 0.038486,
     "end_time": "2023-11-28T04:20:59.487633",
     "exception": false,
     "start_time": "2023-11-28T04:20:59.449147",
     "status": "completed"
    },
    "tags": []
   },
   "outputs": [],
   "source": [
    "test[\"Cabin\"].fillna(test[\"Cabin\"].mode()[0],inplace=True)"
   ]
  },
  {
   "cell_type": "code",
   "execution_count": 35,
   "id": "59147514",
   "metadata": {
    "execution": {
     "iopub.execute_input": "2023-11-28T04:20:59.536507Z",
     "iopub.status.busy": "2023-11-28T04:20:59.536072Z",
     "iopub.status.idle": "2023-11-28T04:20:59.545870Z",
     "shell.execute_reply": "2023-11-28T04:20:59.544575Z"
    },
    "papermill": {
     "duration": 0.037214,
     "end_time": "2023-11-28T04:20:59.548470",
     "exception": false,
     "start_time": "2023-11-28T04:20:59.511256",
     "status": "completed"
    },
    "tags": []
   },
   "outputs": [
    {
     "data": {
      "text/plain": [
       "PassengerId    0\n",
       "Pclass         0\n",
       "Name           0\n",
       "Sex            0\n",
       "Age            0\n",
       "SibSp          0\n",
       "Parch          0\n",
       "Ticket         0\n",
       "Fare           0\n",
       "Cabin          0\n",
       "Embarked       0\n",
       "dtype: int64"
      ]
     },
     "execution_count": 35,
     "metadata": {},
     "output_type": "execute_result"
    }
   ],
   "source": [
    "test.isna().sum()"
   ]
  },
  {
   "cell_type": "code",
   "execution_count": 36,
   "id": "7316ba4b",
   "metadata": {
    "execution": {
     "iopub.execute_input": "2023-11-28T04:20:59.614628Z",
     "iopub.status.busy": "2023-11-28T04:20:59.613509Z",
     "iopub.status.idle": "2023-11-28T04:20:59.621003Z",
     "shell.execute_reply": "2023-11-28T04:20:59.619775Z"
    },
    "papermill": {
     "duration": 0.045356,
     "end_time": "2023-11-28T04:20:59.624374",
     "exception": false,
     "start_time": "2023-11-28T04:20:59.579018",
     "status": "completed"
    },
    "tags": []
   },
   "outputs": [],
   "source": [
    "categorical = []\n",
    "for column in test.columns:\n",
    "  if test[column].dtype ==\"object\":\n",
    "    categorical.append(column)"
   ]
  },
  {
   "cell_type": "code",
   "execution_count": 37,
   "id": "0b620d60",
   "metadata": {
    "execution": {
     "iopub.execute_input": "2023-11-28T04:20:59.689847Z",
     "iopub.status.busy": "2023-11-28T04:20:59.688754Z",
     "iopub.status.idle": "2023-11-28T04:20:59.696534Z",
     "shell.execute_reply": "2023-11-28T04:20:59.695299Z"
    },
    "papermill": {
     "duration": 0.040945,
     "end_time": "2023-11-28T04:20:59.699118",
     "exception": false,
     "start_time": "2023-11-28T04:20:59.658173",
     "status": "completed"
    },
    "tags": []
   },
   "outputs": [
    {
     "data": {
      "text/plain": [
       "['Name', 'Sex', 'Ticket', 'Cabin', 'Embarked']"
      ]
     },
     "execution_count": 37,
     "metadata": {},
     "output_type": "execute_result"
    }
   ],
   "source": [
    "categorical"
   ]
  },
  {
   "cell_type": "code",
   "execution_count": 38,
   "id": "11ff0f00",
   "metadata": {
    "execution": {
     "iopub.execute_input": "2023-11-28T04:20:59.756248Z",
     "iopub.status.busy": "2023-11-28T04:20:59.755811Z",
     "iopub.status.idle": "2023-11-28T04:20:59.778268Z",
     "shell.execute_reply": "2023-11-28T04:20:59.777312Z"
    },
    "papermill": {
     "duration": 0.053291,
     "end_time": "2023-11-28T04:20:59.781389",
     "exception": false,
     "start_time": "2023-11-28T04:20:59.728098",
     "status": "completed"
    },
    "tags": []
   },
   "outputs": [
    {
     "data": {
      "text/plain": [
       "array([['Kelly, Mr. James', 'male', '330911', 'B57 B59 B63 B66', 'Q'],\n",
       "       ['Wilkes, Mrs. James (Ellen Needs)', 'female', '363272',\n",
       "        'B57 B59 B63 B66', 'S'],\n",
       "       ['Myles, Mr. Thomas Francis', 'male', '240276', 'B57 B59 B63 B66',\n",
       "        'Q'],\n",
       "       ...,\n",
       "       ['Saether, Mr. Simon Sivertsen', 'male', 'SOTON/O.Q. 3101262',\n",
       "        'B57 B59 B63 B66', 'S'],\n",
       "       ['Ware, Mr. Frederick', 'male', '359309', 'B57 B59 B63 B66', 'S'],\n",
       "       ['Peter, Master. Michael J', 'male', '2668', 'B57 B59 B63 B66',\n",
       "        'C']], dtype=object)"
      ]
     },
     "execution_count": 38,
     "metadata": {},
     "output_type": "execute_result"
    }
   ],
   "source": [
    "from sklearn.preprocessing import OrdinalEncoder\n",
    "oe = OrdinalEncoder().fit(test[categorical])\n",
    "test[categorical] = oe.transform(test[categorical])\n",
    "oe.inverse_transform(test[categorical])"
   ]
  },
  {
   "cell_type": "code",
   "execution_count": 39,
   "id": "7c264693",
   "metadata": {
    "execution": {
     "iopub.execute_input": "2023-11-28T04:20:59.830872Z",
     "iopub.status.busy": "2023-11-28T04:20:59.830179Z",
     "iopub.status.idle": "2023-11-28T04:20:59.845295Z",
     "shell.execute_reply": "2023-11-28T04:20:59.843707Z"
    },
    "papermill": {
     "duration": 0.042537,
     "end_time": "2023-11-28T04:20:59.847782",
     "exception": false,
     "start_time": "2023-11-28T04:20:59.805245",
     "status": "completed"
    },
    "tags": []
   },
   "outputs": [
    {
     "name": "stdout",
     "output_type": "stream",
     "text": [
      "<class 'pandas.core.frame.DataFrame'>\n",
      "RangeIndex: 418 entries, 0 to 417\n",
      "Data columns (total 11 columns):\n",
      " #   Column       Non-Null Count  Dtype  \n",
      "---  ------       --------------  -----  \n",
      " 0   PassengerId  418 non-null    int64  \n",
      " 1   Pclass       418 non-null    int64  \n",
      " 2   Name         418 non-null    float64\n",
      " 3   Sex          418 non-null    float64\n",
      " 4   Age          418 non-null    float64\n",
      " 5   SibSp        418 non-null    int64  \n",
      " 6   Parch        418 non-null    int64  \n",
      " 7   Ticket       418 non-null    float64\n",
      " 8   Fare         418 non-null    float64\n",
      " 9   Cabin        418 non-null    float64\n",
      " 10  Embarked     418 non-null    float64\n",
      "dtypes: float64(7), int64(4)\n",
      "memory usage: 36.0 KB\n"
     ]
    }
   ],
   "source": [
    "test.info()"
   ]
  },
  {
   "cell_type": "code",
   "execution_count": 40,
   "id": "62f25b9f",
   "metadata": {
    "execution": {
     "iopub.execute_input": "2023-11-28T04:20:59.908295Z",
     "iopub.status.busy": "2023-11-28T04:20:59.906890Z",
     "iopub.status.idle": "2023-11-28T04:20:59.918173Z",
     "shell.execute_reply": "2023-11-28T04:20:59.917076Z"
    },
    "papermill": {
     "duration": 0.046331,
     "end_time": "2023-11-28T04:20:59.920813",
     "exception": false,
     "start_time": "2023-11-28T04:20:59.874482",
     "status": "completed"
    },
    "tags": []
   },
   "outputs": [
    {
     "data": {
      "text/plain": [
       "PassengerId    0\n",
       "Pclass         0\n",
       "Name           0\n",
       "Sex            0\n",
       "Age            0\n",
       "SibSp          0\n",
       "Parch          0\n",
       "Ticket         0\n",
       "Fare           0\n",
       "Cabin          0\n",
       "Embarked       0\n",
       "dtype: int64"
      ]
     },
     "execution_count": 40,
     "metadata": {},
     "output_type": "execute_result"
    }
   ],
   "source": [
    "test.isna().sum()"
   ]
  },
  {
   "cell_type": "code",
   "execution_count": 41,
   "id": "8b8292e1",
   "metadata": {
    "execution": {
     "iopub.execute_input": "2023-11-28T04:20:59.973901Z",
     "iopub.status.busy": "2023-11-28T04:20:59.973083Z",
     "iopub.status.idle": "2023-11-28T04:20:59.980099Z",
     "shell.execute_reply": "2023-11-28T04:20:59.978919Z"
    },
    "papermill": {
     "duration": 0.035327,
     "end_time": "2023-11-28T04:20:59.982428",
     "exception": false,
     "start_time": "2023-11-28T04:20:59.947101",
     "status": "completed"
    },
    "tags": []
   },
   "outputs": [
    {
     "data": {
      "text/plain": [
       "Index(['PassengerId', 'Pclass', 'Name', 'Sex', 'Age', 'SibSp', 'Parch',\n",
       "       'Ticket', 'Fare', 'Cabin', 'Embarked'],\n",
       "      dtype='object')"
      ]
     },
     "execution_count": 41,
     "metadata": {},
     "output_type": "execute_result"
    }
   ],
   "source": [
    "test.columns"
   ]
  },
  {
   "cell_type": "code",
   "execution_count": 42,
   "id": "921cbc80",
   "metadata": {
    "execution": {
     "iopub.execute_input": "2023-11-28T04:21:00.036092Z",
     "iopub.status.busy": "2023-11-28T04:21:00.035310Z",
     "iopub.status.idle": "2023-11-28T04:21:00.043811Z",
     "shell.execute_reply": "2023-11-28T04:21:00.042609Z"
    },
    "papermill": {
     "duration": 0.03725,
     "end_time": "2023-11-28T04:21:00.046774",
     "exception": false,
     "start_time": "2023-11-28T04:21:00.009524",
     "status": "completed"
    },
    "tags": []
   },
   "outputs": [],
   "source": [
    "x,y=train.drop(\"Survived\",axis=True),train[\"Survived\"]"
   ]
  },
  {
   "cell_type": "code",
   "execution_count": 43,
   "id": "644dd14b",
   "metadata": {
    "execution": {
     "iopub.execute_input": "2023-11-28T04:21:00.096986Z",
     "iopub.status.busy": "2023-11-28T04:21:00.096601Z",
     "iopub.status.idle": "2023-11-28T04:21:00.125572Z",
     "shell.execute_reply": "2023-11-28T04:21:00.124140Z"
    },
    "papermill": {
     "duration": 0.057587,
     "end_time": "2023-11-28T04:21:00.128463",
     "exception": false,
     "start_time": "2023-11-28T04:21:00.070876",
     "status": "completed"
    },
    "tags": []
   },
   "outputs": [
    {
     "data": {
      "text/html": [
       "<div>\n",
       "<style scoped>\n",
       "    .dataframe tbody tr th:only-of-type {\n",
       "        vertical-align: middle;\n",
       "    }\n",
       "\n",
       "    .dataframe tbody tr th {\n",
       "        vertical-align: top;\n",
       "    }\n",
       "\n",
       "    .dataframe thead th {\n",
       "        text-align: right;\n",
       "    }\n",
       "</style>\n",
       "<table border=\"1\" class=\"dataframe\">\n",
       "  <thead>\n",
       "    <tr style=\"text-align: right;\">\n",
       "      <th></th>\n",
       "      <th>PassengerId</th>\n",
       "      <th>Pclass</th>\n",
       "      <th>Name</th>\n",
       "      <th>Sex</th>\n",
       "      <th>Age</th>\n",
       "      <th>SibSp</th>\n",
       "      <th>Parch</th>\n",
       "      <th>Ticket</th>\n",
       "      <th>Fare</th>\n",
       "      <th>Cabin</th>\n",
       "      <th>Embarked</th>\n",
       "    </tr>\n",
       "  </thead>\n",
       "  <tbody>\n",
       "    <tr>\n",
       "      <th>0</th>\n",
       "      <td>1</td>\n",
       "      <td>3</td>\n",
       "      <td>108.0</td>\n",
       "      <td>1.0</td>\n",
       "      <td>22.000000</td>\n",
       "      <td>1</td>\n",
       "      <td>0</td>\n",
       "      <td>523.0</td>\n",
       "      <td>7.2500</td>\n",
       "      <td>47.0</td>\n",
       "      <td>2.0</td>\n",
       "    </tr>\n",
       "    <tr>\n",
       "      <th>1</th>\n",
       "      <td>2</td>\n",
       "      <td>1</td>\n",
       "      <td>190.0</td>\n",
       "      <td>0.0</td>\n",
       "      <td>38.000000</td>\n",
       "      <td>1</td>\n",
       "      <td>0</td>\n",
       "      <td>596.0</td>\n",
       "      <td>71.2833</td>\n",
       "      <td>81.0</td>\n",
       "      <td>0.0</td>\n",
       "    </tr>\n",
       "    <tr>\n",
       "      <th>2</th>\n",
       "      <td>3</td>\n",
       "      <td>3</td>\n",
       "      <td>353.0</td>\n",
       "      <td>0.0</td>\n",
       "      <td>26.000000</td>\n",
       "      <td>0</td>\n",
       "      <td>0</td>\n",
       "      <td>669.0</td>\n",
       "      <td>7.9250</td>\n",
       "      <td>47.0</td>\n",
       "      <td>2.0</td>\n",
       "    </tr>\n",
       "    <tr>\n",
       "      <th>3</th>\n",
       "      <td>4</td>\n",
       "      <td>1</td>\n",
       "      <td>272.0</td>\n",
       "      <td>0.0</td>\n",
       "      <td>35.000000</td>\n",
       "      <td>1</td>\n",
       "      <td>0</td>\n",
       "      <td>49.0</td>\n",
       "      <td>53.1000</td>\n",
       "      <td>55.0</td>\n",
       "      <td>2.0</td>\n",
       "    </tr>\n",
       "    <tr>\n",
       "      <th>4</th>\n",
       "      <td>5</td>\n",
       "      <td>3</td>\n",
       "      <td>15.0</td>\n",
       "      <td>1.0</td>\n",
       "      <td>35.000000</td>\n",
       "      <td>0</td>\n",
       "      <td>0</td>\n",
       "      <td>472.0</td>\n",
       "      <td>8.0500</td>\n",
       "      <td>47.0</td>\n",
       "      <td>2.0</td>\n",
       "    </tr>\n",
       "    <tr>\n",
       "      <th>...</th>\n",
       "      <td>...</td>\n",
       "      <td>...</td>\n",
       "      <td>...</td>\n",
       "      <td>...</td>\n",
       "      <td>...</td>\n",
       "      <td>...</td>\n",
       "      <td>...</td>\n",
       "      <td>...</td>\n",
       "      <td>...</td>\n",
       "      <td>...</td>\n",
       "      <td>...</td>\n",
       "    </tr>\n",
       "    <tr>\n",
       "      <th>886</th>\n",
       "      <td>887</td>\n",
       "      <td>2</td>\n",
       "      <td>548.0</td>\n",
       "      <td>1.0</td>\n",
       "      <td>27.000000</td>\n",
       "      <td>0</td>\n",
       "      <td>0</td>\n",
       "      <td>101.0</td>\n",
       "      <td>13.0000</td>\n",
       "      <td>47.0</td>\n",
       "      <td>2.0</td>\n",
       "    </tr>\n",
       "    <tr>\n",
       "      <th>887</th>\n",
       "      <td>888</td>\n",
       "      <td>1</td>\n",
       "      <td>303.0</td>\n",
       "      <td>0.0</td>\n",
       "      <td>19.000000</td>\n",
       "      <td>0</td>\n",
       "      <td>0</td>\n",
       "      <td>14.0</td>\n",
       "      <td>30.0000</td>\n",
       "      <td>30.0</td>\n",
       "      <td>2.0</td>\n",
       "    </tr>\n",
       "    <tr>\n",
       "      <th>888</th>\n",
       "      <td>889</td>\n",
       "      <td>3</td>\n",
       "      <td>413.0</td>\n",
       "      <td>0.0</td>\n",
       "      <td>29.699118</td>\n",
       "      <td>1</td>\n",
       "      <td>2</td>\n",
       "      <td>675.0</td>\n",
       "      <td>23.4500</td>\n",
       "      <td>47.0</td>\n",
       "      <td>2.0</td>\n",
       "    </tr>\n",
       "    <tr>\n",
       "      <th>889</th>\n",
       "      <td>890</td>\n",
       "      <td>1</td>\n",
       "      <td>81.0</td>\n",
       "      <td>1.0</td>\n",
       "      <td>26.000000</td>\n",
       "      <td>0</td>\n",
       "      <td>0</td>\n",
       "      <td>8.0</td>\n",
       "      <td>30.0000</td>\n",
       "      <td>60.0</td>\n",
       "      <td>0.0</td>\n",
       "    </tr>\n",
       "    <tr>\n",
       "      <th>890</th>\n",
       "      <td>891</td>\n",
       "      <td>3</td>\n",
       "      <td>220.0</td>\n",
       "      <td>1.0</td>\n",
       "      <td>32.000000</td>\n",
       "      <td>0</td>\n",
       "      <td>0</td>\n",
       "      <td>466.0</td>\n",
       "      <td>7.7500</td>\n",
       "      <td>47.0</td>\n",
       "      <td>1.0</td>\n",
       "    </tr>\n",
       "  </tbody>\n",
       "</table>\n",
       "<p>891 rows × 11 columns</p>\n",
       "</div>"
      ],
      "text/plain": [
       "     PassengerId  Pclass   Name  Sex        Age  SibSp  Parch  Ticket  \\\n",
       "0              1       3  108.0  1.0  22.000000      1      0   523.0   \n",
       "1              2       1  190.0  0.0  38.000000      1      0   596.0   \n",
       "2              3       3  353.0  0.0  26.000000      0      0   669.0   \n",
       "3              4       1  272.0  0.0  35.000000      1      0    49.0   \n",
       "4              5       3   15.0  1.0  35.000000      0      0   472.0   \n",
       "..           ...     ...    ...  ...        ...    ...    ...     ...   \n",
       "886          887       2  548.0  1.0  27.000000      0      0   101.0   \n",
       "887          888       1  303.0  0.0  19.000000      0      0    14.0   \n",
       "888          889       3  413.0  0.0  29.699118      1      2   675.0   \n",
       "889          890       1   81.0  1.0  26.000000      0      0     8.0   \n",
       "890          891       3  220.0  1.0  32.000000      0      0   466.0   \n",
       "\n",
       "        Fare  Cabin  Embarked  \n",
       "0     7.2500   47.0       2.0  \n",
       "1    71.2833   81.0       0.0  \n",
       "2     7.9250   47.0       2.0  \n",
       "3    53.1000   55.0       2.0  \n",
       "4     8.0500   47.0       2.0  \n",
       "..       ...    ...       ...  \n",
       "886  13.0000   47.0       2.0  \n",
       "887  30.0000   30.0       2.0  \n",
       "888  23.4500   47.0       2.0  \n",
       "889  30.0000   60.0       0.0  \n",
       "890   7.7500   47.0       1.0  \n",
       "\n",
       "[891 rows x 11 columns]"
      ]
     },
     "execution_count": 43,
     "metadata": {},
     "output_type": "execute_result"
    }
   ],
   "source": [
    "x"
   ]
  },
  {
   "cell_type": "code",
   "execution_count": 44,
   "id": "59d17a3f",
   "metadata": {
    "execution": {
     "iopub.execute_input": "2023-11-28T04:21:00.179386Z",
     "iopub.status.busy": "2023-11-28T04:21:00.178944Z",
     "iopub.status.idle": "2023-11-28T04:21:00.187754Z",
     "shell.execute_reply": "2023-11-28T04:21:00.186661Z"
    },
    "papermill": {
     "duration": 0.037137,
     "end_time": "2023-11-28T04:21:00.190260",
     "exception": false,
     "start_time": "2023-11-28T04:21:00.153123",
     "status": "completed"
    },
    "tags": []
   },
   "outputs": [
    {
     "data": {
      "text/plain": [
       "0      0\n",
       "1      1\n",
       "2      1\n",
       "3      1\n",
       "4      0\n",
       "      ..\n",
       "886    0\n",
       "887    1\n",
       "888    0\n",
       "889    1\n",
       "890    0\n",
       "Name: Survived, Length: 891, dtype: int64"
      ]
     },
     "execution_count": 44,
     "metadata": {},
     "output_type": "execute_result"
    }
   ],
   "source": [
    "y"
   ]
  },
  {
   "cell_type": "code",
   "execution_count": 45,
   "id": "91e37b60",
   "metadata": {
    "execution": {
     "iopub.execute_input": "2023-11-28T04:21:00.241384Z",
     "iopub.status.busy": "2023-11-28T04:21:00.240936Z",
     "iopub.status.idle": "2023-11-28T04:21:00.489679Z",
     "shell.execute_reply": "2023-11-28T04:21:00.488372Z"
    },
    "papermill": {
     "duration": 0.27802,
     "end_time": "2023-11-28T04:21:00.492788",
     "exception": false,
     "start_time": "2023-11-28T04:21:00.214768",
     "status": "completed"
    },
    "tags": []
   },
   "outputs": [],
   "source": [
    "from sklearn.linear_model import LogisticRegression"
   ]
  },
  {
   "cell_type": "code",
   "execution_count": 46,
   "id": "485d1fcd",
   "metadata": {
    "execution": {
     "iopub.execute_input": "2023-11-28T04:21:00.545145Z",
     "iopub.status.busy": "2023-11-28T04:21:00.544687Z",
     "iopub.status.idle": "2023-11-28T04:21:00.622977Z",
     "shell.execute_reply": "2023-11-28T04:21:00.621372Z"
    },
    "papermill": {
     "duration": 0.109153,
     "end_time": "2023-11-28T04:21:00.627678",
     "exception": false,
     "start_time": "2023-11-28T04:21:00.518525",
     "status": "completed"
    },
    "tags": []
   },
   "outputs": [],
   "source": [
    "lr=LogisticRegression().fit(x,y)"
   ]
  },
  {
   "cell_type": "code",
   "execution_count": 47,
   "id": "76d99611",
   "metadata": {
    "execution": {
     "iopub.execute_input": "2023-11-28T04:21:00.739193Z",
     "iopub.status.busy": "2023-11-28T04:21:00.738421Z",
     "iopub.status.idle": "2023-11-28T04:21:00.748234Z",
     "shell.execute_reply": "2023-11-28T04:21:00.747020Z"
    },
    "papermill": {
     "duration": 0.068488,
     "end_time": "2023-11-28T04:21:00.751484",
     "exception": false,
     "start_time": "2023-11-28T04:21:00.682996",
     "status": "completed"
    },
    "tags": []
   },
   "outputs": [
    {
     "data": {
      "text/plain": [
       "array([[ 6.73404615e-04, -2.36663212e-01,  2.18794242e-04,\n",
       "        -2.10440800e+00, -6.10929056e-03, -2.75788787e-01,\n",
       "         2.90979349e-01, -7.15812736e-04,  8.18117389e-03,\n",
       "         2.00524942e-02, -1.67196952e-01]])"
      ]
     },
     "execution_count": 47,
     "metadata": {},
     "output_type": "execute_result"
    }
   ],
   "source": [
    "lr.coef_"
   ]
  },
  {
   "cell_type": "code",
   "execution_count": 48,
   "id": "f0c58356",
   "metadata": {
    "execution": {
     "iopub.execute_input": "2023-11-28T04:21:00.803861Z",
     "iopub.status.busy": "2023-11-28T04:21:00.803044Z",
     "iopub.status.idle": "2023-11-28T04:21:00.810029Z",
     "shell.execute_reply": "2023-11-28T04:21:00.808580Z"
    },
    "papermill": {
     "duration": 0.03682,
     "end_time": "2023-11-28T04:21:00.812852",
     "exception": false,
     "start_time": "2023-11-28T04:21:00.776032",
     "status": "completed"
    },
    "tags": []
   },
   "outputs": [
    {
     "data": {
      "text/plain": [
       "array([0.22198045])"
      ]
     },
     "execution_count": 48,
     "metadata": {},
     "output_type": "execute_result"
    }
   ],
   "source": [
    "lr.intercept_"
   ]
  },
  {
   "cell_type": "code",
   "execution_count": 49,
   "id": "e81af600",
   "metadata": {
    "execution": {
     "iopub.execute_input": "2023-11-28T04:21:00.866302Z",
     "iopub.status.busy": "2023-11-28T04:21:00.865835Z",
     "iopub.status.idle": "2023-11-28T04:21:00.873811Z",
     "shell.execute_reply": "2023-11-28T04:21:00.872628Z"
    },
    "papermill": {
     "duration": 0.037863,
     "end_time": "2023-11-28T04:21:00.876219",
     "exception": false,
     "start_time": "2023-11-28T04:21:00.838356",
     "status": "completed"
    },
    "tags": []
   },
   "outputs": [],
   "source": [
    "predict=lr.predict(test)"
   ]
  },
  {
   "cell_type": "code",
   "execution_count": 50,
   "id": "56b9b32b",
   "metadata": {
    "execution": {
     "iopub.execute_input": "2023-11-28T04:21:00.929021Z",
     "iopub.status.busy": "2023-11-28T04:21:00.928219Z",
     "iopub.status.idle": "2023-11-28T04:21:00.937281Z",
     "shell.execute_reply": "2023-11-28T04:21:00.936043Z"
    },
    "papermill": {
     "duration": 0.038494,
     "end_time": "2023-11-28T04:21:00.940199",
     "exception": false,
     "start_time": "2023-11-28T04:21:00.901705",
     "status": "completed"
    },
    "tags": []
   },
   "outputs": [
    {
     "data": {
      "text/plain": [
       "array([0, 0, 0, 0, 1, 0, 1, 0, 1, 0, 0, 0, 1, 0, 1, 1, 0, 0, 0, 1, 0, 0,\n",
       "       1, 0, 1, 0, 1, 0, 0, 0, 0, 0, 1, 1, 0, 0, 0, 0, 0, 0, 0, 0, 0, 1,\n",
       "       1, 0, 0, 0, 1, 1, 0, 0, 1, 1, 0, 0, 0, 0, 0, 1, 0, 0, 0, 1, 1, 1,\n",
       "       1, 0, 0, 1, 1, 0, 0, 0, 1, 1, 0, 1, 0, 1, 0, 0, 0, 0, 0, 0, 1, 0,\n",
       "       1, 0, 0, 0, 1, 0, 0, 0, 1, 0, 0, 0, 1, 0, 0, 0, 1, 0, 0, 0, 0, 0,\n",
       "       0, 1, 1, 1, 1, 0, 0, 1, 0, 0, 1, 0, 1, 0, 0, 1, 0, 0, 0, 0, 0, 0,\n",
       "       1, 0, 0, 0, 0, 0, 0, 0, 0, 1, 1, 0, 0, 0, 0, 0, 0, 0, 1, 0, 0, 1,\n",
       "       0, 0, 1, 1, 0, 1, 1, 0, 1, 0, 0, 1, 0, 0, 1, 0, 0, 0, 0, 0, 0, 1,\n",
       "       1, 0, 1, 1, 0, 1, 1, 0, 1, 0, 1, 0, 0, 0, 0, 0, 0, 0, 0, 0, 1, 1,\n",
       "       0, 0, 1, 0, 1, 1, 0, 0, 1, 0, 1, 0, 0, 0, 0, 1, 0, 0, 1, 0, 1, 0,\n",
       "       1, 0, 1, 0, 1, 1, 0, 1, 0, 0, 0, 1, 0, 0, 0, 0, 0, 0, 1, 1, 1, 1,\n",
       "       1, 0, 0, 0, 1, 0, 1, 1, 1, 0, 1, 0, 0, 0, 0, 0, 1, 0, 0, 0, 1, 1,\n",
       "       0, 0, 0, 0, 0, 0, 0, 0, 1, 0, 0, 1, 0, 0, 0, 0, 1, 0, 1, 1, 1, 0,\n",
       "       0, 0, 0, 0, 0, 1, 0, 0, 0, 0, 1, 0, 0, 0, 0, 0, 0, 0, 1, 1, 1, 0,\n",
       "       0, 0, 0, 0, 0, 1, 1, 1, 0, 0, 0, 0, 0, 0, 0, 0, 1, 0, 1, 0, 0, 0,\n",
       "       1, 0, 0, 1, 0, 0, 0, 0, 0, 0, 0, 0, 1, 1, 0, 1, 0, 1, 0, 1, 1, 0,\n",
       "       0, 0, 1, 0, 1, 0, 0, 0, 0, 1, 1, 0, 1, 1, 0, 1, 1, 0, 0, 1, 0, 0,\n",
       "       1, 1, 0, 0, 0, 0, 0, 0, 1, 0, 0, 1, 0, 0, 0, 0, 0, 1, 0, 0, 0, 1,\n",
       "       0, 1, 0, 0, 1, 0, 1, 0, 0, 0, 0, 1, 1, 1, 1, 1, 1, 0, 1, 0, 0, 0])"
      ]
     },
     "execution_count": 50,
     "metadata": {},
     "output_type": "execute_result"
    }
   ],
   "source": [
    "predict"
   ]
  },
  {
   "cell_type": "code",
   "execution_count": 51,
   "id": "5ee4b9a8",
   "metadata": {
    "execution": {
     "iopub.execute_input": "2023-11-28T04:21:00.993810Z",
     "iopub.status.busy": "2023-11-28T04:21:00.992660Z",
     "iopub.status.idle": "2023-11-28T04:21:01.000382Z",
     "shell.execute_reply": "2023-11-28T04:21:00.999247Z"
    },
    "papermill": {
     "duration": 0.036945,
     "end_time": "2023-11-28T04:21:01.002834",
     "exception": false,
     "start_time": "2023-11-28T04:21:00.965889",
     "status": "completed"
    },
    "tags": []
   },
   "outputs": [
    {
     "data": {
      "text/plain": [
       "(418,)"
      ]
     },
     "execution_count": 51,
     "metadata": {},
     "output_type": "execute_result"
    }
   ],
   "source": [
    "predict.shape"
   ]
  },
  {
   "cell_type": "code",
   "execution_count": 52,
   "id": "8d794c21",
   "metadata": {
    "execution": {
     "iopub.execute_input": "2023-11-28T04:21:01.056204Z",
     "iopub.status.busy": "2023-11-28T04:21:01.055392Z",
     "iopub.status.idle": "2023-11-28T04:21:01.068242Z",
     "shell.execute_reply": "2023-11-28T04:21:01.067126Z"
    },
    "papermill": {
     "duration": 0.042811,
     "end_time": "2023-11-28T04:21:01.071012",
     "exception": false,
     "start_time": "2023-11-28T04:21:01.028201",
     "status": "completed"
    },
    "tags": []
   },
   "outputs": [],
   "source": [
    "submission=pd.read_csv(\"/kaggle/input/titanic/gender_submission.csv\")"
   ]
  },
  {
   "cell_type": "code",
   "execution_count": 53,
   "id": "fded1aec",
   "metadata": {
    "execution": {
     "iopub.execute_input": "2023-11-28T04:21:01.123534Z",
     "iopub.status.busy": "2023-11-28T04:21:01.123137Z",
     "iopub.status.idle": "2023-11-28T04:21:01.133014Z",
     "shell.execute_reply": "2023-11-28T04:21:01.131882Z"
    },
    "papermill": {
     "duration": 0.039001,
     "end_time": "2023-11-28T04:21:01.135397",
     "exception": false,
     "start_time": "2023-11-28T04:21:01.096396",
     "status": "completed"
    },
    "tags": []
   },
   "outputs": [
    {
     "data": {
      "text/html": [
       "<div>\n",
       "<style scoped>\n",
       "    .dataframe tbody tr th:only-of-type {\n",
       "        vertical-align: middle;\n",
       "    }\n",
       "\n",
       "    .dataframe tbody tr th {\n",
       "        vertical-align: top;\n",
       "    }\n",
       "\n",
       "    .dataframe thead th {\n",
       "        text-align: right;\n",
       "    }\n",
       "</style>\n",
       "<table border=\"1\" class=\"dataframe\">\n",
       "  <thead>\n",
       "    <tr style=\"text-align: right;\">\n",
       "      <th></th>\n",
       "      <th>PassengerId</th>\n",
       "      <th>Survived</th>\n",
       "    </tr>\n",
       "  </thead>\n",
       "  <tbody>\n",
       "    <tr>\n",
       "      <th>0</th>\n",
       "      <td>892</td>\n",
       "      <td>0</td>\n",
       "    </tr>\n",
       "    <tr>\n",
       "      <th>1</th>\n",
       "      <td>893</td>\n",
       "      <td>1</td>\n",
       "    </tr>\n",
       "    <tr>\n",
       "      <th>2</th>\n",
       "      <td>894</td>\n",
       "      <td>0</td>\n",
       "    </tr>\n",
       "    <tr>\n",
       "      <th>3</th>\n",
       "      <td>895</td>\n",
       "      <td>0</td>\n",
       "    </tr>\n",
       "    <tr>\n",
       "      <th>4</th>\n",
       "      <td>896</td>\n",
       "      <td>1</td>\n",
       "    </tr>\n",
       "  </tbody>\n",
       "</table>\n",
       "</div>"
      ],
      "text/plain": [
       "   PassengerId  Survived\n",
       "0          892         0\n",
       "1          893         1\n",
       "2          894         0\n",
       "3          895         0\n",
       "4          896         1"
      ]
     },
     "execution_count": 53,
     "metadata": {},
     "output_type": "execute_result"
    }
   ],
   "source": [
    "submission.head()"
   ]
  },
  {
   "cell_type": "code",
   "execution_count": 54,
   "id": "3d796b05",
   "metadata": {
    "execution": {
     "iopub.execute_input": "2023-11-28T04:21:01.188212Z",
     "iopub.status.busy": "2023-11-28T04:21:01.187772Z",
     "iopub.status.idle": "2023-11-28T04:21:01.195527Z",
     "shell.execute_reply": "2023-11-28T04:21:01.194260Z"
    },
    "papermill": {
     "duration": 0.03726,
     "end_time": "2023-11-28T04:21:01.198047",
     "exception": false,
     "start_time": "2023-11-28T04:21:01.160787",
     "status": "completed"
    },
    "tags": []
   },
   "outputs": [
    {
     "data": {
      "text/plain": [
       "(418, 2)"
      ]
     },
     "execution_count": 54,
     "metadata": {},
     "output_type": "execute_result"
    }
   ],
   "source": [
    "submission.shape"
   ]
  },
  {
   "cell_type": "code",
   "execution_count": 55,
   "id": "dbd11be6",
   "metadata": {
    "execution": {
     "iopub.execute_input": "2023-11-28T04:21:01.252258Z",
     "iopub.status.busy": "2023-11-28T04:21:01.251026Z",
     "iopub.status.idle": "2023-11-28T04:21:01.256923Z",
     "shell.execute_reply": "2023-11-28T04:21:01.255748Z"
    },
    "papermill": {
     "duration": 0.035864,
     "end_time": "2023-11-28T04:21:01.259620",
     "exception": false,
     "start_time": "2023-11-28T04:21:01.223756",
     "status": "completed"
    },
    "tags": []
   },
   "outputs": [],
   "source": [
    "submission[\"Survived\"]=predict"
   ]
  },
  {
   "cell_type": "code",
   "execution_count": 56,
   "id": "d1c510d4",
   "metadata": {
    "execution": {
     "iopub.execute_input": "2023-11-28T04:21:01.313476Z",
     "iopub.status.busy": "2023-11-28T04:21:01.313018Z",
     "iopub.status.idle": "2023-11-28T04:21:01.322679Z",
     "shell.execute_reply": "2023-11-28T04:21:01.321393Z"
    },
    "papermill": {
     "duration": 0.039948,
     "end_time": "2023-11-28T04:21:01.325406",
     "exception": false,
     "start_time": "2023-11-28T04:21:01.285458",
     "status": "completed"
    },
    "tags": []
   },
   "outputs": [],
   "source": [
    "submission.to_csv(\"submission.csv\",index=False)"
   ]
  }
 ],
 "metadata": {
  "kaggle": {
   "accelerator": "none",
   "dataSources": [
    {
     "databundleVersionId": 26502,
     "sourceId": 3136,
     "sourceType": "competition"
    }
   ],
   "dockerImageVersionId": 30587,
   "isGpuEnabled": false,
   "isInternetEnabled": true,
   "language": "python",
   "sourceType": "notebook"
  },
  "kernelspec": {
   "display_name": "Python 3",
   "language": "python",
   "name": "python3"
  },
  "language_info": {
   "codemirror_mode": {
    "name": "ipython",
    "version": 3
   },
   "file_extension": ".py",
   "mimetype": "text/x-python",
   "name": "python",
   "nbconvert_exporter": "python",
   "pygments_lexer": "ipython3",
   "version": "3.10.12"
  },
  "papermill": {
   "default_parameters": {},
   "duration": 10.956393,
   "end_time": "2023-11-28T04:21:01.977945",
   "environment_variables": {},
   "exception": null,
   "input_path": "__notebook__.ipynb",
   "output_path": "__notebook__.ipynb",
   "parameters": {},
   "start_time": "2023-11-28T04:20:51.021552",
   "version": "2.4.0"
  }
 },
 "nbformat": 4,
 "nbformat_minor": 5
}
